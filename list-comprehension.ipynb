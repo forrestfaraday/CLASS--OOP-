{
 "cells": [
  {
   "cell_type": "code",
   "execution_count": null,
   "metadata": {},
   "outputs": [],
   "source": [
    "# list comprehension nedir?\n",
    "# list comprehension nasıl kullanılır?\n",
    "# list comprehension örnekleri\n",
    "# list comprehension: for döngüsü ile aynı işi yapar. Fakat daha kısa ve daha hızlıdır.\n"
   ]
  },
  {
   "cell_type": "code",
   "execution_count": 3,
   "metadata": {},
   "outputs": [
    {
     "name": "stdout",
     "output_type": "stream",
     "text": [
      "1 4 9 16 25 36 49 64 81 100\n"
     ]
    }
   ],
   "source": [
    "örnek_liste = [1,2,3,4,5,6,7,8,9,10]\n",
    "# for döngüsü ile her bir elemanın karesini alalım\n",
    "\n"
   ]
  },
  {
   "cell_type": "code",
   "execution_count": 53,
   "metadata": {},
   "outputs": [
    {
     "name": "stdout",
     "output_type": "stream",
     "text": [
      "[1, 4, 9, 16, 25, 36, 49, 64, 81, 100]\n"
     ]
    }
   ],
   "source": [
    "kareleri_listesi = []\n",
    "for i in örnek_liste:\n",
    "    kareleri_listesi.append(i**2)\n",
    "print(kareleri_listesi)"
   ]
  },
  {
   "cell_type": "code",
   "execution_count": 54,
   "metadata": {},
   "outputs": [
    {
     "name": "stdout",
     "output_type": "stream",
     "text": [
      "[1, 4, 9, 16, 25, 36, 49, 64, 81, 100]\n"
     ]
    }
   ],
   "source": [
    "kareleri_listesi = [i**2 for i in örnek_liste]\n",
    "print(kareleri_listesi)"
   ]
  },
  {
   "cell_type": "code",
   "execution_count": 55,
   "metadata": {},
   "outputs": [
    {
     "name": "stdout",
     "output_type": "stream",
     "text": [
      "[2, 4, 6, 8, 10]\n"
     ]
    }
   ],
   "source": [
    "# liste içindeki çift sayıları alalım\n",
    "# for döngüsü ile çift sayıları alalım\n",
    "çift_sayılar = []\n",
    "for i in örnek_liste:\n",
    "    if i%2==0:\n",
    "        çift_sayılar.append(i)\n",
    "print(çift_sayılar)\n"
   ]
  },
  {
   "cell_type": "code",
   "execution_count": 56,
   "metadata": {},
   "outputs": [
    {
     "name": "stdout",
     "output_type": "stream",
     "text": [
      "[2, 4, 6, 8, 10]\n"
     ]
    }
   ],
   "source": [
    "# list comprehension ile çift sayıları alalım\n",
    "çift_sayılar = [i for i in örnek_liste if i%2==0]\n",
    "print(çift_sayılar)"
   ]
  },
  {
   "cell_type": "code",
   "execution_count": 57,
   "metadata": {},
   "outputs": [
    {
     "name": "stdout",
     "output_type": "stream",
     "text": [
      "[8, 64, 216, 512, 1000]\n"
     ]
    }
   ],
   "source": [
    "# list comprehension ile çift sayıların küplerini alalım\n",
    "çift_sayıların_küpleri = [i**3 for i in örnek_liste if i%2==0]\n",
    "print(çift_sayıların_küpleri)"
   ]
  },
  {
   "cell_type": "code",
   "execution_count": 29,
   "metadata": {},
   "outputs": [],
   "source": [
    "# list comprehension ile 5'ten büyük ve tek sayıların karelerini alalım\n",
    "çift_sayıların_küpleri = [i**2 for i in örnek_liste if i%2!=0 and i>5]"
   ]
  },
  {
   "cell_type": "code",
   "execution_count": 58,
   "metadata": {},
   "outputs": [
    {
     "name": "stdout",
     "output_type": "stream",
     "text": [
      "tek çift tek çift tek çift tek çift tek çift\n"
     ]
    }
   ],
   "source": [
    "# list comprehension ile if else kullanımı\n",
    "örnek_liste = [1,2,3,4,5,6,7,8,9,10]\n",
    "tek_çift = [\"çift\"if i%2==0 else 'tek' for i in örnek_liste]\n",
    "print(*tek_çift)"
   ]
  },
  {
   "cell_type": "code",
   "execution_count": 60,
   "metadata": {},
   "outputs": [
    {
     "name": "stdout",
     "output_type": "stream",
     "text": [
      "[1, 2, 3, 4, 5, 6, 7, 8, 9]\n"
     ]
    }
   ],
   "source": [
    "# iç içe for döngüsü ile list comprehension\n",
    "# nested list flattening with for loop\n",
    "nested_list = [[1,2,3],[4,5,6],[7,8,9]]\n",
    "flattened_list = []\n",
    "for i in nested_list:\n",
    "    for j in i:\n",
    "        flattened_list.append(j)\n",
    "print(flattened_list)"
   ]
  },
  {
   "cell_type": "code",
   "execution_count": 61,
   "metadata": {},
   "outputs": [
    {
     "name": "stdout",
     "output_type": "stream",
     "text": [
      "1 2 3 4 5 6 7 8 9\n"
     ]
    }
   ],
   "source": [
    "# neste list flattening\n",
    "nested_list = [[1,2,3],[4,5,6],[7,8,9]]\n",
    "flattened_list = [i for j in nested_list for i in j]\n",
    "print(*flattened_list)"
   ]
  },
  {
   "cell_type": "code",
   "execution_count": 62,
   "metadata": {},
   "outputs": [
    {
     "name": "stdout",
     "output_type": "stream",
     "text": [
      "2 4 6 8\n"
     ]
    }
   ],
   "source": [
    "# iç içe liste içerisinden çift sayıları alalım\n",
    "# for döngüsü ile\n",
    "nested_list = [[1,2,3],[4,5,6],[7,8,9]]\n",
    "çift_sayılar = []\n",
    "for i in nested_list:\n",
    "    for j in i:\n",
    "        if j%2==0:\n",
    "            çift_sayılar.append(j)\n",
    "print(*çift_sayılar)"
   ]
  },
  {
   "cell_type": "code",
   "execution_count": 63,
   "metadata": {},
   "outputs": [
    {
     "name": "stdout",
     "output_type": "stream",
     "text": [
      "2 4 6 8\n"
     ]
    }
   ],
   "source": [
    "# aynı işlemi list comprehension ile yapalım\n",
    "nested_list = [[1,2,3],[4,5,6],[7,8,9]]\n",
    "çift_sayılar = [j for i in nested_list for j in i if j%2==0]\n",
    "print(*çift_sayılar)"
   ]
  },
  {
   "cell_type": "code",
   "execution_count": 64,
   "metadata": {},
   "outputs": [
    {
     "name": "stdout",
     "output_type": "stream",
     "text": [
      "tek çift tek çift tek çift tek çift tek\n"
     ]
    }
   ],
   "source": [
    "# iç içe liste elemanlarını düzleştirip tek çift olarak yazdıralım\n",
    "\n",
    "nested_list = [[1,2,3],[4,5,6],[7,8,9]]\n",
    "tek_çift = [\"çift\" if j%2==0 else \"tek\" for i in nested_list for j in i]\n",
    "print(*tek_çift)"
   ]
  },
  {
   "cell_type": "code",
   "execution_count": 65,
   "metadata": {},
   "outputs": [
    {
     "name": "stdout",
     "output_type": "stream",
     "text": [
      "[['tek', 'çift', 'tek'], ['çift', 'tek', 'çift'], ['tek', 'çift', 'tek']]\n"
     ]
    }
   ],
   "source": [
    "# iç içe list comprehension ile if else kullanımı\n",
    "nested_list = [[1,2,3],[4,5,6],[7,8,9]]\n",
    "tek_çift = [['tek' if j%2 else 'çift' for j in i] for i in nested_list]\n",
    "print(tek_çift)"
   ]
  },
  {
   "cell_type": "code",
   "execution_count": null,
   "metadata": {},
   "outputs": [],
   "source": []
  }
 ],
 "metadata": {
  "kernelspec": {
   "display_name": "Python 3",
   "language": "python",
   "name": "python3"
  },
  "language_info": {
   "codemirror_mode": {
    "name": "ipython",
    "version": 3
   },
   "file_extension": ".py",
   "mimetype": "text/x-python",
   "name": "python",
   "nbconvert_exporter": "python",
   "pygments_lexer": "ipython3",
   "version": "3.10.6"
  },
  "orig_nbformat": 4
 },
 "nbformat": 4,
 "nbformat_minor": 2
}
