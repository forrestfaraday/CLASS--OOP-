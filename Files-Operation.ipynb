{
 "cells": [
  {
   "attachments": {},
   "cell_type": "markdown",
   "metadata": {},
   "source": [
    "Python ile Dosya işlemleri (Files Operation)\n",
    "Dosyalar ile çalışma\n",
    "Birinci kısım: Dosyaları açma ve kapatma\n",
    "Dosyaları açmak için open() fonksiyonunu kullanırız. Bu fonksiyonun iki parametresi vardır. İlk parametre dosya adı, ikinci parametre ise açma modudur. Açma modları şunlardır:\n",
    "r: Sadece okuma modu\n",
    "w: Sadece yazma modu\n",
    "a: Dosyanın sonuna ekleme modu\n",
    "r+: Okuma ve yazma modu\n",
    "w+: Dosyanın üzerine yazma modu\n",
    "a+: Dosyanın sonuna ekleme modu\n",
    "b: Binary modu\n",
    "\n",
    "Dosyaları kapatmak için close() fonksyionunu kullanırız.\n",
    "\n",
    "Dosyaları okuma methodları\n",
    "read(): Dosyanın tamamını okur.\n",
    "readline(): Dosyanın bir satırını okur.\n",
    "readlines(): Dosyanın tüm satırlarını okur.\n"
   ]
  },
  {
   "cell_type": "code",
   "execution_count": 2,
   "metadata": {},
   "outputs": [
    {
     "name": "stdout",
     "output_type": "stream",
     "text": [
      "Kolay Okunabilirlik ve Sadelik\n",
      "Python, okunması ve anlaşılması kolay olan bir dildir. Bu dil, insan diline yakın bir söz dizimine sahiptir ve açık bir yapıya sahiptir. Yani, başka bir Python programcısının yazdığı kodları kolayca anlayabilirsiniz.\n",
      "\n",
      "Ayrıca, Python'un basit ve sade söz dizimi, programcıların hızlı bir şekilde kod yazmalarını sağlar. Kodun anlaşılması ve yazılması daha kolay olduğundan, programcılar daha az zaman harcayarak daha fazla iş yapabilirler.\n",
      "\n",
      "Çok Yönlülük\n",
      "Python, birçok farklı alanda kullanılabilen bir dil olarak tanınır. Veri bilimi, yapay zeka, makine öğrenmesi, web geliştirme, otomasyon ve daha pek çok alanda kullanılabilir.\n",
      "\n",
      "Python, çeşitli kütüphaneleri ve modülleri ile birlikte gelir. Bu kütüphaneler, birçok farklı alanda kullanılabilecek araçlar sunar ve Python'u daha da çok yönlü bir hale getirir.\n",
      "\n",
      "Büyük Topluluk ve Kapsamlı Belgelendirme\n",
      "Python'un en büyük avantajlarından biri, dünya çapında büyük bir topluluğa sahip olmasıdır. Bu topluluk, Python'u kullanan programcılara yardımcı olmak için birçok kaynak sunar. Ayrıca, Python'un kapsamlı bir belgelendirmesi vardır ve programcılar, ihtiyaç duydukları herhangi bir konuda bilgi edinmek için belgelendirmeyi kullanabilirler.\n",
      "\n",
      "Ücretsiz ve Açık Kaynaklı\n",
      "Python, ücretsiz ve açık kaynaklı bir dildir. Bu, programcıların Python'u kullanarak projelerine başlamaları için herhangi bir ücret ödemelerine gerek olmadığı anlamına gelir. Python, tüm dünyadaki programcılar tarafından geliştirilmeye açıktır ve bu da Python topluluğunun büyümesine ve gelişmesine katkıda bulunur.\n",
      "\n",
      "Sonuç\n",
      "Python, kolay okunabilirlik, çok yönlülük, büyük topluluk ve kapsamlı belgelendirme, ücretsiz ve açık kaynaklı olma gibi birçok avantajıyla öne çıkar. Bu nedenle, Python son yıllarda birçok farklı alanda kullanılan en popüler dillerden biri haline gelmiştir.\n",
      "\n"
     ]
    }
   ],
   "source": [
    "f = open(\"Advantage of Python.txt\", \"r\")\n",
    "içerik = f.read()\n",
    "print(içerik)\n",
    "f.close() # Dosyayı kapatmak için. hafıza problemlerinden kaçınmak için."
   ]
  },
  {
   "attachments": {},
   "cell_type": "markdown",
   "metadata": {},
   "source": [
    "f = open(file_path, mode)\n",
    "\n",
    "Open fonkiyonu temel olarak içine dosya yolunu ve dosyayı açmak istediğimiz modu alıyor\n",
    "\n",
    "mode = \"r\" # read\n",
    "\n",
    "mode = \"w\" # write\n",
    "\n",
    "mode = \"a\" # append\n",
    "\n",
    "mode = \"r+\" # read and write\n",
    "\n",
    "mode = \"w+\" # write and read\n",
    "\n",
    "mode = \"a+\" # append and read\n"
   ]
  },
  {
   "cell_type": "code",
   "execution_count": 3,
   "metadata": {},
   "outputs": [
    {
     "ename": "FileNotFoundError",
     "evalue": "[Errno 2] No such file or directory: 'mevcut olmayan dosya :)'",
     "output_type": "error",
     "traceback": [
      "\u001b[0;31m---------------------------------------------------------------------------\u001b[0m",
      "\u001b[0;31mFileNotFoundError\u001b[0m                         Traceback (most recent call last)",
      "Cell \u001b[0;32mIn[3], line 2\u001b[0m\n\u001b[1;32m      1\u001b[0m \u001b[39m# r parametresi dosyayı okumak için kullanılır. Olmayan bir dosyayı okumaya çalışırsak hata alırız.\u001b[39;00m\n\u001b[0;32m----> 2\u001b[0m f \u001b[39m=\u001b[39m \u001b[39mopen\u001b[39;49m(\u001b[39m\"\u001b[39;49m\u001b[39mmevcut olmayan dosya :)\u001b[39;49m\u001b[39m\"\u001b[39;49m, \u001b[39m\"\u001b[39;49m\u001b[39mr\u001b[39;49m\u001b[39m\"\u001b[39;49m)\n\u001b[1;32m      3\u001b[0m f\u001b[39m.\u001b[39mread()\n\u001b[1;32m      4\u001b[0m f\u001b[39m.\u001b[39mclose()\n",
      "File \u001b[0;32m~/.local/lib/python3.10/site-packages/IPython/core/interactiveshell.py:284\u001b[0m, in \u001b[0;36m_modified_open\u001b[0;34m(file, *args, **kwargs)\u001b[0m\n\u001b[1;32m    277\u001b[0m \u001b[39mif\u001b[39;00m file \u001b[39min\u001b[39;00m {\u001b[39m0\u001b[39m, \u001b[39m1\u001b[39m, \u001b[39m2\u001b[39m}:\n\u001b[1;32m    278\u001b[0m     \u001b[39mraise\u001b[39;00m \u001b[39mValueError\u001b[39;00m(\n\u001b[1;32m    279\u001b[0m         \u001b[39mf\u001b[39m\u001b[39m\"\u001b[39m\u001b[39mIPython won\u001b[39m\u001b[39m'\u001b[39m\u001b[39mt let you open fd=\u001b[39m\u001b[39m{\u001b[39;00mfile\u001b[39m}\u001b[39;00m\u001b[39m by default \u001b[39m\u001b[39m\"\u001b[39m\n\u001b[1;32m    280\u001b[0m         \u001b[39m\"\u001b[39m\u001b[39mas it is likely to crash IPython. If you know what you are doing, \u001b[39m\u001b[39m\"\u001b[39m\n\u001b[1;32m    281\u001b[0m         \u001b[39m\"\u001b[39m\u001b[39myou can use builtins\u001b[39m\u001b[39m'\u001b[39m\u001b[39m open.\u001b[39m\u001b[39m\"\u001b[39m\n\u001b[1;32m    282\u001b[0m     )\n\u001b[0;32m--> 284\u001b[0m \u001b[39mreturn\u001b[39;00m io_open(file, \u001b[39m*\u001b[39;49margs, \u001b[39m*\u001b[39;49m\u001b[39m*\u001b[39;49mkwargs)\n",
      "\u001b[0;31mFileNotFoundError\u001b[0m: [Errno 2] No such file or directory: 'mevcut olmayan dosya :)'"
     ]
    }
   ],
   "source": [
    "# r parametresi dosyayı okumak için kullanılır. Olmayan bir dosyayı okumaya çalışırsak hata alırız.\n",
    "f = open(\"mevcut olmayan dosya :)\", \"r\")\n",
    "f.read()\n",
    "f.close()"
   ]
  },
  {
   "attachments": {},
   "cell_type": "markdown",
   "metadata": {},
   "source": [
    "arkadaşarl hata kodlarını okumak ve anlamak çok önemli. \n",
    "\n",
    "Bu sayede nerede hata yaptığımızı anlayabiliriz."
   ]
  },
  {
   "cell_type": "code",
   "execution_count": 10,
   "metadata": {},
   "outputs": [
    {
     "name": "stdout",
     "output_type": "stream",
     "text": [
      "Kolay Okunabilirlik ve Sadelik\n",
      "Python, okunması ve anlaşılması kolay olan bir dildir. Bu dil, insan diline yakın bir söz dizimine sahiptir ve açık bir yapıya sahiptir. Yani, başka bir Python programcısının yazdığı kodları kolayca anlayabilirsiniz.\n",
      "\n",
      "Ayrıca, Python'un basit ve sade söz dizimi, programcıların hızlı bir şekilde kod yazmalarını sağlar. Kodun anlaşılması ve yazılması daha kolay olduğundan, programcılar daha az zaman harcayarak daha fazla iş yapabilirler.\n",
      "\n",
      "Çok Yönlülük\n",
      "Python, birçok farklı alanda kullanılabilen bir dil olarak tanınır. Veri bilimi, yapay zeka, makine öğrenmesi, web geliştirme, otomasyon ve daha pek çok alanda kullanılabilir.\n",
      "\n",
      "Python, çeşitli kütüphaneleri ve modülleri ile birlikte gelir. Bu kütüphaneler, birçok farklı alanda kullanılabilecek araçlar sunar ve Python'u daha da çok yönlü bir hale getirir.\n",
      "\n",
      "Büyük Topluluk ve Kapsamlı Belgelendirme\n",
      "Python'un en büyük avantajlarından biri, dünya çapında büyük bir topluluğa sahip olmasıdır. Bu topluluk, Python'u kullanan programcılara yardımcı olmak için birçok kaynak sunar. Ayrıca, Python'un kapsamlı bir belgelendirmesi vardır ve programcılar, ihtiyaç duydukları herhangi bir konuda bilgi edinmek için belgelendirmeyi kullanabilirler.\n",
      "\n",
      "Ücretsiz ve Açık Kaynaklı\n",
      "Python, ücretsiz ve açık kaynaklı bir dildir. Bu, programcıların Python'u kullanarak projelerine başlamaları için herhangi bir ücret ödemelerine gerek olmadığı anlamına gelir. Python, tüm dünyadaki programcılar tarafından geliştirilmeye açıktır ve bu da Python topluluğunun büyümesine ve gelişmesine katkıda bulunur.\n",
      "\n",
      "Sonuç\n",
      "Python, kolay okunabilirlik, çok yönlülük, büyük topluluk ve kapsamlı belgelendirme, ücretsiz ve açık kaynaklı olma gibi birçok avantajıyla öne çıkar. Bu nedenle, Python son yıllarda birçok farklı alanda kullanılan en popüler dillerden biri haline gelmiştir.\n",
      "\n"
     ]
    }
   ],
   "source": [
    "# şimdi farklı dillere göre karakter kodlamalarını görelim.\n",
    "f = open(\"Advantage of Python.txt\", \"r\", encoding=\"utf-8\")\n",
    "içerik = f.read()\n",
    "print(içerik)\n",
    "f.close()"
   ]
  },
  {
   "cell_type": "code",
   "execution_count": 10,
   "metadata": {},
   "outputs": [
    {
     "name": "stdout",
     "output_type": "stream",
     "text": [
      "Kolay Okunabilirlik ve Sadelik\n",
      "Python, okunmasÄ± ve anlaÅÄ±lmasÄ± kolay olan bir dildir. Bu dil, insan diline yakÄ±n bir sÃ¶z dizimine sahiptir ve aÃ§Ä±k bir yapÄ±ya sahiptir. Yani, baÅka bir Python programcÄ±sÄ±nÄ±n yazdÄ±ÄÄ± kodlarÄ± kolayca anlayabilirsiniz.\n",
      "\n",
      "AyrÄ±ca, Python'un basit ve sade sÃ¶z dizimi, programcÄ±larÄ±n hÄ±zlÄ± bir Åekilde kod yazmalarÄ±nÄ± saÄlar. Kodun anlaÅÄ±lmasÄ± ve yazÄ±lmasÄ± daha kolay olduÄundan, programcÄ±lar daha az zaman harcayarak daha fazla iÅ yapabilirler.\n",
      "\n",
      "Ãok YÃ¶nlÃ¼lÃ¼k\n",
      "Python, birÃ§ok farklÄ± alanda kullanÄ±labilen bir dil olarak tanÄ±nÄ±r. Veri bilimi, yapay zeka, makine Ã¶Ärenmesi, web geliÅtirme, otomasyon ve daha pek Ã§ok alanda kullanÄ±labilir.\n",
      "\n",
      "Python, Ã§eÅitli kÃ¼tÃ¼phaneleri ve modÃ¼lleri ile birlikte gelir. Bu kÃ¼tÃ¼phaneler, birÃ§ok farklÄ± alanda kullanÄ±labilecek araÃ§lar sunar ve Python'u daha da Ã§ok yÃ¶nlÃ¼ bir hale getirir.\n",
      "\n",
      "BÃ¼yÃ¼k Topluluk ve KapsamlÄ± Belgelendirme\n",
      "Python'un en bÃ¼yÃ¼k avantajlarÄ±ndan biri, dÃ¼nya Ã§apÄ±nda bÃ¼yÃ¼k bir topluluÄa sahip olmasÄ±dÄ±r. Bu topluluk, Python'u kullanan programcÄ±lara yardÄ±mcÄ± olmak iÃ§in birÃ§ok kaynak sunar. AyrÄ±ca, Python'un kapsamlÄ± bir belgelendirmesi vardÄ±r ve programcÄ±lar, ihtiyaÃ§ duyduklarÄ± herhangi bir konuda bilgi edinmek iÃ§in belgelendirmeyi kullanabilirler.\n",
      "\n",
      "Ãcretsiz ve AÃ§Ä±k KaynaklÄ±\n",
      "Python, Ã¼cretsiz ve aÃ§Ä±k kaynaklÄ± bir dildir. Bu, programcÄ±larÄ±n Python'u kullanarak projelerine baÅlamalarÄ± iÃ§in herhangi bir Ã¼cret Ã¶demelerine gerek olmadÄ±ÄÄ± anlamÄ±na gelir. Python, tÃ¼m dÃ¼nyadaki programcÄ±lar tarafÄ±ndan geliÅtirilmeye aÃ§Ä±ktÄ±r ve bu da Python topluluÄunun bÃ¼yÃ¼mesine ve geliÅmesine katkÄ±da bulunur.\n",
      "\n",
      "SonuÃ§\n",
      "Python, kolay okunabilirlik, Ã§ok yÃ¶nlÃ¼lÃ¼k, bÃ¼yÃ¼k topluluk ve kapsamlÄ± belgelendirme, Ã¼cretsiz ve aÃ§Ä±k kaynaklÄ± olma gibi birÃ§ok avantajÄ±yla Ã¶ne Ã§Ä±kar. Bu nedenle, Python son yÄ±llarda birÃ§ok farklÄ± alanda kullanÄ±lan en popÃ¼ler dillerden biri haline gelmiÅtir.\n",
      "\n"
     ]
    }
   ],
   "source": [
    "f = open(\"Advantage of Python.txt\", \"r\", encoding=\"latin-1\")\n",
    "içerik = f.read()\n",
    "print(içerik)\n",
    "f.close()"
   ]
  },
  {
   "cell_type": "code",
   "execution_count": 11,
   "metadata": {},
   "outputs": [
    {
     "name": "stdout",
     "output_type": "stream",
     "text": [
      "Kolay Okun\n",
      "abilirlik \n",
      "Kolay Okunabilirlik \n"
     ]
    }
   ],
   "source": [
    "# dosyayı karakter karakter okumak için read() içine parametre olarak bir integer vermemiz gerekir.\n",
    "# bu integer değer okunacak karakter sayısını belirtir.\n",
    "# read() fonksiyonu dosyanın sonuna geldiğinde boş bir string döndürür.\n",
    "\n",
    "\n",
    "f = open(\"Advantage of Python.txt\", \"r\")\n",
    "içerik = f.read(10) # ilk 10 karakteri okur.\n",
    "print(içerik)\n",
    "içerik = f.read(10) # 10 karakter daha okur.\n",
    "print(içerik)\n",
    "f.seek(0) # imleci dosyanın başına alır.\n",
    "içerik = f.read(20) # ilk 10 karakteri okur.\n",
    "print(içerik)\n",
    "f.close()"
   ]
  },
  {
   "cell_type": "code",
   "execution_count": 15,
   "metadata": {},
   "outputs": [
    {
     "name": "stdout",
     "output_type": "stream",
     "text": [
      "Kolay Okunabilirlik ve Sadelik\n",
      "Python, okunması ve anlaşılması kolay olan bir dildir. Bu dil, insan diline yakın bir söz dizimine sahiptir ve açık bir yapıya sahiptir. Yani, başka bir Python programcısının yazdığı kodları kolayca anlayabilirsiniz.\n",
      "\n",
      "Ayrıca, Python'un basit ve sade söz dizimi, programcıların hızlı bir şekilde kod yazmalarını sağlar. Kodun anlaşılması ve yazılması daha kolay olduğundan, programcılar daha az zaman harcayarak daha fazla iş yapabilirler.\n",
      "\n",
      "Çok Yönlülük\n",
      "Python, birçok farklı alanda kullanılabilen bir dil olarak tanınır. Veri bilimi, yapay zeka, makine öğrenmesi, web geliştirme, otomasyon ve daha pek çok alanda kullanılabilir.\n",
      "\n",
      "Python, çeşitli kütüphaneleri ve modülleri ile birlikte gelir. Bu kütüphaneler, birçok farklı alanda kullanılabilecek araçlar sunar ve Python'u daha da çok yönlü bir hale getirir.\n",
      "\n",
      "Büyük Topluluk ve Kapsamlı Belgelendirme\n",
      "Python'un en büyük avantajlarından biri, dünya çapında büyük bir topluluğa sahip olmasıdır. Bu topluluk, Python'u kullanan programcılara yardımcı olmak için birçok kaynak sunar. Ayrıca, Python'un kapsamlı bir belgelendirmesi vardır ve programcılar, ihtiyaç duydukları herhangi bir konuda bilgi edinmek için belgelendirmeyi kullanabilirler.\n",
      "\n",
      "Ücretsiz ve Açık Kaynaklı\n",
      "Python, ücretsiz ve açık kaynaklı bir dildir. Bu, programcıların Python'u kullanarak projelerine başlamaları için herhangi bir ücret ödemelerine gerek olmadığı anlamına gelir. Python, tüm dünyadaki programcılar tarafından geliştirilmeye açıktır ve bu da Python topluluğunun büyümesine ve gelişmesine katkıda bulunur.\n",
      "\n",
      "Sonuç\n",
      "Python, kolay okunabilirlik, çok yönlülük, büyük topluluk ve kapsamlı belgelendirme, ücretsiz ve açık kaynaklı olma gibi birçok avantajıyla öne çıkar. Bu nedenle, Python son yıllarda birçok farklı alanda kullanılan en popüler dillerden biri haline gelmiştir.\n",
      "\n"
     ]
    }
   ],
   "source": [
    "# f = open() syntax'ı ile dosya açtığımızda dosyayı kapatmak için f.close() komutunu kullanmamız gerekir.\n",
    "# fakat dosyayı kapatmayı unutursak dosya açık kalır ve bu da hafıza problemlerine yol açar.\n",
    "# bu yüzden dosyayı açarken with keyword'ünü kullanırsak dosyayı kapatmaya gerek kalmaz.\n",
    "with open(\"Advantage of Python.txt\", \"r\") as f:\n",
    "    içerik = f.read()\n",
    "print(içerik)"
   ]
  },
  {
   "cell_type": "code",
   "execution_count": 25,
   "metadata": {},
   "outputs": [
    {
     "name": "stdout",
     "output_type": "stream",
     "text": [
      "With kod bloğunun içi: False\n",
      "with kod bloğunun dışı: True\n"
     ]
    }
   ],
   "source": [
    "# with ile açılan dosyanın kapalı olup olmadığını kontrol edelim.\n",
    "with open(\"Advantage of Python.txt\", \"r\") as f:\n",
    "    içerik = f.read()\n",
    "    print(\"With kod bloğunun içi:\",f.closed)\n",
    "print(\"with kod bloğunun dışı:\",f.closed)"
   ]
  },
  {
   "cell_type": "code",
   "execution_count": 26,
   "metadata": {},
   "outputs": [
    {
     "name": "stdout",
     "output_type": "stream",
     "text": [
      "Kolay Okun\n"
     ]
    }
   ],
   "source": [
    "# note: mode parametresi default olarak \"r\" olarak ayarlanmıştır. Bu yüzden dosyayı açarken mode parametresini belirtmek zorunda değiliz.\n",
    "with open(\"Advantage of Python.txt\") as f:\n",
    "    içerik = f.read(100)\n",
    "print(içerik)\n"
   ]
  },
  {
   "cell_type": "code",
   "execution_count": 32,
   "metadata": {},
   "outputs": [
    {
     "name": "stdout",
     "output_type": "stream",
     "text": [
      "['Kolay Okunabilirlik ve Sadelik\\n', 'Python, okunması ve anlaşılması kolay olan bir dildir. Bu dil, insan diline yakın bir söz dizimine sahiptir ve açık bir yapıya sahiptir. Yani, başka bir Python programcısının yazdığı kodları kolayca anlayabilirsiniz.\\n', '\\n', \"Ayrıca, Python'un basit ve sade söz dizimi, programcıların hızlı bir şekilde kod yazmalarını sağlar. Kodun anlaşılması ve yazılması daha kolay olduğundan, programcılar daha az zaman harcayarak daha fazla iş yapabilirler.\\n\", '\\n', 'Çok Yönlülük\\n', 'Python, birçok farklı alanda kullanılabilen bir dil olarak tanınır. Veri bilimi, yapay zeka, makine öğrenmesi, web geliştirme, otomasyon ve daha pek çok alanda kullanılabilir.\\n', '\\n', \"Python, çeşitli kütüphaneleri ve modülleri ile birlikte gelir. Bu kütüphaneler, birçok farklı alanda kullanılabilecek araçlar sunar ve Python'u daha da çok yönlü bir hale getirir.\\n\", '\\n', 'Büyük Topluluk ve Kapsamlı Belgelendirme\\n', \"Python'un en büyük avantajlarından biri, dünya çapında büyük bir topluluğa sahip olmasıdır. Bu topluluk, Python'u kullanan programcılara yardımcı olmak için birçok kaynak sunar. Ayrıca, Python'un kapsamlı bir belgelendirmesi vardır ve programcılar, ihtiyaç duydukları herhangi bir konuda bilgi edinmek için belgelendirmeyi kullanabilirler.\\n\", '\\n', 'Ücretsiz ve Açık Kaynaklı\\n', \"Python, ücretsiz ve açık kaynaklı bir dildir. Bu, programcıların Python'u kullanarak projelerine başlamaları için herhangi bir ücret ödemelerine gerek olmadığı anlamına gelir. Python, tüm dünyadaki programcılar tarafından geliştirilmeye açıktır ve bu da Python topluluğunun büyümesine ve gelişmesine katkıda bulunur.\\n\", '\\n', 'Sonuç\\n', 'Python, kolay okunabilirlik, çok yönlülük, büyük topluluk ve kapsamlı belgelendirme, ücretsiz ve açık kaynaklı olma gibi birçok avantajıyla öne çıkar. Bu nedenle, Python son yıllarda birçok farklı alanda kullanılan en popüler dillerden biri haline gelmiştir.\\n']\n"
     ]
    }
   ],
   "source": [
    "# readlines() fonksiyonu dosyayı satır satır okur ve her bir satırı bir liste elemanı olarak döndürür.\n",
    "with open(\"Advantage of Python.txt\", \"r\") as f:\n",
    "    içerik = f.readlines()\n",
    "print(içerik)"
   ]
  },
  {
   "cell_type": "code",
   "execution_count": 51,
   "metadata": {},
   "outputs": [
    {
     "name": "stdout",
     "output_type": "stream",
     "text": [
      "Kolay Okunabilirlik ve Sadelik\n",
      "\n",
      "Python, okunması ve anlaşılması kolay olan bir dildir. Bu dil, insan diline yakın bir söz dizimine sahiptir ve açık bir yapıya sahiptir. Yani, başka bir Python programcısının yazdığı kodları kolayca anlayabilirsiniz.\n",
      "\n",
      "\n",
      "\n",
      "Ayrıca, Python'un basit ve sade söz dizimi, programcıların hızlı bir şekilde kod yazmalarını sağlar. Kodun anlaşılması ve yazılması daha kolay olduğundan, programcılar daha az zaman harcayarak daha fazla iş yapabilirler.\n",
      "\n",
      "\n",
      "\n",
      "Çok Yönlülük\n",
      "\n",
      "Python, birçok farklı alanda kullanılabilen bir dil olarak tanınır. Veri bilimi, yapay zeka, makine öğrenmesi, web geliştirme, otomasyon ve daha pek çok alanda kullanılabilir.\n",
      "\n",
      "\n",
      "\n",
      "Python, çeşitli kütüphaneleri ve modülleri ile birlikte gelir. Bu kütüphaneler, birçok farklı alanda kullanılabilecek araçlar sunar ve Python'u daha da çok yönlü bir hale getirir.\n",
      "\n",
      "\n",
      "\n",
      "Büyük Topluluk ve Kapsamlı Belgelendirme\n",
      "\n",
      "Python'un en büyük avantajlarından biri, dünya çapında büyük bir topluluğa sahip olmasıdır. Bu topluluk, Python'u kullanan programcılara yardımcı olmak için birçok kaynak sunar. Ayrıca, Python'un kapsamlı bir belgelendirmesi vardır ve programcılar, ihtiyaç duydukları herhangi bir konuda bilgi edinmek için belgelendirmeyi kullanabilirler.\n",
      "\n",
      "\n",
      "\n",
      "Ücretsiz ve Açık Kaynaklı\n",
      "\n",
      "Python, ücretsiz ve açık kaynaklı bir dildir. Bu, programcıların Python'u kullanarak projelerine başlamaları için herhangi bir ücret ödemelerine gerek olmadığı anlamına gelir. Python, tüm dünyadaki programcılar tarafından geliştirilmeye açıktır ve bu da Python topluluğunun büyümesine ve gelişmesine katkıda bulunur.\n",
      "\n",
      "\n",
      "\n",
      "Sonuç\n",
      "\n",
      "Python, kolay okunabilirlik, çok yönlülük, büyük topluluk ve kapsamlı belgelendirme, ücretsiz ve açık kaynaklı olma gibi birçok avantajıyla öne çıkar. Bu nedenle, Python son yıllarda birçok farklı alanda kullanılan en popüler dillerden biri haline gelmiştir.\n",
      "\n"
     ]
    }
   ],
   "source": [
    "# new line karakterini silmek için strip() fonksiyonunu kullanabiliriz.\n",
    "# new line karakterinin etkisini görmek for döngüsü ile içeriği yazdıralım.\n",
    "with open(\"Advantage of Python.txt\", \"r\") as f:\n",
    "    for i in f:\n",
    "        print(i)"
   ]
  },
  {
   "cell_type": "code",
   "execution_count": 52,
   "metadata": {},
   "outputs": [
    {
     "name": "stdout",
     "output_type": "stream",
     "text": [
      "Kolay Okunabilirlik ve Sadelik\n",
      "Python, okunması ve anlaşılması kolay olan bir dildir. Bu dil, insan diline yakın bir söz dizimine sahiptir ve açık bir yapıya sahiptir. Yani, başka bir Python programcısının yazdığı kodları kolayca anlayabilirsiniz.\n",
      "\n",
      "Ayrıca, Python'un basit ve sade söz dizimi, programcıların hızlı bir şekilde kod yazmalarını sağlar. Kodun anlaşılması ve yazılması daha kolay olduğundan, programcılar daha az zaman harcayarak daha fazla iş yapabilirler.\n",
      "\n",
      "Çok Yönlülük\n",
      "Python, birçok farklı alanda kullanılabilen bir dil olarak tanınır. Veri bilimi, yapay zeka, makine öğrenmesi, web geliştirme, otomasyon ve daha pek çok alanda kullanılabilir.\n",
      "\n",
      "Python, çeşitli kütüphaneleri ve modülleri ile birlikte gelir. Bu kütüphaneler, birçok farklı alanda kullanılabilecek araçlar sunar ve Python'u daha da çok yönlü bir hale getirir.\n",
      "\n",
      "Büyük Topluluk ve Kapsamlı Belgelendirme\n",
      "Python'un en büyük avantajlarından biri, dünya çapında büyük bir topluluğa sahip olmasıdır. Bu topluluk, Python'u kullanan programcılara yardımcı olmak için birçok kaynak sunar. Ayrıca, Python'un kapsamlı bir belgelendirmesi vardır ve programcılar, ihtiyaç duydukları herhangi bir konuda bilgi edinmek için belgelendirmeyi kullanabilirler.\n",
      "\n",
      "Ücretsiz ve Açık Kaynaklı\n",
      "Python, ücretsiz ve açık kaynaklı bir dildir. Bu, programcıların Python'u kullanarak projelerine başlamaları için herhangi bir ücret ödemelerine gerek olmadığı anlamına gelir. Python, tüm dünyadaki programcılar tarafından geliştirilmeye açıktır ve bu da Python topluluğunun büyümesine ve gelişmesine katkıda bulunur.\n",
      "\n",
      "Sonuç\n",
      "Python, kolay okunabilirlik, çok yönlülük, büyük topluluk ve kapsamlı belgelendirme, ücretsiz ve açık kaynaklı olma gibi birçok avantajıyla öne çıkar. Bu nedenle, Python son yıllarda birçok farklı alanda kullanılan en popüler dillerden biri haline gelmiştir.\n"
     ]
    }
   ],
   "source": [
    "# new line karakterini silmek için strip() fonksiyonunu kullanabiliriz.\n",
    "with open(\"Advantage of Python.txt\", \"r\") as f:\n",
    "    for i in f:\n",
    "        print(i.strip('\\n'))"
   ]
  },
  {
   "cell_type": "code",
   "execution_count": 50,
   "metadata": {},
   "outputs": [
    {
     "name": "stdout",
     "output_type": "stream",
     "text": [
      "Kolay Okunabilirlik ve Sadelik\n",
      "\n",
      "Python, okunması ve anlaşılması kolay olan bir dildir. Bu dil, insan diline yakın bir söz dizimine sahiptir ve açık bir yapıya sahiptir. Yani, başka bir Python programcısının yazdığı kodları kolayca anlayabilirsiniz.\n",
      "\n",
      "\n",
      "\n",
      "Ayrıca, Python'un basit ve sade söz dizimi, programcıların hızlı bir şekilde kod yazmalarını sağlar. Kodun anlaşılması ve yazılması daha kolay olduğundan, programcılar daha az zaman harcayarak daha fazla iş yapabilirler.\n",
      "\n"
     ]
    }
   ],
   "source": [
    "# readline() fonksiyonu dosyayı satır satır okur ve her bir satırı bir string olarak döndürür.\n",
    "# f.readline() metodu, açık bir dosyadan tek bir satırı okumak için kullanılır. \n",
    "# Dosya imleci, okunan satırın sonuna kadar hareket eder ve bir sonraki readline() çağrısında bir sonraki satır okunur.\n",
    "\n",
    "with open(\"Advantage of Python.txt\", \"r\") as f:\n",
    "    içerik = f.readline()\n",
    "    içerik_2 = f.readline()\n",
    "    içerik_3 = f.readline()\n",
    "    içerik_4 = f.readline()\n",
    "print(içerik)\n",
    "print(içerik_2)\n",
    "print(içerik_3)\n",
    "print(içerik_4)\n",
    "# içerik_3 newline a denk geliyor. newline karakteri bir satırın sonunu belirtir."
   ]
  },
  {
   "cell_type": "code",
   "execution_count": 53,
   "metadata": {},
   "outputs": [
    {
     "name": "stdout",
     "output_type": "stream",
     "text": [
      "505\n"
     ]
    }
   ],
   "source": [
    "# nerede bu imleç duruyor?\n",
    "# f.tell() fonksiyonu dosya imlecinin hangi byte'da olduğunu gösterir.\n",
    "# her karakter 1 byte yer kaplar.\n",
    "with open(\"Advantage of Python.txt\", \"r\") as f:\n",
    "    içerik = f.readline()\n",
    "    içerik_2 = f.readline()\n",
    "    içerik_3 = f.readline()\n",
    "    içerik_4 = f.readline()\n",
    "    print(f.tell())"
   ]
  },
  {
   "cell_type": "code",
   "execution_count": 54,
   "metadata": {},
   "outputs": [
    {
     "name": "stdout",
     "output_type": "stream",
     "text": [
      "10\n",
      "0\n",
      "10\n",
      "5\n",
      "15\n"
     ]
    }
   ],
   "source": [
    "# f.seek() fonksiyonuna tekrar bir göz atalım\n",
    "with    open(\"Advantage of Python.txt\", \"r\") as f:\n",
    "    içerik = f.read(10)\n",
    "    print(f.tell())\n",
    "    f.seek(0)\n",
    "    print(f.tell())\n",
    "    içerik_2 = f.read(10)\n",
    "    print(f.tell())\n",
    "    f.seek(5)\n",
    "    print(f.tell())\n",
    "    içerik_3 = f.read(10)\n",
    "    print(f.tell())"
   ]
  },
  {
   "cell_type": "code",
   "execution_count": 55,
   "metadata": {},
   "outputs": [],
   "source": [
    "# w yazma modu\n",
    "# w modu ile dosya açtığımızda dosya içeriği silinir ve dosya içeriği sadece yazdığımız şeylerden oluşur.\n",
    "# eğer dosya yoksa oluşturulur.\n",
    "with open(\"new_file.txt\", \"w\", encoding=\"utf-8\") as f:\n",
    "    f.write(\"Bu dosya w modu ile oluşturuldu.\")\n"
   ]
  },
  {
   "cell_type": "code",
   "execution_count": 89,
   "metadata": {},
   "outputs": [],
   "source": [
    "# w modu ile var olan bir dosyayı açtığımızda dosya içeriği silinir ve dosya içeriği sadece yazdığımız şeylerden oluşur.\n",
    "with open(\"new_file.txt\", \"w\", encoding=\"utf-8\") as f:\n",
    "    f.write(\"Dosya içeriği silindi. Son veriler eklendi.\")"
   ]
  },
  {
   "cell_type": "code",
   "execution_count": 90,
   "metadata": {},
   "outputs": [],
   "source": [
    "# a modu ekleme modu\n",
    "# a modu ile dosya açtığımızda dosya içeriği silinmez\n",
    "# dosya içeriğine yeni veriler eklenebilir.\n",
    "# dosya yoksa oluşturulur.\n",
    "with open(\"new_file.txt\", \"a\", encoding=\"utf-8\") as f:\n",
    "    f.write(\"\\nBu dosya a modu ile oluşturuldu.\")"
   ]
  },
  {
   "cell_type": "code",
   "execution_count": 91,
   "metadata": {},
   "outputs": [
    {
     "ename": "UnsupportedOperation",
     "evalue": "not readable",
     "output_type": "error",
     "traceback": [
      "\u001b[0;31m---------------------------------------------------------------------------\u001b[0m",
      "\u001b[0;31mUnsupportedOperation\u001b[0m                      Traceback (most recent call last)",
      "Cell \u001b[0;32mIn[91], line 3\u001b[0m\n\u001b[1;32m      1\u001b[0m \u001b[39m# a modu ile dosyayı açarsak okuma işlemi yapamayız.\u001b[39;00m\n\u001b[1;32m      2\u001b[0m \u001b[39mwith\u001b[39;00m \u001b[39mopen\u001b[39m(\u001b[39m\"\u001b[39m\u001b[39mnew_file.txt\u001b[39m\u001b[39m\"\u001b[39m, \u001b[39m\"\u001b[39m\u001b[39ma\u001b[39m\u001b[39m\"\u001b[39m, encoding\u001b[39m=\u001b[39m\u001b[39m\"\u001b[39m\u001b[39mutf-8\u001b[39m\u001b[39m\"\u001b[39m) \u001b[39mas\u001b[39;00m f:\n\u001b[0;32m----> 3\u001b[0m     f\u001b[39m.\u001b[39;49mread()\n",
      "\u001b[0;31mUnsupportedOperation\u001b[0m: not readable"
     ]
    }
   ],
   "source": [
    "# a modu ile dosyayı açarsak okuma işlemi yapamayız.\n",
    "with open(\"new_file.txt\", \"a\", encoding=\"utf-8\") as f:\n",
    "    f.read()"
   ]
  },
  {
   "cell_type": "code",
   "execution_count": 92,
   "metadata": {},
   "outputs": [
    {
     "name": "stdout",
     "output_type": "stream",
     "text": [
      "Dosya içeriği silindi. Son veriler eklendi.\n",
      "Bu dosya a modu ile oluşturuldu.\n",
      "Bu dosya r+ modu ile oluşturuldu.\n"
     ]
    }
   ],
   "source": [
    "# r+ modu hem okuma hem yazma modudur.\n",
    "# r+ modu ile dosya açtığımızda dosya içeriği silinmez\n",
    "# dosya içeriğine yeni veriler eklenebilir.\n",
    "# dosya yoksa oluşturulmaz.\n",
    "with open(\"new_file.txt\", \"r+\") as f:\n",
    "    içerik = f.read()\n",
    "    içerik += \"\\nBu dosya r+ modu ile oluşturuldu.\"\n",
    "    f.write(içerik)\n",
    "print(içerik)"
   ]
  },
  {
   "cell_type": "code",
   "execution_count": 63,
   "metadata": {},
   "outputs": [],
   "source": [
    "# bir dosyanın içeriğini yeni bir dosyaya kopyalayalım.\n",
    "with open(\"new_file.txt\", \"r\", encoding=\"utf-8\") as f:\n",
    "    içerik = f.read()\n",
    "with open(\"new_file_2.txt\", \"w\", encoding=\"utf-8\") as f:\n",
    "    f.write(içerik)\n",
    "\n",
    "# aynı işlemi içiçe with blokları ile yapalım.\n",
    "with open(\"new_file.txt\", \"r\", encoding=\"utf-8\") as reader:\n",
    "    with open(\"new_file_3.txt\", \"w\", encoding=\"utf-8\") as writer:\n",
    "        writer.write(reader.read())\n",
    "        "
   ]
  },
  {
   "cell_type": "code",
   "execution_count": 119,
   "metadata": {},
   "outputs": [],
   "source": [
    "# writelines fonksiyonu bir liste elemanlarını satır satır yazmamızı sağlar.\n",
    "text = [\"1. satır\\n\", \"2. satır\\n\", \"3. satır\\n\"]\n",
    "with open(\"writelines.txt\", \"w\", encoding=\"utf-8\") as f:\n",
    "    f.writelines(text)\n",
    "\n",
    "# aynı işlemi for döngüsü ile yapalım.\n",
    "# for döngüsü ile dosyaya yazdırırken her bir elemanın sonuna newline karakteri eklemeyi unutmayalım.\n",
    "with open(\"writelines-for.txt\", \"w\", encoding=\"utf-8\") as f:\n",
    "    for i in text:\n",
    "        f.write(i)    "
   ]
  },
  {
   "cell_type": "code",
   "execution_count": null,
   "metadata": {},
   "outputs": [],
   "source": []
  },
  {
   "cell_type": "code",
   "execution_count": 68,
   "metadata": {},
   "outputs": [],
   "source": [
    "# şimdi binary dosyalarla çalışalım.\n",
    "# binary dosyaları açmak için \"rb\" modunu kullanmalıyız.\n",
    "with open(\"/media/forest/depo/python-tutorial/örnek-resim.jpg\", \"rb\") as f:\n",
    "    with open(\"örnek-resim-kopyası.jpg\", \"wb\") as f2:\n",
    "        f2.write(f.read())"
   ]
  },
  {
   "cell_type": "code",
   "execution_count": 108,
   "metadata": {},
   "outputs": [],
   "source": [
    "from faker import Faker\n",
    "fake = Faker(\"tr_TR\")\n",
    "import random\n",
    "# 5000 adet sahte isim oluşturalım.\n",
    "with open(\"öğrenci-listesi.txt\", \"w\", encoding=\"utf-8\") as f:\n",
    "    for i in range(5000):\n",
    "        f.write(str(i)+\"\\t\\t\"+fake.name() + \"\\n\")"
   ]
  },
  {
   "cell_type": "code",
   "execution_count": 109,
   "metadata": {},
   "outputs": [],
   "source": [
    "# 5000 adet 1 ile 100 arasında rastgele not oluşturalım.\n",
    "with open(\"vize-notları.txt\", \"w\", encoding=\"utf-8\") as f:\n",
    "    for i in range(5000):\n",
    "        f.write(str(i)+\"\\t\\t\"+str(random.randint(1,100)) + \"\\n\")\n",
    "\n",
    "# 5000 adet 1 ile 100 arasında rastgele not oluşturalım.\n",
    "with open(\"final-notları.txt\", \"w\", encoding=\"utf-8\") as f:\n",
    "    for i in range(5000):\n",
    "        f.write(str(i)+\"\\t\\t\"+str(random.randint(1,100)) + \"\\n\")"
   ]
  },
  {
   "attachments": {},
   "cell_type": "markdown",
   "metadata": {},
   "source": [
    "**Problem Durumları:**\n",
    "1- Bazı öğrenciler isimlerinin başına ünvanlarını yazmışlar. Örneğin: \"Dr. Ahmet Yılmaz\" gibi. Bu durumda isimlerin başındaki ünvanları silmek istiyoruz.\n",
    "\n",
    "2- Her öğrencinin bir soyadı var. Fakat bazı öğrencilerin birden fazla ismi var. Birden fazla isimleri olan öğrencilerin ilk isimlerini ilk harfini alıp geri kalan isimlerini yazmak istiyoru. Örneğin: Ahmet Mehmet Yılmaz -> A. Mehmet Yılmaz şeklinde.\n",
    "\n",
    "2- Vizenin ve finalin ortalamasını alıp, bu ortalamaya göre harf notu vermek istiyoruz. Vize notu %40, final notu %60 ağırlıkta olacak şekilde. 85-100 arası AA, 70-84 arası BB, 55-69 arası CC, 40-54 arası DD, 0-39 arası FF notları verilecek.\n",
    "\n",
    "3- Öğrencilerin isimlerini ve notlarını bir dosyaya yazdırmak istiyoruz. Fakat dosyanın en başına sırası ile öğrenci no, isim, vize, final ve harf notu yazılacak."
   ]
  }
 ],
 "metadata": {
  "kernelspec": {
   "display_name": "Python 3",
   "language": "python",
   "name": "python3"
  },
  "language_info": {
   "codemirror_mode": {
    "name": "ipython",
    "version": 3
   },
   "file_extension": ".py",
   "mimetype": "text/x-python",
   "name": "python",
   "nbconvert_exporter": "python",
   "pygments_lexer": "ipython3",
   "version": "3.10.6"
  },
  "orig_nbformat": 4
 },
 "nbformat": 4,
 "nbformat_minor": 2
}
