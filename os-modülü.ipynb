{
 "cells": [
  {
   "cell_type": "code",
   "execution_count": 1,
   "metadata": {},
   "outputs": [],
   "source": [
    "# os modülü \n",
    "# os modülü işletim sistemi ile ilgili işlemleri yapmamızı sağlar.\n",
    "# os modülü içerisindeki bazı fonksiyonları göreceğiz.\n",
    "# os modülü klasör ve dizinleri gezebilmemizi sağlar.\n",
    "import os"
   ]
  },
  {
   "cell_type": "code",
   "execution_count": 2,
   "metadata": {},
   "outputs": [
    {
     "name": "stdout",
     "output_type": "stream",
     "text": [
      "/media/forest/depo/python-tutorial\n"
     ]
    }
   ],
   "source": [
    "# os.getcwd() fonksiyonu ile bulunduğumuz dizini görebiliriz.\n",
    "print(os.getcwd())"
   ]
  },
  {
   "cell_type": "code",
   "execution_count": 7,
   "metadata": {},
   "outputs": [
    {
     "name": "stdout",
     "output_type": "stream",
     "text": [
      "/media\n"
     ]
    }
   ],
   "source": [
    "# klasör değiştirme. \n",
    "# os.chdir() fonksiyonu ile klasör değiştirebiliriz.\n",
    "os.chdir(\"/media\")\n",
    "print(os.getcwd())\n",
    "# current working directory"
   ]
  },
  {
   "cell_type": "code",
   "execution_count": 8,
   "metadata": {},
   "outputs": [
    {
     "name": "stdout",
     "output_type": "stream",
     "text": [
      "/media/forest/depo/python-tutorial\n"
     ]
    }
   ],
   "source": [
    "# çalışmalarımızın doğrı kaydedilmesi eski dizine geri dönüyoruz.\n",
    "os.chdir(\"/media/forest/depo/python-tutorial\")\n",
    "print(os.getcwd())"
   ]
  },
  {
   "cell_type": "code",
   "execution_count": 10,
   "metadata": {},
   "outputs": [
    {
     "ename": "TypeError",
     "evalue": "chdir() missing required argument 'path' (pos 1)",
     "output_type": "error",
     "traceback": [
      "\u001b[0;31m---------------------------------------------------------------------------\u001b[0m",
      "\u001b[0;31mTypeError\u001b[0m                                 Traceback (most recent call last)",
      "Cell \u001b[0;32mIn[10], line 2\u001b[0m\n\u001b[1;32m      1\u001b[0m \u001b[39m# os.chdir() fonksiyonuna parametre vermezsek hata alırız\u001b[39;00m\n\u001b[0;32m----> 2\u001b[0m os\u001b[39m.\u001b[39;49mchdir()\n",
      "\u001b[0;31mTypeError\u001b[0m: chdir() missing required argument 'path' (pos 1)"
     ]
    }
   ],
   "source": [
    "# os.chdir() fonksiyonuna parametre vermezsek hata alırız\n",
    "os.chdir()"
   ]
  },
  {
   "cell_type": "code",
   "execution_count": 11,
   "metadata": {},
   "outputs": [
    {
     "name": "stdout",
     "output_type": "stream",
     "text": [
      "['.git', 'Advantage of Python.txt', 'Class and instance.ipynb', 'dosya-işlemleri-mini-proje', 'Files-Operation.ipynb', 'hata yakalama.ipynb', 'inclass', 'list-comprehension.ipynb', 'os-modülü.ipynb', 'örnek-resim-kopyası.jpg', 'örnek-resim.jpg']\n"
     ]
    }
   ],
   "source": [
    "# klasör içeriğini gösterme Gizli dosyaları gösterir.\n",
    "print(os.listdir())"
   ]
  },
  {
   "cell_type": "code",
   "execution_count": 12,
   "metadata": {},
   "outputs": [
    {
     "name": "stdout",
     "output_type": "stream",
     "text": [
      "['.profile', 'Templates', '.config', 'Desktop', '.python_history', 'Music', 'gnome-browser-connector.g', '.nv', '.bash_logout', '.conda', '.ipython', '.selected_editor', '.phoronix-test-suite', 'Pictures', '.gitconfig', '.netrc', '.vscode', 'Public', '.cache', '.ssh', 'Videos', '.hardinfo', '.gnupg', '.bashrc', 'miniconda3', '.dotnet', '.pki', '.psensor', '.nvidia-settings-rc', '.bash_history', 'nltk_data', '.jupyter', '.sudo_as_admin_successful', 'snap', 'Downloads', '.fontconfig', 'Documents', '.local']\n"
     ]
    }
   ],
   "source": [
    "# eğer içine parametre vermezsek bulunduğumuz dizini gösterir.\n",
    "print(os.listdir(\"/home/forest\"))"
   ]
  },
  {
   "cell_type": "code",
   "execution_count": 46,
   "metadata": {},
   "outputs": [
    {
     "name": "stdout",
     "output_type": "stream",
     "text": [
      "dosya-işlemleri-mini-proje\n",
      "örnek-resim.jpg\n",
      "inclass\n",
      ".git\n",
      "hata yakalama.ipynb\n",
      "Advantage of Python.txt\n",
      "örnek-resim-kopyası.jpg\n",
      "Files-Operation.ipynb\n",
      "list-comprehension.ipynb\n",
      "Class and instance.ipynb\n"
     ]
    }
   ],
   "source": [
    "# bu görünüm hoş olmadığı için daha düzenli bir görünüm için\n",
    "# os.listdir() fonksiyonunu for döngüsü ile kullanabiliriz.\n",
    "for i in os.listdir(\"/home/forest/Documents/python-tutorial\"):\n",
    "    print(i)"
   ]
  },
  {
   "cell_type": "code",
   "execution_count": 18,
   "metadata": {},
   "outputs": [
    {
     "name": "stdout",
     "output_type": "stream",
     "text": [
      "/media/forest/depo/python-tutorial\n"
     ]
    }
   ],
   "source": [
    "# klasör oluşturma\n",
    "# os.mkdir() fonksiyonu ile klasör oluşturabiliriz.\n",
    "print(os.getcwd())"
   ]
  },
  {
   "cell_type": "code",
   "execution_count": 41,
   "metadata": {},
   "outputs": [],
   "source": [
    "os.mkdir(\"os-test\")"
   ]
  },
  {
   "cell_type": "code",
   "execution_count": 43,
   "metadata": {},
   "outputs": [],
   "source": [
    "# klasör silme\n",
    "# os.rmdir() fonksiyonu ile klasör silebiliriz.\n",
    "os.rmdir(\"os-test\")"
   ]
  },
  {
   "cell_type": "code",
   "execution_count": 37,
   "metadata": {},
   "outputs": [],
   "source": [
    "# iç içe klasör oluşturma\n",
    "# os.makedirs() fonksiyonu ile iç içe klasör oluşturabiliriz.\n",
    "os.makedirs(\"os-test/os-test-2/os-test-3\")"
   ]
  },
  {
   "cell_type": "code",
   "execution_count": 39,
   "metadata": {},
   "outputs": [],
   "source": [
    "# iç içe klasör silme\n",
    "# os.removedirs() fonksiyonu ile iç içe klasör silebiliriz.\n",
    "os.removedirs(\"os-test/os-test-2/os-test-3\")"
   ]
  },
  {
   "cell_type": "code",
   "execution_count": 45,
   "metadata": {},
   "outputs": [
    {
     "ename": "FileNotFoundError",
     "evalue": "[Errno 2] No such file or directory: 'dosta.txt'",
     "output_type": "error",
     "traceback": [
      "\u001b[0;31m---------------------------------------------------------------------------\u001b[0m",
      "\u001b[0;31mFileNotFoundError\u001b[0m                         Traceback (most recent call last)",
      "Cell \u001b[0;32mIn[45], line 2\u001b[0m\n\u001b[1;32m      1\u001b[0m \u001b[39m# dosya silmek için os.remove() fonksiyonunu kullanabiliriz.\u001b[39;00m\n\u001b[0;32m----> 2\u001b[0m os\u001b[39m.\u001b[39;49mremove(\u001b[39m\"\u001b[39;49m\u001b[39mdosta.txt\u001b[39;49m\u001b[39m\"\u001b[39;49m)\n",
      "\u001b[0;31mFileNotFoundError\u001b[0m: [Errno 2] No such file or directory: 'dosta.txt'"
     ]
    }
   ],
   "source": [
    "# dosya silmek için os.remove() fonksiyonunu kullanabiliriz.\n",
    "os.remove(\"path\")"
   ]
  },
  {
   "cell_type": "code",
   "execution_count": 47,
   "metadata": {},
   "outputs": [
    {
     "name": "stdout",
     "output_type": "stream",
     "text": [
      "/media/forest/depo/python-tutorial\n"
     ]
    }
   ],
   "source": [
    "print(os.getcwd())"
   ]
  },
  {
   "cell_type": "code",
   "execution_count": 48,
   "metadata": {},
   "outputs": [],
   "source": [
    "os.mkdir(\"os-directory\")\n",
    "os.chdir(\"os-directory\")"
   ]
  },
  {
   "cell_type": "code",
   "execution_count": 49,
   "metadata": {},
   "outputs": [
    {
     "name": "stdout",
     "output_type": "stream",
     "text": [
      "/media/forest/depo/python-tutorial/os-directory\n"
     ]
    }
   ],
   "source": [
    "print(os.getcwd())"
   ]
  },
  {
   "cell_type": "code",
   "execution_count": 50,
   "metadata": {},
   "outputs": [
    {
     "data": {
      "text/plain": [
       "['os-test.txt']"
      ]
     },
     "execution_count": 50,
     "metadata": {},
     "output_type": "execute_result"
    }
   ],
   "source": [
    "os.listdir()"
   ]
  },
  {
   "cell_type": "code",
   "execution_count": 51,
   "metadata": {},
   "outputs": [],
   "source": [
    "# rename() fonksiyonu ile dosya ismini değiştirebiliriz.\n",
    "os.rename(\"os-test.txt\", \"os-test-2.txt\")"
   ]
  },
  {
   "cell_type": "code",
   "execution_count": 52,
   "metadata": {},
   "outputs": [],
   "source": [
    "# rename fonksiyonunu bir dosyayı başka bir klasöre taşımak için de kullanabiliriz.\n",
    "os.rename(\"os-test-2.txt\", \"/media/forest/depo/python-tutorial/os-directory/os-test-3.txt\")"
   ]
  },
  {
   "cell_type": "code",
   "execution_count": 56,
   "metadata": {},
   "outputs": [
    {
     "data": {
      "text/plain": [
       "os.stat_result(st_mode=33279, st_ino=25960, st_dev=2065, st_nlink=1, st_uid=1000, st_gid=1000, st_size=0, st_atime=1682430035, st_mtime=1682430035, st_ctime=1682430294)"
      ]
     },
     "execution_count": 56,
     "metadata": {},
     "output_type": "execute_result"
    }
   ],
   "source": [
    "# os.stat() fonksiyonu ile dosya bilgilerini görebiliriz.\n",
    "os.stat(\"os-test-3.txt\")"
   ]
  },
  {
   "cell_type": "code",
   "execution_count": 57,
   "metadata": {},
   "outputs": [
    {
     "data": {
      "text/plain": [
       "1682430035.128655"
      ]
     },
     "execution_count": 57,
     "metadata": {},
     "output_type": "execute_result"
    }
   ],
   "source": [
    "# dosyaya son erişim tarihine bakalım\n",
    "os.stat(\"os-test-3.txt\").st_atime"
   ]
  },
  {
   "cell_type": "code",
   "execution_count": 58,
   "metadata": {},
   "outputs": [
    {
     "data": {
      "text/plain": [
       "datetime.datetime(2023, 4, 25, 16, 40, 35, 128655)"
      ]
     },
     "execution_count": 58,
     "metadata": {},
     "output_type": "execute_result"
    }
   ],
   "source": [
    "# şimdi bu tarihi daha anlaşılır bir şekilde gösterelim.\n",
    "import datetime\n",
    "datetime.datetime.fromtimestamp(os.stat(\"os-test-3.txt\").st_atime)"
   ]
  },
  {
   "cell_type": "code",
   "execution_count": 59,
   "metadata": {},
   "outputs": [
    {
     "data": {
      "text/plain": [
       "1682430035.128655"
      ]
     },
     "execution_count": 59,
     "metadata": {},
     "output_type": "execute_result"
    }
   ],
   "source": [
    "# dosyaya son değişiklik tarihine bakalım\n",
    "os.stat(\"os-test-3.txt\").st_mtime\n"
   ]
  },
  {
   "cell_type": "code",
   "execution_count": 60,
   "metadata": {},
   "outputs": [
    {
     "data": {
      "text/plain": [
       "datetime.datetime(2023, 4, 25, 16, 40, 35, 128655)"
      ]
     },
     "execution_count": 60,
     "metadata": {},
     "output_type": "execute_result"
    }
   ],
   "source": [
    "# şimdi bu tarihi daha anlaşılır bir şekilde gösterelim.\n",
    "import datetime\n",
    "datetime.datetime.fromtimestamp(os.stat(\"os-test-3.txt\").st_mtime)"
   ]
  },
  {
   "cell_type": "code",
   "execution_count": 61,
   "metadata": {},
   "outputs": [
    {
     "name": "stdout",
     "output_type": "stream",
     "text": [
      "('/home/forest/Documents/python-tutorial', ['dosya-işlemleri-mini-proje', 'inclass', '.git'], ['örnek-resim.jpg', 'hata yakalama.ipynb', 'Advantage of Python.txt', 'örnek-resim-kopyası.jpg', 'Files-Operation.ipynb', 'list-comprehension.ipynb', 'Class and instance.ipynb'])\n",
      "('/home/forest/Documents/python-tutorial/dosya-işlemleri-mini-proje', [], ['öğrenci-listesi.txt', 'proje-çözümü.ipynb', 'vize-notları.txt', 'final-notları.txt'])\n",
      "('/home/forest/Documents/python-tutorial/inclass', ['.ipynb_checkpoints'], ['list-comprehension.ipynb'])\n",
      "('/home/forest/Documents/python-tutorial/inclass/.ipynb_checkpoints', [], ['list-comprehension-checkpoint.ipynb'])\n",
      "('/home/forest/Documents/python-tutorial/.git', ['logs', 'info', 'hooks', 'objects', 'refs', 'branches'], ['ORIG_HEAD', 'description', 'COMMIT_EDITMSG', 'FETCH_HEAD', 'packed-refs', 'index', 'config', 'HEAD'])\n",
      "('/home/forest/Documents/python-tutorial/.git/logs', ['refs'], ['HEAD'])\n",
      "('/home/forest/Documents/python-tutorial/.git/logs/refs', ['heads', 'remotes'], [])\n",
      "('/home/forest/Documents/python-tutorial/.git/logs/refs/heads', [], ['master'])\n",
      "('/home/forest/Documents/python-tutorial/.git/logs/refs/remotes', ['origin'], [])\n",
      "('/home/forest/Documents/python-tutorial/.git/logs/refs/remotes/origin', [], ['HEAD', 'master'])\n",
      "('/home/forest/Documents/python-tutorial/.git/info', [], ['exclude'])\n",
      "('/home/forest/Documents/python-tutorial/.git/hooks', [], ['post-update.sample', 'pre-applypatch.sample', 'commit-msg.sample', 'pre-push.sample', 'pre-receive.sample', 'prepare-commit-msg.sample', 'pre-commit.sample', 'update.sample', 'pre-rebase.sample', 'pre-merge-commit.sample', 'applypatch-msg.sample', 'push-to-checkout.sample', 'fsmonitor-watchman.sample'])\n",
      "('/home/forest/Documents/python-tutorial/.git/objects', ['c4', 'be', '71', 'ab', '5d', '21', 'info', '47', '63', 'cc', '13', 'd4', '70', '6c', '48', 'e6', 'ec', '5b', 'pack', '05', '80', 'e4', '5a', '12', 'bb', '2a', '74', 'a4', '0b', 'e7', '45', 'cb', 'a9', '7f', '75', 'f0', '84', '4a'], [])\n",
      "('/home/forest/Documents/python-tutorial/.git/objects/c4', [], ['ddf7b0ae56ac7d640ec96cbc52df2e39a46dbc', '49f769ae606b59e48433ff911846410563a5b5'])\n",
      "('/home/forest/Documents/python-tutorial/.git/objects/be', [], ['83c0ae818db7a016c47ec35c75bf1941350036', '72fa14a9cbcc4d8298e00d6a523e0e8b4ab29b'])\n",
      "('/home/forest/Documents/python-tutorial/.git/objects/71', [], ['270dffb5c8d09086b35386b434574076596e0c', 'f5b22c2ef8bb7d55a7c1f966cddaf1b2330501'])\n",
      "('/home/forest/Documents/python-tutorial/.git/objects/ab', [], ['30d102b2db6448a613b5b6d04b00374957f458'])\n",
      "('/home/forest/Documents/python-tutorial/.git/objects/5d', [], ['116fa1fe7511e84fe7fe5f6bddfe2b51092aa8'])\n",
      "('/home/forest/Documents/python-tutorial/.git/objects/21', [], ['192a97252804909e7556f15655dd000bfe37b8'])\n",
      "('/home/forest/Documents/python-tutorial/.git/objects/info', [], [])\n",
      "('/home/forest/Documents/python-tutorial/.git/objects/47', [], ['f62e14be48e9acb010400360ab2bcd878d2876'])\n",
      "('/home/forest/Documents/python-tutorial/.git/objects/63', [], ['5e5323a2a397944a6393d4a4f8b46b1547e274'])\n",
      "('/home/forest/Documents/python-tutorial/.git/objects/cc', [], ['ed9c21f53e6935e2cf3a5508080cb4f043a1b3', '18ca0008a4c78b507cb8b57597d870329e2586'])\n",
      "('/home/forest/Documents/python-tutorial/.git/objects/13', [], ['f4897394fb5b70fb59fb663da7554d1db99ae7'])\n",
      "('/home/forest/Documents/python-tutorial/.git/objects/d4', [], ['8e3a9a9a5cebb17cc32fd57b9056379516445f'])\n",
      "('/home/forest/Documents/python-tutorial/.git/objects/70', [], ['dbb0aab346688825d8e3b140e7d15fac55483d'])\n",
      "('/home/forest/Documents/python-tutorial/.git/objects/6c', [], ['5abcdf1e6d5038c873e195b598fdecdb027eb4'])\n",
      "('/home/forest/Documents/python-tutorial/.git/objects/48', [], ['88ab4e76c0eb5f4494f7ad22584d14f594ffb4'])\n",
      "('/home/forest/Documents/python-tutorial/.git/objects/e6', [], ['9de29bb2d1d6434b8b29ae775ad8c2e48c5391'])\n",
      "('/home/forest/Documents/python-tutorial/.git/objects/ec', [], ['79b6ebde2e0de42535a5fe622f2133b9438da8'])\n",
      "('/home/forest/Documents/python-tutorial/.git/objects/5b', [], ['63c48ccc51cdc1860ad797adeacbc78b168ea3'])\n",
      "('/home/forest/Documents/python-tutorial/.git/objects/pack', [], ['pack-5c15e94cc6132e063f21e38c677ead78b655aaa9.pack', 'pack-5c15e94cc6132e063f21e38c677ead78b655aaa9.idx'])\n",
      "('/home/forest/Documents/python-tutorial/.git/objects/05', [], ['32425f873a8d82edc4c472e7aba60fdf42806c'])\n",
      "('/home/forest/Documents/python-tutorial/.git/objects/80', [], ['f718c74aa52a89e2ca625daa518264ec774354'])\n",
      "('/home/forest/Documents/python-tutorial/.git/objects/e4', [], ['c71c2466ceb5e54e0daebd496b7c913b43993a'])\n",
      "('/home/forest/Documents/python-tutorial/.git/objects/5a', [], ['462074ce380b935e636f7b518e1f237c626abd'])\n",
      "('/home/forest/Documents/python-tutorial/.git/objects/12', [], ['ce980cd68d9893fb9ff3da472453daebb3d474'])\n",
      "('/home/forest/Documents/python-tutorial/.git/objects/bb', [], ['af28826945cd8d0ea560f4d9f115449fc9fbb6'])\n",
      "('/home/forest/Documents/python-tutorial/.git/objects/2a', [], ['99173871ab51856d97df8c5b6955feb16a066c'])\n",
      "('/home/forest/Documents/python-tutorial/.git/objects/74', [], ['d77a9ffd9268d482e5424308b8ff6cc7c4fb58'])\n",
      "('/home/forest/Documents/python-tutorial/.git/objects/a4', [], ['683970ad853bf8e2bc25c286dea827cbfb32b8'])\n",
      "('/home/forest/Documents/python-tutorial/.git/objects/0b', [], ['2ffcf0954f41238d5a82a8f30caaab4e7acc25'])\n",
      "('/home/forest/Documents/python-tutorial/.git/objects/e7', [], ['f78ba223e6c42a43a78bad5a15b433fb208094'])\n",
      "('/home/forest/Documents/python-tutorial/.git/objects/45', [], ['f1879f1b886799ed16458910785a3379deaefe'])\n",
      "('/home/forest/Documents/python-tutorial/.git/objects/cb', [], ['f828de1cda80764bc2ae54cd28edb864be1e80'])\n",
      "('/home/forest/Documents/python-tutorial/.git/objects/a9', [], ['3f09cc408baeea379d0e5bece08a002a095ad0'])\n",
      "('/home/forest/Documents/python-tutorial/.git/objects/7f', [], ['d099fd1f40424704c10467ee7f5dee4feb55b5'])\n",
      "('/home/forest/Documents/python-tutorial/.git/objects/75', [], ['5d4371c6e6139cb69ee0791cb43634b738cbbe'])\n",
      "('/home/forest/Documents/python-tutorial/.git/objects/f0', [], ['9b115f97c41a5f83d104238ac3de6b1ba85ff1'])\n",
      "('/home/forest/Documents/python-tutorial/.git/objects/84', [], ['74178d3c7880cc2e354f0b9086133adfd1e129'])\n",
      "('/home/forest/Documents/python-tutorial/.git/objects/4a', [], ['3747253e44ce490f94091b7125d4b4a35d9dad'])\n",
      "('/home/forest/Documents/python-tutorial/.git/refs', ['tags', 'heads', 'remotes'], [])\n",
      "('/home/forest/Documents/python-tutorial/.git/refs/tags', [], [])\n",
      "('/home/forest/Documents/python-tutorial/.git/refs/heads', [], ['master'])\n",
      "('/home/forest/Documents/python-tutorial/.git/refs/remotes', ['origin'], [])\n",
      "('/home/forest/Documents/python-tutorial/.git/refs/remotes/origin', [], ['HEAD', 'master'])\n",
      "('/home/forest/Documents/python-tutorial/.git/branches', [], [])\n"
     ]
    }
   ],
   "source": [
    "# os.walk() fonksiyonu ile klasör içerisindeki dosyaları ve klasörleri geziniriz.\n",
    "# os.walk() fonksiyonu 3 değer döndürür.\n",
    "# 1. değer klasörün yolunu verir.\n",
    "# 2. değer klasör içerisindeki klasörleri verir.\n",
    "# 3. değer klasör içerisindeki dosyaları verir.\n",
    "for i in os.walk(\"/home/forest/Documents/python-tutorial\"):\n",
    "    print(i)"
   ]
  },
  {
   "cell_type": "code",
   "execution_count": 62,
   "metadata": {},
   "outputs": [
    {
     "name": "stdout",
     "output_type": "stream",
     "text": [
      "Klasör Yolu:  /home/forest/Documents/python-tutorial\n",
      "Klasörler:  ['dosya-işlemleri-mini-proje', 'inclass', '.git']\n",
      "Dosyalar:  ['örnek-resim.jpg', 'hata yakalama.ipynb', 'Advantage of Python.txt', 'örnek-resim-kopyası.jpg', 'Files-Operation.ipynb', 'list-comprehension.ipynb', 'Class and instance.ipynb']\n",
      "\n",
      "Klasör Yolu:  /home/forest/Documents/python-tutorial/dosya-işlemleri-mini-proje\n",
      "Klasörler:  []\n",
      "Dosyalar:  ['öğrenci-listesi.txt', 'proje-çözümü.ipynb', 'vize-notları.txt', 'final-notları.txt']\n",
      "\n",
      "Klasör Yolu:  /home/forest/Documents/python-tutorial/inclass\n",
      "Klasörler:  ['.ipynb_checkpoints']\n",
      "Dosyalar:  ['list-comprehension.ipynb']\n",
      "\n",
      "Klasör Yolu:  /home/forest/Documents/python-tutorial/inclass/.ipynb_checkpoints\n",
      "Klasörler:  []\n",
      "Dosyalar:  ['list-comprehension-checkpoint.ipynb']\n",
      "\n",
      "Klasör Yolu:  /home/forest/Documents/python-tutorial/.git\n",
      "Klasörler:  ['logs', 'info', 'hooks', 'objects', 'refs', 'branches']\n",
      "Dosyalar:  ['ORIG_HEAD', 'description', 'COMMIT_EDITMSG', 'FETCH_HEAD', 'packed-refs', 'index', 'config', 'HEAD']\n",
      "\n",
      "Klasör Yolu:  /home/forest/Documents/python-tutorial/.git/logs\n",
      "Klasörler:  ['refs']\n",
      "Dosyalar:  ['HEAD']\n",
      "\n",
      "Klasör Yolu:  /home/forest/Documents/python-tutorial/.git/logs/refs\n",
      "Klasörler:  ['heads', 'remotes']\n",
      "Dosyalar:  []\n",
      "\n",
      "Klasör Yolu:  /home/forest/Documents/python-tutorial/.git/logs/refs/heads\n",
      "Klasörler:  []\n",
      "Dosyalar:  ['master']\n",
      "\n",
      "Klasör Yolu:  /home/forest/Documents/python-tutorial/.git/logs/refs/remotes\n",
      "Klasörler:  ['origin']\n",
      "Dosyalar:  []\n",
      "\n",
      "Klasör Yolu:  /home/forest/Documents/python-tutorial/.git/logs/refs/remotes/origin\n",
      "Klasörler:  []\n",
      "Dosyalar:  ['HEAD', 'master']\n",
      "\n",
      "Klasör Yolu:  /home/forest/Documents/python-tutorial/.git/info\n",
      "Klasörler:  []\n",
      "Dosyalar:  ['exclude']\n",
      "\n",
      "Klasör Yolu:  /home/forest/Documents/python-tutorial/.git/hooks\n",
      "Klasörler:  []\n",
      "Dosyalar:  ['post-update.sample', 'pre-applypatch.sample', 'commit-msg.sample', 'pre-push.sample', 'pre-receive.sample', 'prepare-commit-msg.sample', 'pre-commit.sample', 'update.sample', 'pre-rebase.sample', 'pre-merge-commit.sample', 'applypatch-msg.sample', 'push-to-checkout.sample', 'fsmonitor-watchman.sample']\n",
      "\n",
      "Klasör Yolu:  /home/forest/Documents/python-tutorial/.git/objects\n",
      "Klasörler:  ['c4', 'be', '71', 'ab', '5d', '21', 'info', '47', '63', 'cc', '13', 'd4', '70', '6c', '48', 'e6', 'ec', '5b', 'pack', '05', '80', 'e4', '5a', '12', 'bb', '2a', '74', 'a4', '0b', 'e7', '45', 'cb', 'a9', '7f', '75', 'f0', '84', '4a']\n",
      "Dosyalar:  []\n",
      "\n",
      "Klasör Yolu:  /home/forest/Documents/python-tutorial/.git/objects/c4\n",
      "Klasörler:  []\n",
      "Dosyalar:  ['ddf7b0ae56ac7d640ec96cbc52df2e39a46dbc', '49f769ae606b59e48433ff911846410563a5b5']\n",
      "\n",
      "Klasör Yolu:  /home/forest/Documents/python-tutorial/.git/objects/be\n",
      "Klasörler:  []\n",
      "Dosyalar:  ['83c0ae818db7a016c47ec35c75bf1941350036', '72fa14a9cbcc4d8298e00d6a523e0e8b4ab29b']\n",
      "\n",
      "Klasör Yolu:  /home/forest/Documents/python-tutorial/.git/objects/71\n",
      "Klasörler:  []\n",
      "Dosyalar:  ['270dffb5c8d09086b35386b434574076596e0c', 'f5b22c2ef8bb7d55a7c1f966cddaf1b2330501']\n",
      "\n",
      "Klasör Yolu:  /home/forest/Documents/python-tutorial/.git/objects/ab\n",
      "Klasörler:  []\n",
      "Dosyalar:  ['30d102b2db6448a613b5b6d04b00374957f458']\n",
      "\n",
      "Klasör Yolu:  /home/forest/Documents/python-tutorial/.git/objects/5d\n",
      "Klasörler:  []\n",
      "Dosyalar:  ['116fa1fe7511e84fe7fe5f6bddfe2b51092aa8']\n",
      "\n",
      "Klasör Yolu:  /home/forest/Documents/python-tutorial/.git/objects/21\n",
      "Klasörler:  []\n",
      "Dosyalar:  ['192a97252804909e7556f15655dd000bfe37b8']\n",
      "\n",
      "Klasör Yolu:  /home/forest/Documents/python-tutorial/.git/objects/info\n",
      "Klasörler:  []\n",
      "Dosyalar:  []\n",
      "\n",
      "Klasör Yolu:  /home/forest/Documents/python-tutorial/.git/objects/47\n",
      "Klasörler:  []\n",
      "Dosyalar:  ['f62e14be48e9acb010400360ab2bcd878d2876']\n",
      "\n",
      "Klasör Yolu:  /home/forest/Documents/python-tutorial/.git/objects/63\n",
      "Klasörler:  []\n",
      "Dosyalar:  ['5e5323a2a397944a6393d4a4f8b46b1547e274']\n",
      "\n",
      "Klasör Yolu:  /home/forest/Documents/python-tutorial/.git/objects/cc\n",
      "Klasörler:  []\n",
      "Dosyalar:  ['ed9c21f53e6935e2cf3a5508080cb4f043a1b3', '18ca0008a4c78b507cb8b57597d870329e2586']\n",
      "\n",
      "Klasör Yolu:  /home/forest/Documents/python-tutorial/.git/objects/13\n",
      "Klasörler:  []\n",
      "Dosyalar:  ['f4897394fb5b70fb59fb663da7554d1db99ae7']\n",
      "\n",
      "Klasör Yolu:  /home/forest/Documents/python-tutorial/.git/objects/d4\n",
      "Klasörler:  []\n",
      "Dosyalar:  ['8e3a9a9a5cebb17cc32fd57b9056379516445f']\n",
      "\n",
      "Klasör Yolu:  /home/forest/Documents/python-tutorial/.git/objects/70\n",
      "Klasörler:  []\n",
      "Dosyalar:  ['dbb0aab346688825d8e3b140e7d15fac55483d']\n",
      "\n",
      "Klasör Yolu:  /home/forest/Documents/python-tutorial/.git/objects/6c\n",
      "Klasörler:  []\n",
      "Dosyalar:  ['5abcdf1e6d5038c873e195b598fdecdb027eb4']\n",
      "\n",
      "Klasör Yolu:  /home/forest/Documents/python-tutorial/.git/objects/48\n",
      "Klasörler:  []\n",
      "Dosyalar:  ['88ab4e76c0eb5f4494f7ad22584d14f594ffb4']\n",
      "\n",
      "Klasör Yolu:  /home/forest/Documents/python-tutorial/.git/objects/e6\n",
      "Klasörler:  []\n",
      "Dosyalar:  ['9de29bb2d1d6434b8b29ae775ad8c2e48c5391']\n",
      "\n",
      "Klasör Yolu:  /home/forest/Documents/python-tutorial/.git/objects/ec\n",
      "Klasörler:  []\n",
      "Dosyalar:  ['79b6ebde2e0de42535a5fe622f2133b9438da8']\n",
      "\n",
      "Klasör Yolu:  /home/forest/Documents/python-tutorial/.git/objects/5b\n",
      "Klasörler:  []\n",
      "Dosyalar:  ['63c48ccc51cdc1860ad797adeacbc78b168ea3']\n",
      "\n",
      "Klasör Yolu:  /home/forest/Documents/python-tutorial/.git/objects/pack\n",
      "Klasörler:  []\n",
      "Dosyalar:  ['pack-5c15e94cc6132e063f21e38c677ead78b655aaa9.pack', 'pack-5c15e94cc6132e063f21e38c677ead78b655aaa9.idx']\n",
      "\n",
      "Klasör Yolu:  /home/forest/Documents/python-tutorial/.git/objects/05\n",
      "Klasörler:  []\n",
      "Dosyalar:  ['32425f873a8d82edc4c472e7aba60fdf42806c']\n",
      "\n",
      "Klasör Yolu:  /home/forest/Documents/python-tutorial/.git/objects/80\n",
      "Klasörler:  []\n",
      "Dosyalar:  ['f718c74aa52a89e2ca625daa518264ec774354']\n",
      "\n",
      "Klasör Yolu:  /home/forest/Documents/python-tutorial/.git/objects/e4\n",
      "Klasörler:  []\n",
      "Dosyalar:  ['c71c2466ceb5e54e0daebd496b7c913b43993a']\n",
      "\n",
      "Klasör Yolu:  /home/forest/Documents/python-tutorial/.git/objects/5a\n",
      "Klasörler:  []\n",
      "Dosyalar:  ['462074ce380b935e636f7b518e1f237c626abd']\n",
      "\n",
      "Klasör Yolu:  /home/forest/Documents/python-tutorial/.git/objects/12\n",
      "Klasörler:  []\n",
      "Dosyalar:  ['ce980cd68d9893fb9ff3da472453daebb3d474']\n",
      "\n",
      "Klasör Yolu:  /home/forest/Documents/python-tutorial/.git/objects/bb\n",
      "Klasörler:  []\n",
      "Dosyalar:  ['af28826945cd8d0ea560f4d9f115449fc9fbb6']\n",
      "\n",
      "Klasör Yolu:  /home/forest/Documents/python-tutorial/.git/objects/2a\n",
      "Klasörler:  []\n",
      "Dosyalar:  ['99173871ab51856d97df8c5b6955feb16a066c']\n",
      "\n",
      "Klasör Yolu:  /home/forest/Documents/python-tutorial/.git/objects/74\n",
      "Klasörler:  []\n",
      "Dosyalar:  ['d77a9ffd9268d482e5424308b8ff6cc7c4fb58']\n",
      "\n",
      "Klasör Yolu:  /home/forest/Documents/python-tutorial/.git/objects/a4\n",
      "Klasörler:  []\n",
      "Dosyalar:  ['683970ad853bf8e2bc25c286dea827cbfb32b8']\n",
      "\n",
      "Klasör Yolu:  /home/forest/Documents/python-tutorial/.git/objects/0b\n",
      "Klasörler:  []\n",
      "Dosyalar:  ['2ffcf0954f41238d5a82a8f30caaab4e7acc25']\n",
      "\n",
      "Klasör Yolu:  /home/forest/Documents/python-tutorial/.git/objects/e7\n",
      "Klasörler:  []\n",
      "Dosyalar:  ['f78ba223e6c42a43a78bad5a15b433fb208094']\n",
      "\n",
      "Klasör Yolu:  /home/forest/Documents/python-tutorial/.git/objects/45\n",
      "Klasörler:  []\n",
      "Dosyalar:  ['f1879f1b886799ed16458910785a3379deaefe']\n",
      "\n",
      "Klasör Yolu:  /home/forest/Documents/python-tutorial/.git/objects/cb\n",
      "Klasörler:  []\n",
      "Dosyalar:  ['f828de1cda80764bc2ae54cd28edb864be1e80']\n",
      "\n",
      "Klasör Yolu:  /home/forest/Documents/python-tutorial/.git/objects/a9\n",
      "Klasörler:  []\n",
      "Dosyalar:  ['3f09cc408baeea379d0e5bece08a002a095ad0']\n",
      "\n",
      "Klasör Yolu:  /home/forest/Documents/python-tutorial/.git/objects/7f\n",
      "Klasörler:  []\n",
      "Dosyalar:  ['d099fd1f40424704c10467ee7f5dee4feb55b5']\n",
      "\n",
      "Klasör Yolu:  /home/forest/Documents/python-tutorial/.git/objects/75\n",
      "Klasörler:  []\n",
      "Dosyalar:  ['5d4371c6e6139cb69ee0791cb43634b738cbbe']\n",
      "\n",
      "Klasör Yolu:  /home/forest/Documents/python-tutorial/.git/objects/f0\n",
      "Klasörler:  []\n",
      "Dosyalar:  ['9b115f97c41a5f83d104238ac3de6b1ba85ff1']\n",
      "\n",
      "Klasör Yolu:  /home/forest/Documents/python-tutorial/.git/objects/84\n",
      "Klasörler:  []\n",
      "Dosyalar:  ['74178d3c7880cc2e354f0b9086133adfd1e129']\n",
      "\n",
      "Klasör Yolu:  /home/forest/Documents/python-tutorial/.git/objects/4a\n",
      "Klasörler:  []\n",
      "Dosyalar:  ['3747253e44ce490f94091b7125d4b4a35d9dad']\n",
      "\n",
      "Klasör Yolu:  /home/forest/Documents/python-tutorial/.git/refs\n",
      "Klasörler:  ['tags', 'heads', 'remotes']\n",
      "Dosyalar:  []\n",
      "\n",
      "Klasör Yolu:  /home/forest/Documents/python-tutorial/.git/refs/tags\n",
      "Klasörler:  []\n",
      "Dosyalar:  []\n",
      "\n",
      "Klasör Yolu:  /home/forest/Documents/python-tutorial/.git/refs/heads\n",
      "Klasörler:  []\n",
      "Dosyalar:  ['master']\n",
      "\n",
      "Klasör Yolu:  /home/forest/Documents/python-tutorial/.git/refs/remotes\n",
      "Klasörler:  ['origin']\n",
      "Dosyalar:  []\n",
      "\n",
      "Klasör Yolu:  /home/forest/Documents/python-tutorial/.git/refs/remotes/origin\n",
      "Klasörler:  []\n",
      "Dosyalar:  ['HEAD', 'master']\n",
      "\n",
      "Klasör Yolu:  /home/forest/Documents/python-tutorial/.git/branches\n",
      "Klasörler:  []\n",
      "Dosyalar:  []\n",
      "\n"
     ]
    }
   ],
   "source": [
    "# temiz bir görünüm için for döngüsünü kullanalım.\n",
    "for i in os.walk(\"/home/forest/Documents/python-tutorial\"):\n",
    "    print(\"Klasör Yolu: \", i[0])\n",
    "    print(\"Klasörler: \", i[1])\n",
    "    print(\"Dosyalar: \", i[2])\n",
    "    print()"
   ]
  },
  {
   "cell_type": "code",
   "execution_count": 66,
   "metadata": {},
   "outputs": [
    {
     "data": {
      "text/plain": [
       "True"
      ]
     },
     "execution_count": 66,
     "metadata": {},
     "output_type": "execute_result"
    }
   ],
   "source": [
    "# os.path.isdir() fonksiyonu ile bir dosyanın klasör olup olmadığını kontrol edebiliriz.\n",
    "os.path.isdir(\"/home/forest/Documents/python-tutorial/\")"
   ]
  },
  {
   "cell_type": "code",
   "execution_count": 67,
   "metadata": {},
   "outputs": [
    {
     "data": {
      "text/plain": [
       "True"
      ]
     },
     "execution_count": 67,
     "metadata": {},
     "output_type": "execute_result"
    }
   ],
   "source": [
    "# os.path.isfile() fonksiyonu ile bir dosyanın dosya olup olmadığını kontrol edebiliriz.\n",
    "os.path.isfile(\"/media/forest/depo/python-tutorial/os-modülü.ipynb\")"
   ]
  },
  {
   "cell_type": "code",
   "execution_count": 68,
   "metadata": {},
   "outputs": [
    {
     "data": {
      "text/plain": [
       "True"
      ]
     },
     "execution_count": 68,
     "metadata": {},
     "output_type": "execute_result"
    }
   ],
   "source": [
    "# os.path.exists() fonksiyonu ile bir dosyanın var olup olmadığını kontrol edebiliriz.\n",
    "os.path.exists(\"/media/forest/depo/python-tutorial/os-modülü.ipynb\")"
   ]
  },
  {
   "cell_type": "code",
   "execution_count": 69,
   "metadata": {},
   "outputs": [
    {
     "data": {
      "text/plain": [
       "True"
      ]
     },
     "execution_count": 69,
     "metadata": {},
     "output_type": "execute_result"
    }
   ],
   "source": [
    "# klasör mevcut mu?\n",
    "os.path.exists(\"/media/forest/depo/python-tutorial/\")"
   ]
  },
  {
   "cell_type": "code",
   "execution_count": null,
   "metadata": {},
   "outputs": [],
   "source": []
  }
 ],
 "metadata": {
  "kernelspec": {
   "display_name": "Python 3",
   "language": "python",
   "name": "python3"
  },
  "language_info": {
   "codemirror_mode": {
    "name": "ipython",
    "version": 3
   },
   "file_extension": ".py",
   "mimetype": "text/x-python",
   "name": "python",
   "nbconvert_exporter": "python",
   "pygments_lexer": "ipython3",
   "version": "3.10.6"
  },
  "orig_nbformat": 4
 },
 "nbformat": 4,
 "nbformat_minor": 2
}
