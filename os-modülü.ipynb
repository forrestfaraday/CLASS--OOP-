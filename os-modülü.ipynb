{
 "cells": [
  {
   "cell_type": "code",
   "execution_count": 1,
   "metadata": {},
   "outputs": [],
   "source": [
    "# os modülü \n",
    "# os modülü işletim sistemi ile ilgili işlemleri yapmamızı sağlar.\n",
    "# os modülü içerisindeki bazı fonksiyonları göreceğiz.\n",
    "# os modülü klasör ve dizinleri gezebilmemizi sağlar.\n",
    "import os"
   ]
  },
  {
   "cell_type": "code",
   "execution_count": 2,
   "metadata": {},
   "outputs": [
    {
     "name": "stdout",
     "output_type": "stream",
     "text": [
      "/media/forest/depo/python-tutorial\n"
     ]
    }
   ],
   "source": [
    "# os.getcwd() fonksiyonu ile bulunduğumuz dizini görebiliriz.\n",
    "print(os.getcwd())"
   ]
  },
  {
   "cell_type": "code",
   "execution_count": 7,
   "metadata": {},
   "outputs": [
    {
     "name": "stdout",
     "output_type": "stream",
     "text": [
      "/media\n"
     ]
    }
   ],
   "source": [
    "# klasör değiştirme. \n",
    "# os.chdir() fonksiyonu ile klasör değiştirebiliriz.\n",
    "os.chdir(\"/media\")\n",
    "print(os.getcwd())\n",
    "# current working directory"
   ]
  },
  {
   "cell_type": "code",
   "execution_count": 8,
   "metadata": {},
   "outputs": [
    {
     "name": "stdout",
     "output_type": "stream",
     "text": [
      "/media/forest/depo/python-tutorial\n"
     ]
    }
   ],
   "source": [
    "# çalışmalarımızın doğrı kaydedilmesi eski dizine geri dönüyoruz.\n",
    "os.chdir(\"/media/forest/depo/python-tutorial\")\n",
    "print(os.getcwd())"
   ]
  },
  {
   "cell_type": "code",
   "execution_count": 10,
   "metadata": {},
   "outputs": [
    {
     "ename": "TypeError",
     "evalue": "chdir() missing required argument 'path' (pos 1)",
     "output_type": "error",
     "traceback": [
      "\u001b[0;31m---------------------------------------------------------------------------\u001b[0m",
      "\u001b[0;31mTypeError\u001b[0m                                 Traceback (most recent call last)",
      "Cell \u001b[0;32mIn[10], line 2\u001b[0m\n\u001b[1;32m      1\u001b[0m \u001b[39m# os.chdir() fonksiyonuna parametre vermezsek hata alırız\u001b[39;00m\n\u001b[0;32m----> 2\u001b[0m os\u001b[39m.\u001b[39;49mchdir()\n",
      "\u001b[0;31mTypeError\u001b[0m: chdir() missing required argument 'path' (pos 1)"
     ]
    }
   ],
   "source": [
    "# os.chdir() fonksiyonuna parametre vermezsek hata alırız\n",
    "os.chdir()"
   ]
  },
  {
   "cell_type": "code",
   "execution_count": 11,
   "metadata": {},
   "outputs": [
    {
     "name": "stdout",
     "output_type": "stream",
     "text": [
      "['.git', 'Advantage of Python.txt', 'Class and instance.ipynb', 'dosya-işlemleri-mini-proje', 'Files-Operation.ipynb', 'hata yakalama.ipynb', 'inclass', 'list-comprehension.ipynb', 'os-modülü.ipynb', 'örnek-resim-kopyası.jpg', 'örnek-resim.jpg']\n"
     ]
    }
   ],
   "source": [
    "# klasör içeriğini gösterme Gizli dosyaları gösterir.\n",
    "print(os.listdir())"
   ]
  },
  {
   "cell_type": "code",
   "execution_count": 12,
   "metadata": {},
   "outputs": [
    {
     "name": "stdout",
     "output_type": "stream",
     "text": [
      "['.profile', 'Templates', '.config', 'Desktop', '.python_history', 'Music', 'gnome-browser-connector.g', '.nv', '.bash_logout', '.conda', '.ipython', '.selected_editor', '.phoronix-test-suite', 'Pictures', '.gitconfig', '.netrc', '.vscode', 'Public', '.cache', '.ssh', 'Videos', '.hardinfo', '.gnupg', '.bashrc', 'miniconda3', '.dotnet', '.pki', '.psensor', '.nvidia-settings-rc', '.bash_history', 'nltk_data', '.jupyter', '.sudo_as_admin_successful', 'snap', 'Downloads', '.fontconfig', 'Documents', '.local']\n"
     ]
    }
   ],
   "source": [
    "# eğer içine parametre vermezsek bulunduğumuz dizini gösterir.\n",
    "print(os.listdir(\"/home/forest\"))"
   ]
  },
  {
   "cell_type": "code",
   "execution_count": 46,
   "metadata": {},
   "outputs": [
    {
     "name": "stdout",
     "output_type": "stream",
     "text": [
      "dosya-işlemleri-mini-proje\n",
      "örnek-resim.jpg\n",
      "inclass\n",
      ".git\n",
      "hata yakalama.ipynb\n",
      "Advantage of Python.txt\n",
      "örnek-resim-kopyası.jpg\n",
      "Files-Operation.ipynb\n",
      "list-comprehension.ipynb\n",
      "Class and instance.ipynb\n"
     ]
    }
   ],
   "source": [
    "# bu görünüm hoş olmadığı için daha düzenli bir görünüm için\n",
    "# os.listdir() fonksiyonunu for döngüsü ile kullanabiliriz.\n",
    "for i in os.listdir(\"/home/forest/Documents/python-tutorial\"):\n",
    "    print(i)"
   ]
  },
  {
   "cell_type": "code",
   "execution_count": 18,
   "metadata": {},
   "outputs": [
    {
     "name": "stdout",
     "output_type": "stream",
     "text": [
      "/media/forest/depo/python-tutorial\n"
     ]
    }
   ],
   "source": [
    "# klasör oluşturma\n",
    "# os.mkdir() fonksiyonu ile klasör oluşturabiliriz.\n",
    "print(os.getcwd())"
   ]
  },
  {
   "cell_type": "code",
   "execution_count": 41,
   "metadata": {},
   "outputs": [],
   "source": [
    "os.mkdir(\"os-test\")"
   ]
  },
  {
   "cell_type": "code",
   "execution_count": 43,
   "metadata": {},
   "outputs": [],
   "source": [
    "# klasör silme\n",
    "# os.rmdir() fonksiyonu ile klasör silebiliriz.\n",
    "os.rmdir(\"os-test\")"
   ]
  },
  {
   "cell_type": "code",
   "execution_count": 37,
   "metadata": {},
   "outputs": [],
   "source": [
    "# iç içe klasör oluşturma\n",
    "# os.makedirs() fonksiyonu ile iç içe klasör oluşturabiliriz.\n",
    "os.makedirs(\"os-test/os-test-2/os-test-3\")"
   ]
  },
  {
   "cell_type": "code",
   "execution_count": 39,
   "metadata": {},
   "outputs": [],
   "source": [
    "# iç içe klasör silme\n",
    "# os.removedirs() fonksiyonu ile iç içe klasör silebiliriz.\n",
    "os.removedirs(\"os-test/os-test-2/os-test-3\")"
   ]
  },
  {
   "cell_type": "code",
   "execution_count": 45,
   "metadata": {},
   "outputs": [
    {
     "ename": "FileNotFoundError",
     "evalue": "[Errno 2] No such file or directory: 'dosta.txt'",
     "output_type": "error",
     "traceback": [
      "\u001b[0;31m---------------------------------------------------------------------------\u001b[0m",
      "\u001b[0;31mFileNotFoundError\u001b[0m                         Traceback (most recent call last)",
      "Cell \u001b[0;32mIn[45], line 2\u001b[0m\n\u001b[1;32m      1\u001b[0m \u001b[39m# dosya silmek için os.remove() fonksiyonunu kullanabiliriz.\u001b[39;00m\n\u001b[0;32m----> 2\u001b[0m os\u001b[39m.\u001b[39;49mremove(\u001b[39m\"\u001b[39;49m\u001b[39mdosta.txt\u001b[39;49m\u001b[39m\"\u001b[39;49m)\n",
      "\u001b[0;31mFileNotFoundError\u001b[0m: [Errno 2] No such file or directory: 'dosta.txt'"
     ]
    }
   ],
   "source": [
    "# dosya silmek için os.remove() fonksiyonunu kullanabiliriz.\n",
    "os.remove(\"path\")"
   ]
  },
  {
   "cell_type": "code",
   "execution_count": 47,
   "metadata": {},
   "outputs": [
    {
     "name": "stdout",
     "output_type": "stream",
     "text": [
      "/media/forest/depo/python-tutorial\n"
     ]
    }
   ],
   "source": [
    "print(os.getcwd())"
   ]
  },
  {
   "cell_type": "code",
   "execution_count": null,
   "metadata": {},
   "outputs": [],
   "source": [
    "# rename\n",
    "# os.rename() fonksiyonu ile dosya ismini değiştirebiliriz.\n",
    "os.rename(\"path\", \"path\")"
   ]
  }
 ],
 "metadata": {
  "kernelspec": {
   "display_name": "Python 3",
   "language": "python",
   "name": "python3"
  },
  "language_info": {
   "codemirror_mode": {
    "name": "ipython",
    "version": 3
   },
   "file_extension": ".py",
   "mimetype": "text/x-python",
   "name": "python",
   "nbconvert_exporter": "python",
   "pygments_lexer": "ipython3",
   "version": "3.10.6"
  },
  "orig_nbformat": 4
 },
 "nbformat": 4,
 "nbformat_minor": 2
}
