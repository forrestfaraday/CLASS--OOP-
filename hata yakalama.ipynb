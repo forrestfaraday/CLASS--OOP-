{
 "cells": [
  {
   "cell_type": "code",
   "execution_count": 2,
   "metadata": {},
   "outputs": [
    {
     "name": "stdout",
     "output_type": "stream",
     "text": [
      "5.0\n",
      "Program sonlandı\n"
     ]
    }
   ],
   "source": [
    "bölünen = 10\n",
    "bölen = 2\n",
    "bölüm = bölünen / bölen\n",
    "print(bölüm)\n",
    "print(\"Program sonlandı\")"
   ]
  },
  {
   "cell_type": "code",
   "execution_count": 3,
   "metadata": {},
   "outputs": [
    {
     "ename": "ZeroDivisionError",
     "evalue": "division by zero",
     "output_type": "error",
     "traceback": [
      "\u001b[0;31m---------------------------------------------------------------------------\u001b[0m",
      "\u001b[0;31mZeroDivisionError\u001b[0m                         Traceback (most recent call last)",
      "Cell \u001b[0;32mIn[3], line 4\u001b[0m\n\u001b[1;32m      2\u001b[0m bölünen \u001b[39m=\u001b[39m \u001b[39m10\u001b[39m\n\u001b[1;32m      3\u001b[0m bölen \u001b[39m=\u001b[39m \u001b[39m0\u001b[39m\n\u001b[0;32m----> 4\u001b[0m bölüm \u001b[39m=\u001b[39m bölünen \u001b[39m/\u001b[39;49m bölen\n\u001b[1;32m      5\u001b[0m \u001b[39mprint\u001b[39m(bölüm)    \n\u001b[1;32m      6\u001b[0m \u001b[39mprint\u001b[39m(\u001b[39m\"\u001b[39m\u001b[39mProgram sonlandı\u001b[39m\u001b[39m\"\u001b[39m)\n",
      "\u001b[0;31mZeroDivisionError\u001b[0m: division by zero"
     ]
    }
   ],
   "source": [
    "# şimdi sıfır ile bölme hatası verelim\n",
    "bölünen = 10\n",
    "bölen = 0\n",
    "bölüm = bölünen / bölen\n",
    "print(bölüm)    \n",
    "print(\"Program sonlandı\")"
   ]
  },
  {
   "cell_type": "code",
   "execution_count": 5,
   "metadata": {},
   "outputs": [
    {
     "ename": "NameError",
     "evalue": "name 'undefined_variable' is not defined",
     "output_type": "error",
     "traceback": [
      "\u001b[0;31m---------------------------------------------------------------------------\u001b[0m",
      "\u001b[0;31mNameError\u001b[0m                                 Traceback (most recent call last)",
      "Cell \u001b[0;32mIn[5], line 2\u001b[0m\n\u001b[1;32m      1\u001b[0m \u001b[39m# başka bir hata daha alalım\u001b[39;00m\n\u001b[0;32m----> 2\u001b[0m \u001b[39mprint\u001b[39m(undefined_variable)\n",
      "\u001b[0;31mNameError\u001b[0m: name 'undefined_variable' is not defined"
     ]
    }
   ],
   "source": [
    "# başka bir hata daha alalım\n",
    "print(undefined_variable)"
   ]
  },
  {
   "cell_type": "code",
   "execution_count": 6,
   "metadata": {},
   "outputs": [
    {
     "ename": "TypeError",
     "evalue": "unsupported operand type(s) for +: 'int' and 'str'",
     "output_type": "error",
     "traceback": [
      "\u001b[0;31m---------------------------------------------------------------------------\u001b[0m",
      "\u001b[0;31mTypeError\u001b[0m                                 Traceback (most recent call last)",
      "Cell \u001b[0;32mIn[6], line 1\u001b[0m\n\u001b[0;32m----> 1\u001b[0m \u001b[39m1\u001b[39;49m\u001b[39m+\u001b[39;49m\u001b[39m\"\u001b[39;49m\u001b[39ma\u001b[39;49m\u001b[39m\"\u001b[39;49m\n",
      "\u001b[0;31mTypeError\u001b[0m: unsupported operand type(s) for +: 'int' and 'str'"
     ]
    }
   ],
   "source": [
    "1+\"a\""
   ]
  },
  {
   "cell_type": "code",
   "execution_count": null,
   "metadata": {},
   "outputs": [],
   "source": [
    "# detaylı bilgi için https://docs.python.org/3/library/exceptions.html"
   ]
  },
  {
   "cell_type": "code",
   "execution_count": 7,
   "metadata": {},
   "outputs": [
    {
     "ename": "IndexError",
     "evalue": "string index out of range",
     "output_type": "error",
     "traceback": [
      "\u001b[0;31m---------------------------------------------------------------------------\u001b[0m",
      "\u001b[0;31mIndexError\u001b[0m                                Traceback (most recent call last)",
      "Cell \u001b[0;32mIn[7], line 2\u001b[0m\n\u001b[1;32m      1\u001b[0m string \u001b[39m=\u001b[39m \u001b[39m\"\u001b[39m\u001b[39mahmet\u001b[39m\u001b[39m\"\u001b[39m\n\u001b[0;32m----> 2\u001b[0m \u001b[39mprint\u001b[39m(string[\u001b[39m10\u001b[39;49m])\n",
      "\u001b[0;31mIndexError\u001b[0m: string index out of range"
     ]
    }
   ],
   "source": [
    "string = \"ahmet\"\n",
    "print(string[10])"
   ]
  },
  {
   "cell_type": "code",
   "execution_count": 11,
   "metadata": {},
   "outputs": [
    {
     "name": "stdout",
     "output_type": "stream",
     "text": [
      "Bir hata oluştu. Bölüm sıfır olamaz.\n"
     ]
    }
   ],
   "source": [
    "# şimdi try except bloğu ile hata alınca ne olacağına bakalım\n",
    "bölünen = 10\n",
    "bölen = 0\n",
    "try:\n",
    "    bölüm = bölünen / bölen\n",
    "    print(bölüm)\n",
    "except:\n",
    "    print(\"Bir hata oluştu. Bölüm sıfır olamaz.\")"
   ]
  },
  {
   "cell_type": "code",
   "execution_count": 12,
   "metadata": {},
   "outputs": [
    {
     "name": "stdout",
     "output_type": "stream",
     "text": [
      "Bir hata oluştu! Bölüm sıfır olamaz.\n"
     ]
    }
   ],
   "source": [
    "# şimdi except bloğuna hata türünü belirterek yazalım\n",
    "bölünen = 10\n",
    "bölen = 0\n",
    "try:\n",
    "    bölüm = bölünen / bölen\n",
    "    print(bölüm)\n",
    "except ZeroDivisionError:\n",
    "    print(\"Bir hata oluştu! Bölüm sıfır olamaz.\")\n",
    "# sadece sıfır  ile bölünme hatasını yakalar    "
   ]
  },
  {
   "cell_type": "code",
   "execution_count": 13,
   "metadata": {},
   "outputs": [
    {
     "ename": "NameError",
     "evalue": "name 'x' is not defined",
     "output_type": "error",
     "traceback": [
      "\u001b[0;31m---------------------------------------------------------------------------\u001b[0m",
      "\u001b[0;31mNameError\u001b[0m                                 Traceback (most recent call last)",
      "Cell \u001b[0;32mIn[13], line 3\u001b[0m\n\u001b[1;32m      1\u001b[0m \u001b[39m# NameError hatasını ZeroDivisionError hatasını yakalamak için kullanamayız\u001b[39;00m\n\u001b[1;32m      2\u001b[0m bölünen \u001b[39m=\u001b[39m \u001b[39m10\u001b[39m\n\u001b[0;32m----> 3\u001b[0m x\n\u001b[1;32m      4\u001b[0m bölen \u001b[39m=\u001b[39m \u001b[39m0\u001b[39m\n\u001b[1;32m      5\u001b[0m \u001b[39mtry\u001b[39;00m:\n",
      "\u001b[0;31mNameError\u001b[0m: name 'x' is not defined"
     ]
    }
   ],
   "source": [
    "# NameError hatasını ZeroDivisionError hatasını yakalamak için kullanamayız\n",
    "bölünen = 10\n",
    "x\n",
    "bölen = 0\n",
    "try:\n",
    "    bölüm = bölünen / bölen\n",
    "    print(bölüm)\n",
    "except ZeroDivisionError:\n",
    "    print(\"Bir hata oluştu! Bölüm sıfır olamaz.\")\n",
    "# sadece sıfır  ile bölünme hatasını yakalar    "
   ]
  },
  {
   "cell_type": "code",
   "execution_count": 15,
   "metadata": {},
   "outputs": [
    {
     "ename": "NameError",
     "evalue": "name 'x' is not defined",
     "output_type": "error",
     "traceback": [
      "\u001b[0;31m---------------------------------------------------------------------------\u001b[0m",
      "\u001b[0;31mNameError\u001b[0m                                 Traceback (most recent call last)",
      "Cell \u001b[0;32mIn[15], line 4\u001b[0m\n\u001b[1;32m      1\u001b[0m \u001b[39m# NameError hatasını ZeroDivisionError hatasını yakalamak için kullanamayız\u001b[39;00m\n\u001b[1;32m      2\u001b[0m \u001b[39m# burada soru sor. NameError hatasını neden yakalamıyoruz? Çünktü try bloğu içinde değişken tanımlanmamış\u001b[39;00m\n\u001b[1;32m      3\u001b[0m bölünen \u001b[39m=\u001b[39m \u001b[39m10\u001b[39m\n\u001b[0;32m----> 4\u001b[0m x\n\u001b[1;32m      5\u001b[0m bölen \u001b[39m=\u001b[39m \u001b[39m0\u001b[39m\n\u001b[1;32m      6\u001b[0m \u001b[39mtry\u001b[39;00m:\n",
      "\u001b[0;31mNameError\u001b[0m: name 'x' is not defined"
     ]
    }
   ],
   "source": [
    "# NameError hatasını ZeroDivisionError hatasını yakalamak için kullanamayız\n",
    "# burada soru sor. NameError hatasını neden yakalamıyoruz? Çünktü try bloğu içinde değişken tanımlanmamış\n",
    "bölünen = 10\n",
    "x\n",
    "bölen = 0\n",
    "try:\n",
    "    bölüm = bölünen / bölen\n",
    "    print(bölüm)\n",
    "except NameError:\n",
    "    print(\"Bir hata oluştu! Tanımlanmamış değişken kullanıldı.\") \n",
    "except ZeroDivisionError:\n",
    "    print(\"Bir hata oluştu! Bölüm sıfır olamaz.\")\n",
    " "
   ]
  },
  {
   "cell_type": "code",
   "execution_count": 18,
   "metadata": {},
   "outputs": [
    {
     "name": "stdout",
     "output_type": "stream",
     "text": [
      "Bir hata oluştu! Tanımlanmamış değişken kullanıldı.\n"
     ]
    }
   ],
   "source": [
    "# NameError hatasını ZeroDivisionError hatasını yakalamak için kullanamayız\n",
    "# burada soru sor. NameError hatasını neden yakalamıyoruz? Çünktü try bloğu içinde değişken tanımlanmamış\n",
    "\n",
    "try:\n",
    "    bölünen = 10\n",
    "    x\n",
    "    bölen = 0\n",
    "    bölüm = bölünen / bölen\n",
    "    print(bölüm)\n",
    "except ZeroDivisionError:\n",
    "    print(\"Bir hata oluştu! Bölüm sıfır olamaz.\")    \n",
    "except NameError:\n",
    "    print(\"Bir hata oluştu! Tanımlanmamış değişken kullanıldı.\") \n",
    "\n",
    "# ilk except uymaıdğı için ikinci except e bakıyor "
   ]
  },
  {
   "cell_type": "code",
   "execution_count": 19,
   "metadata": {},
   "outputs": [
    {
     "ename": "IndexError",
     "evalue": "string index out of range",
     "output_type": "error",
     "traceback": [
      "\u001b[0;31m---------------------------------------------------------------------------\u001b[0m",
      "\u001b[0;31mIndexError\u001b[0m                                Traceback (most recent call last)",
      "Cell \u001b[0;32mIn[19], line 8\u001b[0m\n\u001b[1;32m      6\u001b[0m bölünen \u001b[39m=\u001b[39m \u001b[39m10\u001b[39m\n\u001b[1;32m      7\u001b[0m x \u001b[39m=\u001b[39m \u001b[39m\"\u001b[39m\u001b[39mahmet\u001b[39m\u001b[39m\"\u001b[39m\n\u001b[0;32m----> 8\u001b[0m \u001b[39mprint\u001b[39m(x[\u001b[39m10\u001b[39;49m])\n\u001b[1;32m      9\u001b[0m bölen \u001b[39m=\u001b[39m \u001b[39m0\u001b[39m\n\u001b[1;32m     10\u001b[0m bölüm \u001b[39m=\u001b[39m bölünen \u001b[39m/\u001b[39m bölen\n",
      "\u001b[0;31mIndexError\u001b[0m: string index out of range"
     ]
    }
   ],
   "source": [
    "# şimdi bir de index hatasını yakalayalım\n",
    "# NameError hatasını ZeroDivisionError hatasını yakalamak için kullanamayız\n",
    "# burada soru sor. NameError hatasını neden yakalamıyoruz? Çünktü try bloğu içinde değişken tanımlanmamış\n",
    "\n",
    "try:\n",
    "    bölünen = 10\n",
    "    x = \"ahmet\"\n",
    "    print(x[10])\n",
    "    bölen = 0\n",
    "    bölüm = bölünen / bölen\n",
    "    print(bölüm)\n",
    "except ZeroDivisionError:\n",
    "    print(\"Bir hata oluştu! Bölüm sıfır olamaz.\")    \n",
    "except NameError:\n",
    "    print(\"Bir hata oluştu! Tanımlanmamış değişken kullanıldı.\") \n",
    "\n",
    "# ilk except uymaıdğı için ikinci except e bakıyor "
   ]
  },
  {
   "cell_type": "code",
   "execution_count": 20,
   "metadata": {},
   "outputs": [
    {
     "name": "stdout",
     "output_type": "stream",
     "text": [
      "Bir hata oluştu! İndeks hatası.\n"
     ]
    }
   ],
   "source": [
    "# şimdi bir de index hatasını yakalayalım\n",
    "# NameError hatasını ZeroDivisionError hatasını yakalamak için kullanamayız\n",
    "# burada soru sor. NameError hatasını neden yakalamıyoruz? Çünktü try bloğu içinde değişken tanımlanmamış\n",
    "\n",
    "try:\n",
    "    bölünen = 10\n",
    "    x = \"ahmet\"\n",
    "    print(x[10])\n",
    "    bölen = 0\n",
    "    bölüm = bölünen / bölen\n",
    "    print(bölüm)\n",
    "except ZeroDivisionError:\n",
    "    print(\"Bir hata oluştu! Bölüm sıfır olamaz.\")    \n",
    "except NameError:\n",
    "    print(\"Bir hata oluştu! Tanımlanmamış değişken kullanıldı.\") \n",
    "except IndexError:\n",
    "    print(\"Bir hata oluştu! İndeks hatası.\") "
   ]
  },
  {
   "cell_type": "code",
   "execution_count": 24,
   "metadata": {},
   "outputs": [
    {
     "name": "stdout",
     "output_type": "stream",
     "text": [
      "Bir hata oluştu! Tüm hatalar burada yakalanır.\n"
     ]
    }
   ],
   "source": [
    "# Tüm hatalar için except bloğu kullanabiliriz. Tüm hata türlerini except bloğu içinde yazmak yerine\n",
    "# en sona bir tane except bloğu yazarak tüm hataları yakalayabiliriz\n",
    "try:\n",
    "    bölünen = 10\n",
    "    x = \"ahmet\"\n",
    "    x['key']\n",
    "    bölen = 0\n",
    "    bölüm = bölünen / bölen\n",
    "    print(bölüm)\n",
    "except ZeroDivisionError:\n",
    "    print(\"Bir hata oluştu! Bölüm sıfır olamaz.\")    \n",
    "except NameError:\n",
    "    print(\"Bir hata oluştu! Tanımlanmamış değişken kullanıldı.\") \n",
    "except IndexError:\n",
    "    print(\"Bir hata oluştu! İndeks hatası.\") \n",
    "except:\n",
    "    print(\"Bir hata oluştu! Tüm hatalar burada yakalanır.\")"
   ]
  },
  {
   "cell_type": "code",
   "execution_count": 27,
   "metadata": {},
   "outputs": [
    {
     "name": "stdout",
     "output_type": "stream",
     "text": [
      "Bir hata oluştu! Tüm hatalar burada yakalanır.\n"
     ]
    }
   ],
   "source": [
    "# peki tüm hatalatı yakalayan except i en başa yazarksa ne olur?\n",
    "try:\n",
    "    bölünen = 10\n",
    "    x = \"ahmet\"\n",
    "    x['key']\n",
    "    bölen = 0\n",
    "    bölüm = bölünen / bölen\n",
    "    print(bölüm)\n",
    "except Exception:\n",
    "    print(\"Bir hata oluştu! Tüm hatalar burada yakalanır.\")\n",
    "except ZeroDivisionError:\n",
    "    print(\"Bir hata oluştu! Bölüm sıfır olamaz.\")\n",
    "except NameError:   \n",
    "    print(\"Bir hata oluştu! Tanımlanmamış değişken kullanıldı.\")"
   ]
  },
  {
   "cell_type": "code",
   "execution_count": 30,
   "metadata": {},
   "outputs": [
    {
     "name": "stdout",
     "output_type": "stream",
     "text": [
      "Bir hata oluştu! Tüm hatalar burada yakalanır.\n"
     ]
    }
   ],
   "source": [
    "# Peki bu işin daha güzel bir yolu var mı? Evet var.\n",
    "# try except bloklarını birleştirerek daha kısa ve daha güzel bir kod yazabiliriz\n",
    "try:\n",
    "    bölünen = 10\n",
    "    x = \"ahmet\"\n",
    "    x['key']\n",
    "    bölen = 0\n",
    "    bölüm = bölünen / bölen\n",
    "    print(bölüm)\n",
    "except (ZeroDivisionError, NameError, IndexError, TypeError):\n",
    "    print(\"Bir hata oluştu! Tüm hatalar burada yakalanır.\")\n",
    "\n",
    "# bu yöntem pratik ama hataların türlerini görmek için kullanılmaz    "
   ]
  },
  {
   "cell_type": "code",
   "execution_count": 31,
   "metadata": {},
   "outputs": [
    {
     "name": "stdout",
     "output_type": "stream",
     "text": [
      "Bir hata oluştu! Hata türü:  <class 'TypeError'>\n",
      "Hata mesajı:  string indices must be integers\n"
     ]
    }
   ],
   "source": [
    "# Bu yüzden exception ı yakalayıp exception nesnesini kullanmak daha mantıklıdır\n",
    "try:\n",
    "    bölünen = 10\n",
    "    x = \"ahmet\"\n",
    "    x['key']\n",
    "    bölen = 0\n",
    "    bölüm = bölünen / bölen\n",
    "    print(bölüm)\n",
    "except Exception as e:\n",
    "    print(\"Bir hata oluştu! Hata türü: \", type(e))\n",
    "    print(\"Hata mesajı: \", e)"
   ]
  },
  {
   "cell_type": "code",
   "execution_count": 34,
   "metadata": {},
   "outputs": [
    {
     "name": "stdout",
     "output_type": "stream",
     "text": [
      "Bir hata oluştu! Hata türü:  <class 'TypeError'>\n",
      "Hata mesajı:  string indices must be integers\n",
      "Finally bloğu çalıştı.\n"
     ]
    }
   ],
   "source": [
    "# finally bloğu\n",
    "# finally bloğu try except bloklarından sonra kullanılır\n",
    "# finally bloğu her durumda çalışır\n",
    "try:\n",
    "    bölünen = 10\n",
    "    x = \"ahmet\"\n",
    "    x['key']\n",
    "    bölen = 0\n",
    "    bölüm = bölünen / bölen\n",
    "    print(bölüm)\n",
    "except Exception as e:\n",
    "    print(\"Bir hata oluştu! Hata türü: \", type(e))\n",
    "    print(\"Hata mesajı: \", e)\n",
    "finally:\n",
    "    print(\"Finally bloğu çalıştı.\") "
   ]
  },
  {
   "cell_type": "code",
   "execution_count": 42,
   "metadata": {},
   "outputs": [
    {
     "ename": "Exception",
     "evalue": "Kendi hatamızı oluşturduk.",
     "output_type": "error",
     "traceback": [
      "\u001b[0;31m---------------------------------------------------------------------------\u001b[0m",
      "\u001b[0;31mException\u001b[0m                                 Traceback (most recent call last)",
      "Cell \u001b[0;32mIn[42], line 2\u001b[0m\n\u001b[1;32m      1\u001b[0m \u001b[39m# şimdi raise ile kendi hatamız oluşturalım\u001b[39;00m\n\u001b[0;32m----> 2\u001b[0m \u001b[39mraise\u001b[39;00m \u001b[39mException\u001b[39;00m(\u001b[39m\"\u001b[39m\u001b[39mKendi hatamızı oluşturduk.\u001b[39m\u001b[39m\"\u001b[39m)\n",
      "\u001b[0;31mException\u001b[0m: Kendi hatamızı oluşturduk."
     ]
    }
   ],
   "source": [
    "# şimdi raise ile kendi hatamız oluşturalım\n",
    "raise Exception(\"Kendi hatamızı oluşturduk.\")"
   ]
  },
  {
   "cell_type": "code",
   "execution_count": 50,
   "metadata": {},
   "outputs": [],
   "source": [
    "# Bir örnekle açıklayalım\n",
    "def terscevir(s):\n",
    "    if (type(s) != str):\n",
    "        raise TypeError(\"Lütfen bir string girin.\")\n",
    "    else:\n",
    "        return s[::-1]"
   ]
  },
  {
   "cell_type": "code",
   "execution_count": 55,
   "metadata": {},
   "outputs": [
    {
     "data": {
      "text/plain": [
       "'Bu film çok güzel.'"
      ]
     },
     "execution_count": 55,
     "metadata": {},
     "output_type": "execute_result"
    }
   ],
   "source": [
    "# başka bir örnek\n",
    "yasaklı_kelime_listesi = [\"kötü\", \"çirkin\", \"berbat\"]\n",
    "def temizle(s):\n",
    "    for kelime in yasaklı_kelime_listesi:\n",
    "        if kelime in s:\n",
    "            raise ValueError(\"Kelime yasaklı.\")\n",
    "    return s\n",
    "\n"
   ]
  },
  {
   "cell_type": "code",
   "execution_count": 56,
   "metadata": {},
   "outputs": [
    {
     "data": {
      "text/plain": [
       "'Bu film çok güzel.'"
      ]
     },
     "execution_count": 56,
     "metadata": {},
     "output_type": "execute_result"
    }
   ],
   "source": [
    "# şimdi bu fonksiyonları kullanalım\n",
    "temizle(\"Bu film çok güzel.\")"
   ]
  },
  {
   "cell_type": "code",
   "execution_count": 57,
   "metadata": {},
   "outputs": [
    {
     "ename": "ValueError",
     "evalue": "Kelime yasaklı.",
     "output_type": "error",
     "traceback": [
      "\u001b[0;31m---------------------------------------------------------------------------\u001b[0m",
      "\u001b[0;31mValueError\u001b[0m                                Traceback (most recent call last)",
      "Cell \u001b[0;32mIn[57], line 1\u001b[0m\n\u001b[0;32m----> 1\u001b[0m temizle(\u001b[39m\"\u001b[39;49m\u001b[39mBu film çok kötü.\u001b[39;49m\u001b[39m\"\u001b[39;49m)\n",
      "Cell \u001b[0;32mIn[55], line 6\u001b[0m, in \u001b[0;36mtemizle\u001b[0;34m(s)\u001b[0m\n\u001b[1;32m      4\u001b[0m \u001b[39mfor\u001b[39;00m kelime \u001b[39min\u001b[39;00m yasaklı_kelime_listesi:\n\u001b[1;32m      5\u001b[0m     \u001b[39mif\u001b[39;00m kelime \u001b[39min\u001b[39;00m s:\n\u001b[0;32m----> 6\u001b[0m         \u001b[39mraise\u001b[39;00m \u001b[39mValueError\u001b[39;00m(\u001b[39m\"\u001b[39m\u001b[39mKelime yasaklı.\u001b[39m\u001b[39m\"\u001b[39m)\n\u001b[1;32m      7\u001b[0m \u001b[39mreturn\u001b[39;00m s\n",
      "\u001b[0;31mValueError\u001b[0m: Kelime yasaklı."
     ]
    }
   ],
   "source": [
    "temizle(\"Bu film çok kötü.\")"
   ]
  },
  {
   "cell_type": "code",
   "execution_count": 58,
   "metadata": {},
   "outputs": [
    {
     "name": "stdout",
     "output_type": "stream",
     "text": [
      "Kelime yasaklı.\n"
     ]
    }
   ],
   "source": [
    "# şimdi kendi oluşturduğumuz hataları yakalayalım\n",
    "try:\n",
    "    temizle(\"Bu film çok kötü.\")\n",
    "except ValueError as e:\n",
    "    print(e)"
   ]
  },
  {
   "cell_type": "code",
   "execution_count": null,
   "metadata": {},
   "outputs": [],
   "source": []
  }
 ],
 "metadata": {
  "kernelspec": {
   "display_name": "Python 3",
   "language": "python",
   "name": "python3"
  },
  "language_info": {
   "codemirror_mode": {
    "name": "ipython",
    "version": 3
   },
   "file_extension": ".py",
   "mimetype": "text/x-python",
   "name": "python",
   "nbconvert_exporter": "python",
   "pygments_lexer": "ipython3",
   "version": "3.10.6"
  },
  "orig_nbformat": 4
 },
 "nbformat": 4,
 "nbformat_minor": 2
}
