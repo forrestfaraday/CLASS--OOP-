{
 "cells": [
  {
   "cell_type": "markdown",
   "metadata": {},
   "source": [
    "# *args ve **kwargs"
   ]
  },
  {
   "cell_type": "code",
   "execution_count": 1,
   "metadata": {},
   "outputs": [],
   "source": [
    "# fonksiyonların biraz daha ileri düzey kullanımlardan bahsedeceğiz\n"
   ]
  },
  {
   "cell_type": "code",
   "execution_count": 2,
   "metadata": {},
   "outputs": [],
   "source": [
    "# fonksiyonların parameteleri ile ilgili konuşacağız"
   ]
  },
  {
   "cell_type": "code",
   "execution_count": 11,
   "metadata": {},
   "outputs": [],
   "source": [
    "def kuvvet_al(x, y):\n",
    "    return x ** y"
   ]
  },
  {
   "cell_type": "code",
   "execution_count": 6,
   "metadata": {},
   "outputs": [
    {
     "data": {
      "text/plain": [
       "8"
      ]
     },
     "execution_count": 6,
     "metadata": {},
     "output_type": "execute_result"
    }
   ],
   "source": [
    "kuvvet_al(2, 3)"
   ]
  },
  {
   "cell_type": "code",
   "execution_count": null,
   "metadata": {},
   "outputs": [],
   "source": [
    "# positional arguments sıralı parametreler\n",
    "# sıralı parametrelerde parametrelerin sırası önemlidir\n"
   ]
  },
  {
   "cell_type": "code",
   "execution_count": 9,
   "metadata": {},
   "outputs": [
    {
     "ename": "TypeError",
     "evalue": "kuvvet_al() takes 2 positional arguments but 3 were given",
     "output_type": "error",
     "traceback": [
      "\u001b[0;31m---------------------------------------------------------------------------\u001b[0m",
      "\u001b[0;31mTypeError\u001b[0m                                 Traceback (most recent call last)",
      "Cell \u001b[0;32mIn[9], line 1\u001b[0m\n\u001b[0;32m----> 1\u001b[0m kuvvet_al(\u001b[39m3\u001b[39;49m, \u001b[39m2\u001b[39;49m,\u001b[39m1\u001b[39;49m)\n",
      "\u001b[0;31mTypeError\u001b[0m: kuvvet_al() takes 2 positional arguments but 3 were given"
     ]
    }
   ],
   "source": [
    "kuvvet_al(3, 2,1)"
   ]
  },
  {
   "cell_type": "code",
   "execution_count": 12,
   "metadata": {},
   "outputs": [
    {
     "ename": "TypeError",
     "evalue": "kuvvet_al() missing 1 required positional argument: 'y'",
     "output_type": "error",
     "traceback": [
      "\u001b[0;31m---------------------------------------------------------------------------\u001b[0m",
      "\u001b[0;31mTypeError\u001b[0m                                 Traceback (most recent call last)",
      "Cell \u001b[0;32mIn[12], line 1\u001b[0m\n\u001b[0;32m----> 1\u001b[0m kuvvet_al(\u001b[39m3\u001b[39;49m)\n",
      "\u001b[0;31mTypeError\u001b[0m: kuvvet_al() missing 1 required positional argument: 'y'"
     ]
    }
   ],
   "source": [
    "kuvvet_al(3)"
   ]
  },
  {
   "cell_type": "code",
   "execution_count": 16,
   "metadata": {},
   "outputs": [],
   "source": [
    "# keyword arguments anahtar kelime argümanları\n",
    "# ön tanımlı değerler\n",
    "def bilgi_ver(ad, soyad, sehir=\"İstanbul\"):\n",
    "    print(f\"Ad: {ad} Soyad: {soyad} Şehir: {sehir}\")"
   ]
  },
  {
   "cell_type": "code",
   "execution_count": 17,
   "metadata": {},
   "outputs": [
    {
     "name": "stdout",
     "output_type": "stream",
     "text": [
      "Ad: Murat Soyad: Vuranok Şehir: Ankara\n"
     ]
    }
   ],
   "source": [
    "bilgi_ver(\"Murat\", \"Vuranok\", \"Ankara\")"
   ]
  },
  {
   "cell_type": "code",
   "execution_count": 18,
   "metadata": {},
   "outputs": [
    {
     "name": "stdout",
     "output_type": "stream",
     "text": [
      "Ad: Ali Soyad: Veli Şehir: İstanbul\n"
     ]
    }
   ],
   "source": [
    "bilgi_ver(\"Ali\", \"Veli\")"
   ]
  },
  {
   "cell_type": "code",
   "execution_count": 20,
   "metadata": {},
   "outputs": [
    {
     "data": {
      "text/plain": [
       "3"
      ]
     },
     "execution_count": 20,
     "metadata": {},
     "output_type": "execute_result"
    }
   ],
   "source": [
    "# şimdi değişken sayıda parametre alan fonksiyonlara bakalım\n",
    "def topla(x,y):\n",
    "    return x + y\n",
    "topla(1,2)"
   ]
  },
  {
   "cell_type": "code",
   "execution_count": 21,
   "metadata": {},
   "outputs": [],
   "source": [
    "# değişken sayıda parametre alan fonksiyon tanımlamak için\n",
    "# *args kullanıyoruz\n",
    "def topla(*args):\n",
    "    print(args)\n",
    "    return sum(args)"
   ]
  },
  {
   "cell_type": "code",
   "execution_count": 22,
   "metadata": {},
   "outputs": [
    {
     "name": "stdout",
     "output_type": "stream",
     "text": [
      "(1, 2, 3, 4, 5, 6, 7, 8, 9, 10)\n"
     ]
    },
    {
     "data": {
      "text/plain": [
       "55"
      ]
     },
     "execution_count": 22,
     "metadata": {},
     "output_type": "execute_result"
    }
   ],
   "source": [
    "topla(1,2,3,4,5,6,7,8,9,10)"
   ]
  },
  {
   "cell_type": "code",
   "execution_count": 25,
   "metadata": {},
   "outputs": [
    {
     "name": "stdout",
     "output_type": "stream",
     "text": [
      "([1, 2, 3, 4],)\n"
     ]
    },
    {
     "ename": "TypeError",
     "evalue": "unsupported operand type(s) for +: 'int' and 'list'",
     "output_type": "error",
     "traceback": [
      "\u001b[0;31m---------------------------------------------------------------------------\u001b[0m",
      "\u001b[0;31mTypeError\u001b[0m                                 Traceback (most recent call last)",
      "Cell \u001b[0;32mIn[25], line 1\u001b[0m\n\u001b[0;32m----> 1\u001b[0m topla([\u001b[39m1\u001b[39;49m,\u001b[39m2\u001b[39;49m,\u001b[39m3\u001b[39;49m,\u001b[39m4\u001b[39;49m])\n",
      "Cell \u001b[0;32mIn[21], line 5\u001b[0m, in \u001b[0;36mtopla\u001b[0;34m(*args)\u001b[0m\n\u001b[1;32m      3\u001b[0m \u001b[39mdef\u001b[39;00m \u001b[39mtopla\u001b[39m(\u001b[39m*\u001b[39margs):\n\u001b[1;32m      4\u001b[0m     \u001b[39mprint\u001b[39m(args)\n\u001b[0;32m----> 5\u001b[0m     \u001b[39mreturn\u001b[39;00m \u001b[39msum\u001b[39;49m(args)\n",
      "\u001b[0;31mTypeError\u001b[0m: unsupported operand type(s) for +: 'int' and 'list'"
     ]
    }
   ],
   "source": [
    "topla([1,2,3,4])"
   ]
  },
  {
   "cell_type": "code",
   "execution_count": 26,
   "metadata": {},
   "outputs": [
    {
     "name": "stdout",
     "output_type": "stream",
     "text": [
      "(1, 2, 3, 4)\n"
     ]
    },
    {
     "data": {
      "text/plain": [
       "10"
      ]
     },
     "execution_count": 26,
     "metadata": {},
     "output_type": "execute_result"
    }
   ],
   "source": [
    "topla(*[1,2,3,4])"
   ]
  },
  {
   "cell_type": "code",
   "execution_count": 28,
   "metadata": {},
   "outputs": [],
   "source": [
    "# *args ile fonksiyon tanımlarken\n",
    "# fonksiyon içinde args'ı tuple olarak kullanabiliriz\n",
    "def type_checker(*args):\n",
    "    print(type(args))"
   ]
  },
  {
   "cell_type": "code",
   "execution_count": 29,
   "metadata": {},
   "outputs": [
    {
     "name": "stdout",
     "output_type": "stream",
     "text": [
      "<class 'tuple'>\n"
     ]
    }
   ],
   "source": [
    "type_checker(1,2,3,4,5)"
   ]
  },
  {
   "cell_type": "code",
   "execution_count": 30,
   "metadata": {},
   "outputs": [],
   "source": [
    "# o halde tuple ile yaptığımız işlemleri args ile yapabiliriz\n",
    "def çarp(*args):\n",
    "    sonuç = 1\n",
    "    for i in args:\n",
    "        sonuç *= i\n",
    "    return sonuç\n",
    "    "
   ]
  },
  {
   "cell_type": "code",
   "execution_count": 31,
   "metadata": {},
   "outputs": [
    {
     "data": {
      "text/plain": [
       "6"
      ]
     },
     "execution_count": 31,
     "metadata": {},
     "output_type": "execute_result"
    }
   ],
   "source": [
    "çarp(1,2,3)"
   ]
  },
  {
   "cell_type": "code",
   "execution_count": 32,
   "metadata": {},
   "outputs": [
    {
     "data": {
      "text/plain": [
       "30"
      ]
     },
     "execution_count": 32,
     "metadata": {},
     "output_type": "execute_result"
    }
   ],
   "source": [
    "çarp(1,2,3,5)"
   ]
  },
  {
   "cell_type": "code",
   "execution_count": 35,
   "metadata": {},
   "outputs": [
    {
     "data": {
      "text/plain": [
       "2.0"
      ]
     },
     "execution_count": 35,
     "metadata": {},
     "output_type": "execute_result"
    }
   ],
   "source": [
    "# şimdi de ortalama hesaplama fonksiyonu yazalım\n",
    "def ortalama(*args):\n",
    "    return sum(args) / len(args)\n",
    "\n",
    "ortalama(1,2,3)"
   ]
  },
  {
   "cell_type": "code",
   "execution_count": 36,
   "metadata": {},
   "outputs": [
    {
     "name": "stdout",
     "output_type": "stream",
     "text": [
      "Merhaba\n",
      "Nasılsın?\n",
      "(3, 4, 5, 6, 7, 8, 9, 10)\n"
     ]
    },
    {
     "data": {
      "text/plain": [
       "6.5"
      ]
     },
     "execution_count": 36,
     "metadata": {},
     "output_type": "execute_result"
    }
   ],
   "source": [
    "# positional argument ile *args birlikte kullanabiliriz\n",
    "def selamla_ortalama_al(a, b, *args):\n",
    "    print(a)\n",
    "    print(b)\n",
    "    print(args)\n",
    "    return sum(args) / len(args)\n",
    "\n",
    "selamla_ortalama_al(\"Merhaba\",\"Nasılsın?\",3,4,5,6,7,8,9,10)\n"
   ]
  },
  {
   "cell_type": "code",
   "execution_count": 37,
   "metadata": {},
   "outputs": [],
   "source": [
    "# şimdide değişken sayıda keyword argument alan fonksiyonlara bakalım\n",
    "# **kwargs kullanıyoruz\n",
    "def bilgi_ver(**kwargs):\n",
    "    print(kwargs)\n",
    "    print(type(kwargs))"
   ]
  },
  {
   "cell_type": "code",
   "execution_count": 38,
   "metadata": {},
   "outputs": [
    {
     "name": "stdout",
     "output_type": "stream",
     "text": [
      "{'ad': 'Murat', 'soyad': 'Vuranok', 'sehir': 'Ankara'}\n",
      "<class 'dict'>\n"
     ]
    }
   ],
   "source": [
    "bilgi_ver(ad=\"Murat\", soyad=\"Vuranok\", sehir=\"Ankara\")"
   ]
  },
  {
   "cell_type": "code",
   "execution_count": 46,
   "metadata": {},
   "outputs": [],
   "source": [
    "# şimdi positional args ve keyword args birlikte kullanalım\n",
    "def my_func(a, b, *args, **kwargs):\n",
    "    print(f\"Positional zorunlu argümanlar: {a} ve {b}\")\n",
    "    print(f\"Değişken sayıda positional argümanlar: {args}\")\n",
    "    print(f\"Değişken sayıda keyword argümanlar: {kwargs}\")\n"
   ]
  },
  {
   "cell_type": "code",
   "execution_count": 45,
   "metadata": {},
   "outputs": [
    {
     "name": "stdout",
     "output_type": "stream",
     "text": [
      "Positional zorunlu argümanlar: merhaba ve nasılsın?\n",
      "Değişken sayıda positional argümanlar: (1, 2, 3, 4, 5, 6, 7, 8, 9, 10)\n",
      "D e ğ i ş k e n   s a y ı d a   k e y w o r d   a r g ü m a n l a r :   { ' a d ' :   ' M u r a t ' ,   ' s o y a d ' :   ' V u r a n o k ' ,   ' s e h i r ' :   ' A n k a r a ' }\n"
     ]
    }
   ],
   "source": [
    "my_func(\"merhaba\",\"nasılsın?\",1,2,3,4,5,6,7,8,9,10, ad=\"Murat\", soyad=\"Vuranok\", sehir=\"Ankara\")"
   ]
  },
  {
   "cell_type": "markdown",
   "metadata": {},
   "source": [
    "## iç içe fonksiyonlar"
   ]
  },
  {
   "cell_type": "code",
   "execution_count": 47,
   "metadata": {},
   "outputs": [],
   "source": [
    "# iç içe fonksiyonlar\n",
    "def dış_fonksiyon():\n",
    "    print(\"Dış fonksiyon çalıştı\") \n",
    "    def iç_fonksiyon():\n",
    "        print(\"İç fonksiyon çalıştı\")   \n",
    "\n"
   ]
  },
  {
   "cell_type": "code",
   "execution_count": 48,
   "metadata": {},
   "outputs": [
    {
     "name": "stdout",
     "output_type": "stream",
     "text": [
      "Dış fonksiyon çalıştı\n"
     ]
    }
   ],
   "source": [
    "# burada çıktı ne olur? soru sor\n",
    "dış_fonksiyon()"
   ]
  },
  {
   "cell_type": "code",
   "execution_count": 49,
   "metadata": {},
   "outputs": [],
   "source": [
    "def dış_fonksiyon():\n",
    "    print(\"Dış fonksiyon çalıştı\") \n",
    "    def iç_fonksiyon():\n",
    "        print(\"İç fonksiyon çalıştı\")   \n",
    "    iç_fonksiyon()"
   ]
  },
  {
   "cell_type": "code",
   "execution_count": 50,
   "metadata": {},
   "outputs": [
    {
     "name": "stdout",
     "output_type": "stream",
     "text": [
      "Dış fonksiyon çalıştı\n",
      "İç fonksiyon çalıştı\n"
     ]
    }
   ],
   "source": [
    "dış_fonksiyon()"
   ]
  },
  {
   "cell_type": "code",
   "execution_count": null,
   "metadata": {},
   "outputs": [],
   "source": [
    "# şimdi başka bir örnek yapalım. Sonucu soru sor\n",
    "def kare_karekök(x):\n",
    "    def kare(x):\n",
    "        return x ** 2\n",
    "    def karekök(x):\n",
    "        return x ** 0.5\n",
    "    kare(x), karekök(x)"
   ]
  },
  {
   "cell_type": "code",
   "execution_count": null,
   "metadata": {},
   "outputs": [],
   "source": [
    "def kare_karekök(x):\n",
    "    def kare(x):\n",
    "        return x ** 2\n",
    "    def karekök(x):\n",
    "        return x ** 0.5\n",
    "    return kare(x), karekök(x)"
   ]
  },
  {
   "cell_type": "code",
   "execution_count": 53,
   "metadata": {},
   "outputs": [],
   "source": [
    "# şimdi *args ile bir örnek yapalım\n",
    "def toplam_çarpım(*args):\n",
    "    def topla(*args):\n",
    "        return sum(args)\n",
    "    def çarp(*args):\n",
    "        sonuç = 1\n",
    "        for i in args:\n",
    "            sonuç *= i\n",
    "        return sonuç\n",
    "    return topla(*args), çarp(*args)"
   ]
  },
  {
   "cell_type": "code",
   "execution_count": 54,
   "metadata": {},
   "outputs": [
    {
     "data": {
      "text/plain": [
       "(55, 3628800)"
      ]
     },
     "execution_count": 54,
     "metadata": {},
     "output_type": "execute_result"
    }
   ],
   "source": [
    "toplam_çarpım(1,2,3,4,5,6,7,8,9,10)"
   ]
  },
  {
   "cell_type": "markdown",
   "metadata": {},
   "source": [
    "# Fonksiyonlardan Fonksiyon döndürmek\n"
   ]
  },
  {
   "cell_type": "code",
   "execution_count": 55,
   "metadata": {},
   "outputs": [],
   "source": [
    "# basit bir örnek ile devam edelim\n",
    "def fonk(x):\n",
    "    return x ** 2"
   ]
  },
  {
   "cell_type": "code",
   "execution_count": 56,
   "metadata": {},
   "outputs": [],
   "source": [
    "# şimdi fonksiyonun döndürdüğü değeri bir değişkene atayalım\n",
    "sonuç = fonk(5)"
   ]
  },
  {
   "cell_type": "code",
   "execution_count": 57,
   "metadata": {},
   "outputs": [
    {
     "data": {
      "text/plain": [
       "25"
      ]
     },
     "execution_count": 57,
     "metadata": {},
     "output_type": "execute_result"
    }
   ],
   "source": [
    "sonuç"
   ]
  },
  {
   "cell_type": "code",
   "execution_count": 58,
   "metadata": {},
   "outputs": [],
   "source": [
    "# peki fonkisyonu çağırmadan atanabilir mi?\n",
    "sonuç = fonk"
   ]
  },
  {
   "cell_type": "code",
   "execution_count": 59,
   "metadata": {},
   "outputs": [
    {
     "name": "stdout",
     "output_type": "stream",
     "text": [
      "<function fonk at 0x7f12306c6d40>\n"
     ]
    }
   ],
   "source": [
    "print(sonuç)"
   ]
  },
  {
   "cell_type": "code",
   "execution_count": 60,
   "metadata": {},
   "outputs": [
    {
     "data": {
      "text/plain": [
       "(25, 25)"
      ]
     },
     "execution_count": 60,
     "metadata": {},
     "output_type": "execute_result"
    }
   ],
   "source": [
    "sonuç(5), fonk(5)"
   ]
  },
  {
   "cell_type": "code",
   "execution_count": 63,
   "metadata": {},
   "outputs": [],
   "source": [
    "#  Varmak istediğimiz nokta şu: fonksiyonları bir değişkene atayabiliriz\n",
    "# fonksiyon içinde fonksiyon oluşturalım ve çalıştırmadan geri döndürelim\n",
    "# fonksiyon çağırma ve fonksiyonu döndürme sorusunu sor parantez açma kapama\n",
    "def işlem_seç(işlem):\n",
    "    def toplama(*args):\n",
    "        return sum(args)\n",
    "    def çarpma(*args):\n",
    "        sonuç = 1\n",
    "        for i in args:\n",
    "            sonuç *= i\n",
    "        return sonuç\n",
    "    def ortalama(*args):\n",
    "        return sum(args) / len(args)\n",
    "    if işlem == \"toplama\":\n",
    "        return toplama\n",
    "    elif işlem == \"çarpma\":\n",
    "        return çarpma\n",
    "    elif işlem == \"ortalama\":\n",
    "        return ortalama"
   ]
  },
  {
   "cell_type": "code",
   "execution_count": 64,
   "metadata": {},
   "outputs": [
    {
     "name": "stdout",
     "output_type": "stream",
     "text": [
      "<function işlem_seç.<locals>.toplama at 0x7f12306c6200>\n"
     ]
    }
   ],
   "source": [
    "toplam_func = işlem_seç(\"toplama\")\n",
    "print(toplam_func)"
   ]
  },
  {
   "cell_type": "code",
   "execution_count": 65,
   "metadata": {},
   "outputs": [
    {
     "data": {
      "text/plain": [
       "55"
      ]
     },
     "execution_count": 65,
     "metadata": {},
     "output_type": "execute_result"
    }
   ],
   "source": [
    "toplam_func(1,2,3,4,5,6,7,8,9,10)"
   ]
  },
  {
   "cell_type": "code",
   "execution_count": 66,
   "metadata": {},
   "outputs": [
    {
     "name": "stdout",
     "output_type": "stream",
     "text": [
      "<function işlem_seç.<locals>.çarpma at 0x7f12306c6b90>\n",
      "100\n"
     ]
    }
   ],
   "source": [
    "çarpma_func = işlem_seç(\"çarpma\")\n",
    "print(çarpma_func)\n",
    "print(çarpma_func(10,10))"
   ]
  },
  {
   "cell_type": "code",
   "execution_count": 67,
   "metadata": {},
   "outputs": [
    {
     "name": "stdout",
     "output_type": "stream",
     "text": [
      "5.5\n"
     ]
    }
   ],
   "source": [
    "print(işlem_seç(\"ortalama\")(1,2,3,4,5,6,7,8,9,10))"
   ]
  },
  {
   "attachments": {},
   "cell_type": "markdown",
   "metadata": {},
   "source": [
    "# Fonksiyonlara parametre olarak fonksiyon göndermek"
   ]
  },
  {
   "cell_type": "code",
   "execution_count": 68,
   "metadata": {},
   "outputs": [],
   "source": [
    "# basit bir örnek ile asıl konumuzu anlatmaya çalışalım\n",
    "def topla(x,y):\n",
    "    return x + y\n",
    "def çarpma(x,y):\n",
    "    return x * y\n",
    "def işlem_yap(x,y,func):\n",
    "    return func(x,y)"
   ]
  },
  {
   "cell_type": "code",
   "execution_count": 72,
   "metadata": {},
   "outputs": [
    {
     "ename": "TypeError",
     "evalue": "işlem_yap() missing 2 required positional arguments: 'y' and 'func'",
     "output_type": "error",
     "traceback": [
      "\u001b[0;31m---------------------------------------------------------------------------\u001b[0m",
      "\u001b[0;31mTypeError\u001b[0m                                 Traceback (most recent call last)",
      "Cell \u001b[0;32mIn[72], line 2\u001b[0m\n\u001b[1;32m      1\u001b[0m \u001b[39m# burada sonucu tahmin etmelerinmi iste\u001b[39;00m\n\u001b[0;32m----> 2\u001b[0m işlem_yap(topla(\u001b[39m1\u001b[39;49m,\u001b[39m2\u001b[39;49m))\n",
      "\u001b[0;31mTypeError\u001b[0m: işlem_yap() missing 2 required positional arguments: 'y' and 'func'"
     ]
    }
   ],
   "source": [
    "# burada sonucu tahmin etmelerinmi iste\n",
    "işlem_yap(topla(1,2))"
   ]
  },
  {
   "cell_type": "code",
   "execution_count": 69,
   "metadata": {},
   "outputs": [
    {
     "data": {
      "text/plain": [
       "3"
      ]
     },
     "execution_count": 69,
     "metadata": {},
     "output_type": "execute_result"
    }
   ],
   "source": [
    "işlem_yap(1,2,topla)"
   ]
  },
  {
   "cell_type": "code",
   "execution_count": 70,
   "metadata": {},
   "outputs": [
    {
     "data": {
      "text/plain": [
       "15"
      ]
     },
     "execution_count": 70,
     "metadata": {},
     "output_type": "execute_result"
    }
   ],
   "source": [
    "# şimdi fonksiyona parametre olarak fonksiyon gönderelim\n",
    "işlem_yap(topla(1,2), çarpma(3,4), topla)"
   ]
  },
  {
   "cell_type": "code",
   "execution_count": 74,
   "metadata": {},
   "outputs": [],
   "source": [
    "# başka bir örnek yapalım\n",
    "liste1 = [1,2,3,4,5]\n",
    "liste2 = [6,7,8,9,10]\n",
    "\n",
    "def kare_al(x):\n",
    "    return x ** 2\n",
    "def kup_al(x):\n",
    "    return x ** 3\n",
    "def map_fonksiyonu(func, liste):\n",
    "    sonuç = []\n",
    "    for i in liste:\n",
    "        sonuç.append(func(i))\n",
    "    return sonuç"
   ]
  },
  {
   "cell_type": "code",
   "execution_count": 75,
   "metadata": {},
   "outputs": [
    {
     "data": {
      "text/plain": [
       "[1, 4, 9, 16, 25]"
      ]
     },
     "execution_count": 75,
     "metadata": {},
     "output_type": "execute_result"
    }
   ],
   "source": [
    "map_fonksiyonu(kare_al, liste1)"
   ]
  }
 ],
 "metadata": {
  "kernelspec": {
   "display_name": "Python 3",
   "language": "python",
   "name": "python3"
  },
  "language_info": {
   "codemirror_mode": {
    "name": "ipython",
    "version": 3
   },
   "file_extension": ".py",
   "mimetype": "text/x-python",
   "name": "python",
   "nbconvert_exporter": "python",
   "pygments_lexer": "ipython3",
   "version": "3.10.6"
  },
  "orig_nbformat": 4
 },
 "nbformat": 4,
 "nbformat_minor": 2
}
