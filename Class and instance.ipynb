{
 "cells": [
  {
   "attachments": {},
   "cell_type": "markdown",
   "metadata": {},
   "source": [
    "OOP Nedir? OOP, Nesne Yönelimli Programlama (Object Oriented Programming) kavramını kısaca ifade eder. Nesne Yönelimli Programlama, programlama dillerindeki nesnelerin özelliklerini ve davranışlarını tanımlamak için kullanılan bir programlama paradigmasıdır. \n",
    "Bir örnek ile açıklayacak olursak. Bir ürünü her seferinde tek tek aynı işçiliği yaparak üretmek yerine, üretim hattında ürünün özelliklerini ve işlevlerini tanımlayıp, üretim hattında bu özellikleri ve işlevleri kullanan bir ürün(kalıp) oluşturmak daha mantıklıdır. Bu şekilde üretim hattında ürün oluşturmak, ürün oluşturmak için her seferinde aynı işçiliği yapmak kadar maliyetli olmayacaktır.\n",
    "Her defasında ağaç resmi çizmek yerine bir ağacın temel özelliklerini tanımlayıp bir baksı oluşturmak daha mantıklıdır. Bu şekilde ağaç resmi çizmek, her defasında ağaç resmi çizmek kadar maliyetli olmayacaktır. DAha sonra bu baksıyı kullanarak istediğimiz kadar ağaç resmi çizebiliriz ve temel özellikleri belirlediğimiz ağaç resmine yeni renkler, yeni özellikler ekleyebiliriz.\n",
    "Çocukluğumuzun patates baskısı buna örnektir. Çeşitli ürünlerin üretimi için önce o ürünün özelliklerini yansıtan kalıplar oluşturmak gibi düşünebiliriz. Bu kalıpların özelliklerini ve işlevlerini tanımlamak için OOP kullanılır. :)"
   ]
  },
  {
   "attachments": {},
   "cell_type": "markdown",
   "metadata": {},
   "source": [
    "Aslında python dilini öğrenirken nesneleri ve sınıfları kullanıyoruz. Evet, Python programlama dilinde her şey bir nesnedir. Python, tam anlamıyla nesne yönelimli bir programlama dilidir ve her şeyi nesne olarak temsil eder. Her veri tipi (sayılar, diziler, sözlükler, fonksiyonlar vb.), kullanıcı tarafından tanımlanan sınıflar da dahil olmak üzere, Python dilinde bir nesne olarak kabul edilir ve nesne yönelimli programlama prensiplerine uyar."
   ]
  },
  {
   "attachments": {},
   "cell_type": "markdown",
   "metadata": {},
   "source": [
    "Matbu form örnekleri class için bir örnek olarak verilebilir. \n",
    "\n",
    "yani ortak özellikleri olan ve ortak amaç için kullanılabilen yapıları grupladığımız bir yapı\n"
   ]
  },
  {
   "attachments": {},
   "cell_type": "markdown",
   "metadata": {},
   "source": [
    "1-  Sınıf (Class) ve Instance (Örnek) Kavramları\n",
    "\n",
    "2-  Sınıf (Class) oluşturma\n",
    "\n",
    "3-  Sınıf (Class) ve Instance (Örnek) Özellikleri\n",
    "\n"
   ]
  },
  {
   "cell_type": "code",
   "execution_count": 1,
   "metadata": {},
   "outputs": [],
   "source": [
    "# ilk python class ımız tanımlıyoruz\n",
    "class MyFirstClass:\n",
    "    pass"
   ]
  },
  {
   "cell_type": "code",
   "execution_count": 2,
   "metadata": {},
   "outputs": [
    {
     "name": "stdout",
     "output_type": "stream",
     "text": [
      "<class '__main__.MyFirstClass'>\n",
      "<class 'str'>\n"
     ]
    }
   ],
   "source": [
    "# type() fonksiyonu ile class ımızın tipini öğreniyoruz\n",
    "print(MyFirstClass)\n",
    "print(str)"
   ]
  },
  {
   "cell_type": "code",
   "execution_count": 4,
   "metadata": {},
   "outputs": [
    {
     "name": "stdout",
     "output_type": "stream",
     "text": [
      "<__main__.Person object at 0x7fa4c6dfa950>\n",
      "<__main__.Person object at 0x7fa4c450bd90>\n"
     ]
    }
   ],
   "source": [
    "class Person:\n",
    "    pass\n",
    "p1 = Person()\n",
    "print(p1)\n",
    "p2 = Person()\n",
    "print(p2)\n",
    "\n",
    "\"\"\"\n",
    "\"<main.Person object at 0x7fa4c450bd90>\" ifadesi, \n",
    "Python'da \"Person\" sınıfından bir nesnenin temsilidir. \n",
    "Python'da nesneler, sınıfların örnekleridir v \n",
    "\"<main.Person object at 0x7fa4c450bd90>\" metni, \n",
    "nesnenin bilgisayarın belleğindeki konumunu belirten \n",
    "bellek adresini gösterir.\n",
    "\n",
    "\"<main.Person\" kısmı, \"Person\" sınıfının \"main\" \n",
    "modülünde tanımlandığını belirtir. \"main\" modülü, \n",
    "nesnenin oluşturulduğu Python betiği veya etkileşimli\n",
    " oturumun ana modülüdür.\n",
    "\"\"\""
   ]
  },
  {
   "cell_type": "code",
   "execution_count": 11,
   "metadata": {},
   "outputs": [],
   "source": [
    "\"\"\"  \n",
    "şimdi boş şablonumuzu dolduralım\n",
    "nesnemizie özellikler ekleyelim\n",
    "attributes\n",
    "\"\"\"\n",
    "p1.name = \"Ahmet\"\n",
    "p1.surname = \"Yılmaz\"\n",
    "p1.age = 25\n",
    "p1.job = \"Engineer\"\n",
    "p2.name = \"Mehmet\"\n",
    "p2.surname = \"Kara\"\n",
    "p2.age = 30\n",
    "p2.job = \"Doctor\"\n"
   ]
  },
  {
   "cell_type": "code",
   "execution_count": 8,
   "metadata": {},
   "outputs": [
    {
     "name": "stdout",
     "output_type": "stream",
     "text": [
      "Ahmet Yılmaz 25 Engineer\n"
     ]
    }
   ],
   "source": [
    "print(p1.name, p1.surname, p1.age, p1.job)"
   ]
  },
  {
   "cell_type": "code",
   "execution_count": 9,
   "metadata": {},
   "outputs": [
    {
     "name": "stdout",
     "output_type": "stream",
     "text": [
      "Mehmet Kara 30 Doctor\n"
     ]
    }
   ],
   "source": [
    "print(p2.name, p2.surname, p2.age, p2.job)"
   ]
  },
  {
   "cell_type": "code",
   "execution_count": 10,
   "metadata": {},
   "outputs": [
    {
     "name": "stdout",
     "output_type": "stream",
     "text": [
      "<class 'str'>\n"
     ]
    }
   ],
   "source": [
    "print(type(p1.name))"
   ]
  },
  {
   "cell_type": "markdown",
   "metadata": {},
   "source": [
    "Bu şekilde bir kullanım dersimizin başında belirttiğimiz gibi\n",
    "class mantığına çok da uygun örnekler değil. Çünkü class lar belli\n",
    "bir grubu temsil eden ve aynı amaca hizmet eden özelliklerin gruplanması\n",
    "ve bu özelliklerin bir arada tutulması için kullanılır. Burada çok genel bir \n",
    "gruplama yapmış olduk :) "
   ]
  },
  {
   "cell_type": "code",
   "execution_count": 36,
   "metadata": {},
   "outputs": [],
   "source": [
    "# Fonksiyonu tanımlamak bir de fonksiyonu çağırmak diye kavramlar var.\n",
    "def my_function():\n",
    "    return \"Hello from a function\"\n",
    "\n",
    "\n"
   ]
  },
  {
   "cell_type": "code",
   "execution_count": null,
   "metadata": {},
   "outputs": [],
   "source": [
    "# fonksiyonu çağırdığımızda içinde tanımlanan kod bloklarını \n",
    "# çalıştırır ve sonucu döndürür\n",
    "print(my_function)\n",
    "print(my_function())"
   ]
  },
  {
   "cell_type": "code",
   "execution_count": 39,
   "metadata": {},
   "outputs": [],
   "source": [
    "# şimdi class çağırdığımızda ne olacak\n",
    "# class ımızı çağırdığımızda bir nesne oluşturur\n",
    "# ve bu nesneyi döndürür\n",
    "# şimdi nesne oluştururken yapılmasını istediklerimizi tanımlayalım"
   ]
  },
  {
   "cell_type": "code",
   "execution_count": 40,
   "metadata": {},
   "outputs": [],
   "source": [
    "# class ımızı yeniden tanımlayalım\n",
    "# Biraz daha gelişmiş hale getirelim\n",
    "class Person:\n",
    "    def __init__(self): # nesne oluşturulduğunda çalışacak fonksiyon\n",
    "        # aşağıda ise nesne oluşturulduğunda bu özelliklerin oluşmasını istiyoruz\n",
    "        self.name = \"No name\"\n",
    "        self.surname = \"No surname\"\n",
    "        self.age = 0\n",
    "        self.job = \"No job\"\n"
   ]
  },
  {
   "cell_type": "code",
   "execution_count": 43,
   "metadata": {},
   "outputs": [
    {
     "name": "stdout",
     "output_type": "stream",
     "text": [
      "<class '__main__.Person'>\n",
      "<__main__.Person object at 0x7fa4c42a82e0>\n",
      "No name No surname 0 No job\n"
     ]
    }
   ],
   "source": [
    "p1 = Person()\n",
    "print(Person)\n",
    "print(p1)\n",
    "# şimdi nesne özelliğimizi yazdıralım\n",
    "print(p1.name, p1.surname, p1.age, p1.job)"
   ]
  },
  {
   "cell_type": "code",
   "execution_count": 1,
   "metadata": {},
   "outputs": [],
   "source": [
    "# yukarıdaki açıklamaları biraz sonra oluşacak kafa karışıklığını\n",
    "# gidermek için yaptık. Şimdi biraz daha işlevsel hale getirelim\n",
    "# class ımızı yeniden tanımlayalım\n",
    "class Person:\n",
    "    def __init__(self, name, surname, age, job):\n",
    "        self.name = name\n",
    "        self.surname = surname\n",
    "        self.age = age\n",
    "        self.job = job"
   ]
  },
  {
   "cell_type": "code",
   "execution_count": 2,
   "metadata": {},
   "outputs": [],
   "source": [
    "# self.name bizim nesnemizin name özelliğidir. Name özelliğine name değerini atadık\n",
    "# self.surname bizim nesnemizin surname özelliğidir. Surname özelliğine surname değerini atadık\n",
    "# self.age bizim nesnemizin age özelliğidir. Age özelliğine age değerini atadık\n",
    "# self.job bizim nesnemizin job özelliğidir. Job özelliğine job değerini atadık\n",
    "# self.name = name olarak yukarıdaki açıklamaları yapmadan gitsek kafa karışıklığı olurdu\n"
   ]
  },
  {
   "cell_type": "code",
   "execution_count": 4,
   "metadata": {},
   "outputs": [
    {
     "ename": "TypeError",
     "evalue": "Person.__init__() missing 4 required positional arguments: 'name', 'surname', 'age', and 'job'",
     "output_type": "error",
     "traceback": [
      "\u001b[0;31m---------------------------------------------------------------------------\u001b[0m",
      "\u001b[0;31mTypeError\u001b[0m                                 Traceback (most recent call last)",
      "Cell \u001b[0;32mIn[4], line 1\u001b[0m\n\u001b[0;32m----> 1\u001b[0m p1 \u001b[39m=\u001b[39m Person()\n",
      "\u001b[0;31mTypeError\u001b[0m: Person.__init__() missing 4 required positional arguments: 'name', 'surname', 'age', and 'job'"
     ]
    }
   ],
   "source": [
    "p1 = Person()"
   ]
  },
  {
   "cell_type": "code",
   "execution_count": 3,
   "metadata": {},
   "outputs": [],
   "source": [
    "# class ımızı yeniden tanımlayalım. \n",
    "# hangi parametresnin bizden hangi tip veri beklediğini de belirtelim\n",
    "class Person:\n",
    "    def __init__(self, name:str, surname:str, age:int, job:str):\n",
    "        \n",
    "        self.name = name\n",
    "        self.surname = surname\n",
    "        self.age = age\n",
    "        self.job = job"
   ]
  },
  {
   "cell_type": "code",
   "execution_count": 33,
   "metadata": {},
   "outputs": [
    {
     "name": "stdout",
     "output_type": "stream",
     "text": [
      "name: Ahmet, surname: Yılmaz, age: 25, job: Engineer\n"
     ]
    }
   ],
   "source": [
    "p1 = Person(\"Ahmet\", \"Yılmaz\", 25, \"Engineer\")\n",
    "print(f\"name: {p1.name}, surname: {p1.surname}, age: {p1.age}, job: {p1.job}\")"
   ]
  },
  {
   "cell_type": "code",
   "execution_count": 5,
   "metadata": {},
   "outputs": [],
   "source": [
    "# __init__ fonksiyonuna yakından bakalım\n",
    "# __init__ fonksiyonu nesne oluşturulduğunda çalışır\n",
    "# __init__ fonksiyonu içerisinde yer alan self değişkeni, neseyi çağırdığımızı belirtir\n",
    "# Bu yüzden nesnenin kendi kendini çağırdığını ifade etmek için self yani kendim ifadesini kullanırız\n",
    "# self yerine istediğiniz başka bir değişken ismi de kullanabilirsiniz\n",
    "\n"
   ]
  },
  {
   "cell_type": "code",
   "execution_count": 6,
   "metadata": {},
   "outputs": [],
   "source": [
    "class Person:\n",
    "    def __init__(kendim):\n",
    "        kendim.name = \"No name\"\n",
    "        kendim.surname = \"No surname\""
   ]
  },
  {
   "cell_type": "code",
   "execution_count": 7,
   "metadata": {},
   "outputs": [
    {
     "name": "stdout",
     "output_type": "stream",
     "text": [
      "No name No surname\n"
     ]
    }
   ],
   "source": [
    "p1 = Person()\n",
    "print(p1.name, p1.surname)"
   ]
  },
  {
   "cell_type": "code",
   "execution_count": 8,
   "metadata": {},
   "outputs": [
    {
     "name": "stdout",
     "output_type": "stream",
     "text": [
      "Ahmet Yılmaz\n"
     ]
    }
   ],
   "source": [
    "class Person:\n",
    "    def __init__(kendim, name, surname):\n",
    "        kendim.name = name\n",
    "        kendim.surname = surname\n",
    "\n",
    "p1 = Person(\"Ahmet\", \"Yılmaz\")\n",
    "print(p1.name, p1.surname)"
   ]
  },
  {
   "cell_type": "code",
   "execution_count": null,
   "metadata": {},
   "outputs": [],
   "source": [
    "# init altında tanımladıklarımız instance attributes olarak adlandırılır\n",
    "# instance attributes nesne özellikleridir"
   ]
  },
  {
   "cell_type": "code",
   "execution_count": 15,
   "metadata": {},
   "outputs": [],
   "source": [
    "# bir class içerisinde tanımladığımız fonksiyonlara method denir\n",
    "# şimdi bir method tanımlayalım\n",
    "class Person:\n",
    "    def __init__(self, name, surname):\n",
    "        self.name = name\n",
    "        self.surname = surname\n",
    "\n",
    "    def fullname(self): # self parametresi ile nesneyi çağırdığımızı belirtiyoruz\n",
    "        return f\"{self.name} {self.surname}\""
   ]
  },
  {
   "cell_type": "code",
   "execution_count": 14,
   "metadata": {},
   "outputs": [
    {
     "name": "stdout",
     "output_type": "stream",
     "text": [
      "Ahmet Yılmaz\n"
     ]
    }
   ],
   "source": [
    "kişi = Person(\"Ahmet\", \"Yılmaz\")\n",
    "print(kişi.fullname())"
   ]
  },
  {
   "cell_type": "code",
   "execution_count": 17,
   "metadata": {},
   "outputs": [],
   "source": [
    "# class içerisinde birden fazla method tanımlayabiliriz.\n",
    "class Person:\n",
    "    def __init__(self, name, surname, age, job):\n",
    "        self.name = name\n",
    "        self.surname = surname\n",
    "        \n",
    "\n",
    "    def fullname(self): # self parametresi ile nesneyi çağırdığımızı belirtiyoruz\n",
    "        return f\"{self.name} {self.surname}\"\n",
    "\n",
    "    def info(self):\n",
    "        return f\"name: {self.name}\\n surname: {self.surname}\\n age: {self.age}\\n job: {self.job}\""
   ]
  },
  {
   "cell_type": "code",
   "execution_count": 18,
   "metadata": {},
   "outputs": [
    {
     "name": "stdout",
     "output_type": "stream",
     "text": [
      "Ahmet Yılmaz\n"
     ]
    },
    {
     "ename": "AttributeError",
     "evalue": "'Person' object has no attribute 'age'",
     "output_type": "error",
     "traceback": [
      "\u001b[0;31m---------------------------------------------------------------------------\u001b[0m",
      "\u001b[0;31mAttributeError\u001b[0m                            Traceback (most recent call last)",
      "Cell \u001b[0;32mIn[18], line 3\u001b[0m\n\u001b[1;32m      1\u001b[0m p1 \u001b[39m=\u001b[39m Person(\u001b[39m\"\u001b[39m\u001b[39mAhmet\u001b[39m\u001b[39m\"\u001b[39m, \u001b[39m\"\u001b[39m\u001b[39mYılmaz\u001b[39m\u001b[39m\"\u001b[39m, \u001b[39m25\u001b[39m, \u001b[39m\"\u001b[39m\u001b[39mEngineer\u001b[39m\u001b[39m\"\u001b[39m)\n\u001b[1;32m      2\u001b[0m \u001b[39mprint\u001b[39m(p1\u001b[39m.\u001b[39mfullname())\n\u001b[0;32m----> 3\u001b[0m \u001b[39mprint\u001b[39m(p1\u001b[39m.\u001b[39;49minfo())\n",
      "Cell \u001b[0;32mIn[17], line 11\u001b[0m, in \u001b[0;36mPerson.info\u001b[0;34m(self)\u001b[0m\n\u001b[1;32m     10\u001b[0m \u001b[39mdef\u001b[39;00m \u001b[39minfo\u001b[39m(\u001b[39mself\u001b[39m):\n\u001b[0;32m---> 11\u001b[0m     \u001b[39mreturn\u001b[39;00m \u001b[39mf\u001b[39m\u001b[39m\"\u001b[39m\u001b[39mname: \u001b[39m\u001b[39m{\u001b[39;00m\u001b[39mself\u001b[39m\u001b[39m.\u001b[39mname\u001b[39m}\u001b[39;00m\u001b[39m\\n\u001b[39;00m\u001b[39m surname: \u001b[39m\u001b[39m{\u001b[39;00m\u001b[39mself\u001b[39m\u001b[39m.\u001b[39msurname\u001b[39m}\u001b[39;00m\u001b[39m\\n\u001b[39;00m\u001b[39m age: \u001b[39m\u001b[39m{\u001b[39;00m\u001b[39mself\u001b[39;49m\u001b[39m.\u001b[39;49mage\u001b[39m}\u001b[39;00m\u001b[39m\\n\u001b[39;00m\u001b[39m job: \u001b[39m\u001b[39m{\u001b[39;00m\u001b[39mself\u001b[39m\u001b[39m.\u001b[39mjob\u001b[39m}\u001b[39;00m\u001b[39m\"\u001b[39m\n",
      "\u001b[0;31mAttributeError\u001b[0m: 'Person' object has no attribute 'age'"
     ]
    }
   ],
   "source": [
    "p1 = Person(\"Ahmet\", \"Yılmaz\", 25, \"Engineer\")\n",
    "print(p1.fullname())\n",
    "print(p1.info())"
   ]
  },
  {
   "cell_type": "code",
   "execution_count": 22,
   "metadata": {},
   "outputs": [],
   "source": [
    "# Yukarıdaki hata kodunu bilerek yaptık. Çünkü hata kodunu gördükten sonra\n",
    "\n",
    "class Person:\n",
    "    def __init__(self, name, surname, age, job):\n",
    "        self.name = name\n",
    "        self.surname = surname\n",
    "        self.age = age\n",
    "        self.job = job\n",
    "\n",
    "    def fullname(self): # self parametresi ile nesneyi çağırdığımızı belirtiyoruz\n",
    "        return f\"{self.name} {self.surname}\"\n",
    "\n",
    "    def info(self):\n",
    "        return f\"name: {self.name}\\n surname: {self.surname}\\n age: {self.age}\\n job: {self.job}\""
   ]
  },
  {
   "cell_type": "code",
   "execution_count": 23,
   "metadata": {},
   "outputs": [
    {
     "name": "stdout",
     "output_type": "stream",
     "text": [
      "Ahmet Yılmaz\n",
      "name: Ahmet\n",
      " surname: Yılmaz\n",
      " age: 25\n",
      " job: Engineer\n"
     ]
    }
   ],
   "source": [
    "p1 = Person(\"Ahmet\", \"Yılmaz\", 25, \"Engineer\")\n",
    "print(p1.fullname())\n",
    "print(p1.info())"
   ]
  },
  {
   "cell_type": "code",
   "execution_count": 27,
   "metadata": {},
   "outputs": [
    {
     "name": "stdout",
     "output_type": "stream",
     "text": [
      "name: Ahmet\n",
      " surname: Yılmaz\n",
      " age: 25\n",
      " job: Engineer\n"
     ]
    }
   ],
   "source": [
    "# yaygın olmayan bir kullanım sadece görmek için \n",
    "# hani self parametresi nesnenin kendisini çağırdığını söyledik.\n",
    "# o zaman class üzerinden methodu çağıralım ve parametre olarak nesneyi gönderelim\n",
    "print(Person.info(p1))"
   ]
  },
  {
   "cell_type": "code",
   "execution_count": null,
   "metadata": {},
   "outputs": [],
   "source": [
    "# method tanımlarken self yerine farklı bir anahtar kelime kullanabiliriz\n"
   ]
  }
 ],
 "metadata": {
  "kernelspec": {
   "display_name": "fullstack",
   "language": "python",
   "name": "python3"
  },
  "language_info": {
   "codemirror_mode": {
    "name": "ipython",
    "version": 3
   },
   "file_extension": ".py",
   "mimetype": "text/x-python",
   "name": "python",
   "nbconvert_exporter": "python",
   "pygments_lexer": "ipython3",
   "version": "3.10.9"
  },
  "orig_nbformat": 4
 },
 "nbformat": 4,
 "nbformat_minor": 2
}
