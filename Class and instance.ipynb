{
 "cells": [
  {
   "attachments": {},
   "cell_type": "markdown",
   "metadata": {},
   "source": [
    "OOP Nedir? OOP, Nesne Yönelimli Programlama (Object Oriented Programming) kavramını kısaca ifade eder. Nesne Yönelimli Programlama, programlama dillerindeki nesnelerin özelliklerini ve davranışlarını tanımlamak için kullanılan bir programlama paradigmasıdır. \n",
    "Bir örnek ile açıklayacak olursak. Bir ürünü her seferinde tek tek aynı işçiliği yaparak üretmek yerine, üretim hattında ürünün özelliklerini ve işlevlerini tanımlayıp, üretim hattında bu özellikleri ve işlevleri kullanan bir ürün(kalıp) oluşturmak daha mantıklıdır. Bu şekilde üretim hattında ürün oluşturmak, ürün oluşturmak için her seferinde aynı işçiliği yapmak kadar maliyetli olmayacaktır.\n",
    "Her defasında ağaç resmi çizmek yerine bir ağacın temel özelliklerini tanımlayıp bir baksı oluşturmak daha mantıklıdır. Bu şekilde ağaç resmi çizmek, her defasında ağaç resmi çizmek kadar maliyetli olmayacaktır. DAha sonra bu baksıyı kullanarak istediğimiz kadar ağaç resmi çizebiliriz ve temel özellikleri belirlediğimiz ağaç resmine yeni renkler, yeni özellikler ekleyebiliriz.\n",
    "Çocukluğumuzun patates baskısı buna örnektir. Çeşitli ürünlerin üretimi için önce o ürünün özelliklerini yansıtan kalıplar oluşturmak gibi düşünebiliriz. Bu kalıpların özelliklerini ve işlevlerini tanımlamak için OOP kullanılır. :)"
   ]
  },
  {
   "attachments": {},
   "cell_type": "markdown",
   "metadata": {},
   "source": [
    "Aslında python dilini öğrenirken nesneleri ve sınıfları kullanıyoruz. Evet, Python programlama dilinde her şey bir nesnedir. Python, tam anlamıyla nesne yönelimli bir programlama dilidir ve her şeyi nesne olarak temsil eder. Her veri tipi (sayılar, diziler, sözlükler, fonksiyonlar vb.), kullanıcı tarafından tanımlanan sınıflar da dahil olmak üzere, Python dilinde bir nesne olarak kabul edilir ve nesne yönelimli programlama prensiplerine uyar."
   ]
  },
  {
   "attachments": {},
   "cell_type": "markdown",
   "metadata": {},
   "source": [
    "Matbu form örnekleri class için bir örnek olarak verilebilir. \n",
    "\n",
    "yani ortak özellikleri olan ve ortak amaç için kullanılabilen yapıları grupladığımız bir yapı\n"
   ]
  },
  {
   "attachments": {},
   "cell_type": "markdown",
   "metadata": {},
   "source": [
    "1-  Sınıf (Class) ve Instance (Örnek) Kavramları\n",
    "\n",
    "2-  Sınıf (Class) oluşturma\n",
    "\n",
    "3-  Sınıf (Class) ve Instance (Örnek) Özellikleri\n",
    "\n"
   ]
  },
  {
   "cell_type": "code",
   "execution_count": 2,
   "metadata": {},
   "outputs": [],
   "source": [
    "# ilk python class ımız tanımlıyoruz\n",
    "class MyFirstClass:\n",
    "    pass"
   ]
  },
  {
   "cell_type": "code",
   "execution_count": 3,
   "metadata": {},
   "outputs": [
    {
     "name": "stdout",
     "output_type": "stream",
     "text": [
      "<class '__main__.MyFirstClass'>\n",
      "<class 'int'>\n"
     ]
    }
   ],
   "source": [
    "# type() fonksiyonu ile class ımızın tipini öğreniyoruz\n",
    "print(MyFirstClass)\n",
    "print(int)"
   ]
  },
  {
   "cell_type": "code",
   "execution_count": 4,
   "metadata": {},
   "outputs": [
    {
     "name": "stdout",
     "output_type": "stream",
     "text": [
      "<__main__.Person object at 0x7f3f440f6bf0>\n",
      "<__main__.Person object at 0x7f3f440f75e0>\n"
     ]
    },
    {
     "data": {
      "text/plain": [
       "'\\n\"<main.Person object at 0x7fa4c450bd90>\" ifadesi, \\nPython\\'da \"Person\" sınıfından bir nesnenin temsilidir. \\nPython\\'da nesneler, sınıfların örnekleridir v \\n\"<main.Person object at 0x7fa4c450bd90>\" metni, \\nnesnenin bilgisayarın belleğindeki konumunu belirten \\nbellek adresini gösterir.\\n\\n\"<main.Person\" kısmı, \"Person\" sınıfının \"main\" \\nmodülünde tanımlandığını belirtir. \"main\" modülü, \\nnesnenin oluşturulduğu Python betiği veya etkileşimli\\n oturumun ana modülüdür.\\n'"
      ]
     },
     "execution_count": 4,
     "metadata": {},
     "output_type": "execute_result"
    }
   ],
   "source": [
    "class Person:\n",
    "    pass\n",
    "p1 = Person()\n",
    "print(p1)\n",
    "p2 = Person()\n",
    "print(p2)\n",
    "\n",
    "\"\"\"\n",
    "\"<main.Person object at 0x7fa4c450bd90>\" ifadesi, \n",
    "Python'da \"Person\" sınıfından bir nesnenin temsilidir. \n",
    "Python'da nesneler, sınıfların örnekleridir v \n",
    "\"<main.Person object at 0x7fa4c450bd90>\" metni, \n",
    "nesnenin bilgisayarın belleğindeki konumunu belirten \n",
    "bellek adresini gösterir.\n",
    "\n",
    "\"<main.Person\" kısmı, \"Person\" sınıfının \"main\" \n",
    "modülünde tanımlandığını belirtir. \"main\" modülü, \n",
    "nesnenin oluşturulduğu Python betiği veya etkileşimli\n",
    " oturumun ana modülüdür.\n",
    "\"\"\""
   ]
  },
  {
   "cell_type": "code",
   "execution_count": 5,
   "metadata": {},
   "outputs": [],
   "source": [
    "\"\"\"  \n",
    "şimdi boş şablonumuzu dolduralım\n",
    "nesnemizie özellikler ekleyelim\n",
    "attributes\n",
    "\"\"\"\n",
    "p1.name = \"Ahmet\"\n",
    "p1.surname = \"Yılmaz\"\n",
    "p1.age = 25\n",
    "p1.job = \"Engineer\"\n",
    "p2.name = \"Mehmet\"\n",
    "p2.surname = \"Kara\"\n",
    "p2.age = 30\n",
    "p2.job = \"Doctor\"\n"
   ]
  },
  {
   "cell_type": "code",
   "execution_count": 6,
   "metadata": {},
   "outputs": [
    {
     "name": "stdout",
     "output_type": "stream",
     "text": [
      "Ahmet Yılmaz 25 Engineer\n"
     ]
    }
   ],
   "source": [
    "print(p1.name, p1.surname, p1.age, p1.job)"
   ]
  },
  {
   "cell_type": "code",
   "execution_count": 7,
   "metadata": {},
   "outputs": [
    {
     "name": "stdout",
     "output_type": "stream",
     "text": [
      "Mehmet Kara 30 Doctor\n"
     ]
    }
   ],
   "source": [
    "print(p2.name, p2.surname, p2.age, p2.job)"
   ]
  },
  {
   "cell_type": "code",
   "execution_count": 8,
   "metadata": {},
   "outputs": [
    {
     "name": "stdout",
     "output_type": "stream",
     "text": [
      "<class 'str'>\n"
     ]
    }
   ],
   "source": [
    "print(type(p1.name))"
   ]
  },
  {
   "cell_type": "markdown",
   "metadata": {},
   "source": [
    "Bu şekilde bir kullanım dersimizin başında belirttiğimiz gibi\n",
    "class mantığına çok da uygun örnekler değil. Çünkü class lar belli\n",
    "bir grubu temsil eden ve aynı amaca hizmet eden özelliklerin gruplanması\n",
    "ve bu özelliklerin bir arada tutulması için kullanılır. Burada çok genel bir \n",
    "gruplama yapmış olduk :) "
   ]
  },
  {
   "cell_type": "code",
   "execution_count": 9,
   "metadata": {},
   "outputs": [],
   "source": [
    "# Fonksiyonu tanımlamak bir de fonksiyonu çağırmak diye kavramlar var.\n",
    "def my_function():\n",
    "    return \"Hello from a function\"\n",
    "\n",
    "\n"
   ]
  },
  {
   "cell_type": "code",
   "execution_count": 10,
   "metadata": {},
   "outputs": [
    {
     "name": "stdout",
     "output_type": "stream",
     "text": [
      "<function my_function at 0x7f3f3c6a1990>\n",
      "Hello from a function\n"
     ]
    }
   ],
   "source": [
    "# fonksiyonu çağırdığımızda içinde tanımlanan kod bloklarını \n",
    "# çalıştırır ve sonucu döndürür\n",
    "print(my_function)\n",
    "print(my_function())"
   ]
  },
  {
   "cell_type": "code",
   "execution_count": 11,
   "metadata": {},
   "outputs": [],
   "source": [
    "# şimdi class çağırdığımızda ne olacak\n",
    "# class ımızı çağırdığımızda bir nesne oluşturur\n",
    "# ve bu nesneyi döndürür\n",
    "# şimdi nesne oluştururken yapılmasını istediklerimizi tanımlayalım"
   ]
  },
  {
   "cell_type": "code",
   "execution_count": 12,
   "metadata": {},
   "outputs": [],
   "source": [
    "# class ımızı yeniden tanımlayalım\n",
    "# Biraz daha gelişmiş hale getirelim\n",
    "class Person:\n",
    "    def __init__(self): # nesne oluşturulduğunda çalışacak fonksiyon\n",
    "        # aşağıda ise nesne oluşturulduğunda bu özelliklerin oluşmasını istiyoruz\n",
    "        self.name = \"No name\"\n",
    "        self.surname = \"No surname\"\n",
    "        self.age = 0\n",
    "        self.job = \"No job\"\n"
   ]
  },
  {
   "cell_type": "code",
   "execution_count": 13,
   "metadata": {},
   "outputs": [
    {
     "name": "stdout",
     "output_type": "stream",
     "text": [
      "<class '__main__.Person'>\n",
      "<__main__.Person object at 0x7f3f440f7b20>\n",
      "No name No surname 0 No job\n"
     ]
    }
   ],
   "source": [
    "p1 = Person()\n",
    "print(Person)\n",
    "print(p1)\n",
    "# şimdi nesne özelliğimizi yazdıralım\n",
    "print(p1.name, p1.surname, p1.age, p1.job)"
   ]
  },
  {
   "cell_type": "code",
   "execution_count": 14,
   "metadata": {},
   "outputs": [],
   "source": [
    "# yukarıdaki açıklamaları biraz sonra oluşacak kafa karışıklığını\n",
    "# gidermek için yaptık. Şimdi biraz daha işlevsel hale getirelim\n",
    "# class ımızı yeniden tanımlayalım\n",
    "class Person:\n",
    "    def __init__(self, name, surname, age, job):\n",
    "        self.name = name\n",
    "        self.surname = surname\n",
    "        self.age = age\n",
    "        self.job = job"
   ]
  },
  {
   "cell_type": "code",
   "execution_count": 15,
   "metadata": {},
   "outputs": [],
   "source": [
    "# self.name bizim nesnemizin name özelliğidir. Name özelliğine name değerini atadık\n",
    "# self.surname bizim nesnemizin surname özelliğidir. Surname özelliğine surname değerini atadık\n",
    "# self.age bizim nesnemizin age özelliğidir. Age özelliğine age değerini atadık\n",
    "# self.job bizim nesnemizin job özelliğidir. Job özelliğine job değerini atadık\n",
    "# self.name = name olarak yukarıdaki açıklamaları yapmadan gitsek kafa karışıklığı olurdu\n"
   ]
  },
  {
   "cell_type": "code",
   "execution_count": 16,
   "metadata": {},
   "outputs": [
    {
     "ename": "TypeError",
     "evalue": "Person.__init__() missing 4 required positional arguments: 'name', 'surname', 'age', and 'job'",
     "output_type": "error",
     "traceback": [
      "\u001b[0;31m---------------------------------------------------------------------------\u001b[0m",
      "\u001b[0;31mTypeError\u001b[0m                                 Traceback (most recent call last)",
      "Cell \u001b[0;32mIn[16], line 1\u001b[0m\n\u001b[0;32m----> 1\u001b[0m p1 \u001b[39m=\u001b[39m Person()\n",
      "\u001b[0;31mTypeError\u001b[0m: Person.__init__() missing 4 required positional arguments: 'name', 'surname', 'age', and 'job'"
     ]
    }
   ],
   "source": [
    "p1 = Person()"
   ]
  },
  {
   "cell_type": "code",
   "execution_count": 17,
   "metadata": {},
   "outputs": [],
   "source": [
    "# class ımızı yeniden tanımlayalım. \n",
    "# hangi parametresnin bizden hangi tip veri beklediğini de belirtelim\n",
    "class Person:\n",
    "    def __init__(self, name:str, surname:str, age:int, job:str):\n",
    "        \n",
    "        self.name = name\n",
    "        self.surname = surname\n",
    "        self.age = age\n",
    "        self.job = job"
   ]
  },
  {
   "cell_type": "code",
   "execution_count": 18,
   "metadata": {},
   "outputs": [
    {
     "name": "stdout",
     "output_type": "stream",
     "text": [
      "name: Ahmet, surname: Yılmaz, age: 25, job: Engineer\n"
     ]
    }
   ],
   "source": [
    "p1 = Person(\"Ahmet\", \"Yılmaz\", 25, \"Engineer\")\n",
    "print(f\"name: {p1.name}, surname: {p1.surname}, age: {p1.age}, job: {p1.job}\")"
   ]
  },
  {
   "cell_type": "code",
   "execution_count": 19,
   "metadata": {},
   "outputs": [],
   "source": [
    "# __init__ fonksiyonuna yakından bakalım\n",
    "# __init__ fonksiyonu nesne oluşturulduğunda çalışır\n",
    "# __init__ fonksiyonu içerisinde yer alan self değişkeni, neseyi çağırdığımızı belirtir\n",
    "# Bu yüzden nesnenin kendi kendini çağırdığını ifade etmek için self yani kendim ifadesini kullanırız\n",
    "# self yerine istediğiniz başka bir değişken ismi de kullanabilirsiniz\n",
    "\n"
   ]
  },
  {
   "cell_type": "code",
   "execution_count": 20,
   "metadata": {},
   "outputs": [],
   "source": [
    "class Person:\n",
    "    def __init__(kendim):\n",
    "        kendim.name = \"No name\"\n",
    "        kendim.surname = \"No surname\""
   ]
  },
  {
   "cell_type": "code",
   "execution_count": 21,
   "metadata": {},
   "outputs": [
    {
     "name": "stdout",
     "output_type": "stream",
     "text": [
      "No name No surname\n"
     ]
    }
   ],
   "source": [
    "p1 = Person()\n",
    "print(p1.name, p1.surname)"
   ]
  },
  {
   "cell_type": "code",
   "execution_count": 22,
   "metadata": {},
   "outputs": [
    {
     "name": "stdout",
     "output_type": "stream",
     "text": [
      "Ahmet Yılmaz\n"
     ]
    }
   ],
   "source": [
    "class Person:\n",
    "    def __init__(kendim, name, surname):\n",
    "        kendim.name = name\n",
    "        kendim.surname = surname\n",
    "\n",
    "p1 = Person(\"Ahmet\", \"Yılmaz\")\n",
    "print(p1.name, p1.surname)"
   ]
  },
  {
   "cell_type": "code",
   "execution_count": 23,
   "metadata": {},
   "outputs": [],
   "source": [
    "# init altında tanımladıklarımız instance attributes olarak adlandırılır\n",
    "# instance attributes nesne özellikleridir"
   ]
  },
  {
   "cell_type": "code",
   "execution_count": 24,
   "metadata": {},
   "outputs": [],
   "source": [
    "# bir class içerisinde tanımladığımız fonksiyonlara method denir\n",
    "# şimdi bir method tanımlayalım\n",
    "class Person:\n",
    "    def __init__(self, name, surname):\n",
    "        self.name = name\n",
    "        self.surname = surname\n",
    "\n",
    "    def fullname(self): # self parametresi ile nesneyi çağırdığımızı belirtiyoruz\n",
    "        return f\"{self.name} {self.surname}\""
   ]
  },
  {
   "cell_type": "code",
   "execution_count": 25,
   "metadata": {},
   "outputs": [
    {
     "name": "stdout",
     "output_type": "stream",
     "text": [
      "Ahmet Yılmaz\n"
     ]
    }
   ],
   "source": [
    "kişi = Person(\"Ahmet\", \"Yılmaz\")\n",
    "print(kişi.fullname())"
   ]
  },
  {
   "cell_type": "code",
   "execution_count": 26,
   "metadata": {},
   "outputs": [],
   "source": [
    "# class içerisinde birden fazla method tanımlayabiliriz.\n",
    "class Person:\n",
    "    def __init__(self, name, surname, age, job):\n",
    "        self.name = name\n",
    "        self.surname = surname\n",
    "        \n",
    "\n",
    "    def fullname(self): # self parametresi ile nesneyi çağırdığımızı belirtiyoruz\n",
    "        return f\"{self.name} {self.surname}\"\n",
    "\n",
    "    def info(self):\n",
    "        return f\"name: {self.name}\\n surname: {self.surname}\\n age: {self.age}\\n job: {self.job}\""
   ]
  },
  {
   "cell_type": "code",
   "execution_count": 27,
   "metadata": {},
   "outputs": [
    {
     "name": "stdout",
     "output_type": "stream",
     "text": [
      "Ahmet Yılmaz\n"
     ]
    },
    {
     "ename": "AttributeError",
     "evalue": "'Person' object has no attribute 'age'",
     "output_type": "error",
     "traceback": [
      "\u001b[0;31m---------------------------------------------------------------------------\u001b[0m",
      "\u001b[0;31mAttributeError\u001b[0m                            Traceback (most recent call last)",
      "Cell \u001b[0;32mIn[27], line 3\u001b[0m\n\u001b[1;32m      1\u001b[0m p1 \u001b[39m=\u001b[39m Person(\u001b[39m\"\u001b[39m\u001b[39mAhmet\u001b[39m\u001b[39m\"\u001b[39m, \u001b[39m\"\u001b[39m\u001b[39mYılmaz\u001b[39m\u001b[39m\"\u001b[39m, \u001b[39m25\u001b[39m, \u001b[39m\"\u001b[39m\u001b[39mEngineer\u001b[39m\u001b[39m\"\u001b[39m)\n\u001b[1;32m      2\u001b[0m \u001b[39mprint\u001b[39m(p1\u001b[39m.\u001b[39mfullname())\n\u001b[0;32m----> 3\u001b[0m \u001b[39mprint\u001b[39m(p1\u001b[39m.\u001b[39;49minfo())\n",
      "Cell \u001b[0;32mIn[26], line 12\u001b[0m, in \u001b[0;36mPerson.info\u001b[0;34m(self)\u001b[0m\n\u001b[1;32m     11\u001b[0m \u001b[39mdef\u001b[39;00m \u001b[39minfo\u001b[39m(\u001b[39mself\u001b[39m):\n\u001b[0;32m---> 12\u001b[0m     \u001b[39mreturn\u001b[39;00m \u001b[39mf\u001b[39m\u001b[39m\"\u001b[39m\u001b[39mname: \u001b[39m\u001b[39m{\u001b[39;00m\u001b[39mself\u001b[39m\u001b[39m.\u001b[39mname\u001b[39m}\u001b[39;00m\u001b[39m\\n\u001b[39;00m\u001b[39m surname: \u001b[39m\u001b[39m{\u001b[39;00m\u001b[39mself\u001b[39m\u001b[39m.\u001b[39msurname\u001b[39m}\u001b[39;00m\u001b[39m\\n\u001b[39;00m\u001b[39m age: \u001b[39m\u001b[39m{\u001b[39;00m\u001b[39mself\u001b[39;49m\u001b[39m.\u001b[39;49mage\u001b[39m}\u001b[39;00m\u001b[39m\\n\u001b[39;00m\u001b[39m job: \u001b[39m\u001b[39m{\u001b[39;00m\u001b[39mself\u001b[39m\u001b[39m.\u001b[39mjob\u001b[39m}\u001b[39;00m\u001b[39m\"\u001b[39m\n",
      "\u001b[0;31mAttributeError\u001b[0m: 'Person' object has no attribute 'age'"
     ]
    }
   ],
   "source": [
    "p1 = Person(\"Ahmet\", \"Yılmaz\", 25, \"Engineer\")\n",
    "print(p1.fullname())\n",
    "print(p1.info())"
   ]
  },
  {
   "cell_type": "code",
   "execution_count": 28,
   "metadata": {},
   "outputs": [],
   "source": [
    "# Yukarıdaki hata kodunu bilerek yaptık. Çünkü hata kodunu gördükten sonra\n",
    "\n",
    "class Person:\n",
    "    def __init__(self, name, surname, age, job):\n",
    "        self.name = name\n",
    "        self.surname = surname\n",
    "        self.age = age\n",
    "        self.job = job\n",
    "\n",
    "    def fullname(self): # self parametresi ile nesneyi çağırdığımızı belirtiyoruz\n",
    "        return f\"{self.name} {self.surname}\"\n",
    "\n",
    "    def info(self):\n",
    "        return f\"name: {self.name}\\n surname: {self.surname}\\n age: {self.age}\\n job: {self.job}\""
   ]
  },
  {
   "cell_type": "code",
   "execution_count": 29,
   "metadata": {},
   "outputs": [
    {
     "name": "stdout",
     "output_type": "stream",
     "text": [
      "Ahmet Yılmaz\n",
      "name: Ahmet\n",
      " surname: Yılmaz\n",
      " age: 25\n",
      " job: Engineer\n"
     ]
    }
   ],
   "source": [
    "p1 = Person(\"Ahmet\", \"Yılmaz\", 25, \"Engineer\")\n",
    "print(p1.fullname())\n",
    "print(p1.info())"
   ]
  },
  {
   "cell_type": "code",
   "execution_count": 30,
   "metadata": {},
   "outputs": [
    {
     "name": "stdout",
     "output_type": "stream",
     "text": [
      "name: Ahmet\n",
      " surname: Yılmaz\n",
      " age: 25\n",
      " job: Engineer\n"
     ]
    }
   ],
   "source": [
    "# yaygın olmayan bir kullanım sadece görmek için \n",
    "# hani self parametresi nesnenin kendisini çağırdığını söyledik.\n",
    "# o zaman class üzerinden methodu çağıralım ve parametre olarak nesneyi gönderelim\n",
    "print(Person.info(p1))"
   ]
  },
  {
   "cell_type": "code",
   "execution_count": 31,
   "metadata": {},
   "outputs": [],
   "source": [
    "# method tanımlarken self yerine farklı bir anahtar kelime kullanabiliriz\n",
    "# fakat bu yazılımcılar arasında bir anlaşma olarak kabul edilmiş bir durum değildir\n",
    "# self yazılımcılar arasında bir anlaşma olarak kabul edilmiş bir durumdur\n",
    "class Person:\n",
    "    def __init__(self, name, surname, age, job):\n",
    "        self.name = name\n",
    "        self.surname = surname\n",
    "        self.age = age\n",
    "        self.job = job\n",
    "    \n",
    "    def fullname(kendim):\n",
    "        return f\"{kendim.name} {kendim.surname}\""
   ]
  },
  {
   "cell_type": "code",
   "execution_count": 32,
   "metadata": {},
   "outputs": [
    {
     "data": {
      "text/plain": [
       "'Ahmet Yılmaz'"
      ]
     },
     "execution_count": 32,
     "metadata": {},
     "output_type": "execute_result"
    }
   ],
   "source": [
    "p1 = Person(\"Ahmet\", \"Yılmaz\", 25, \"Engineer\")\n",
    "p1.fullname()"
   ]
  },
  {
   "cell_type": "markdown",
   "metadata": {},
   "source": [
    "# Class variable & Instance variable"
   ]
  },
  {
   "cell_type": "code",
   "execution_count": 33,
   "metadata": {},
   "outputs": [],
   "source": [
    "class Employee:\n",
    "    \"\"\"Employee class: name, surname, pay\"\"\"\n",
    "\n",
    "    \n",
    "    def __init__(self, name, surname, pay):\n",
    "        self.name = name\n",
    "        self.surname = surname\n",
    "        self.pay = pay\n",
    "\n",
    "    def fullname(self):\n",
    "        return f\"{self.name} {self.surname}\"\n",
    "\n",
    "    def apply_raise(self):\n",
    "        self.pay = int(self.pay * self.raise_amount) # self.raise_amount"
   ]
  },
  {
   "cell_type": "code",
   "execution_count": 34,
   "metadata": {},
   "outputs": [],
   "source": [
    "e1 = Employee(\"Ahmet\", \"Yılmaz\", 5000)\n",
    "e2 = Employee(\"Mehmet\", \"Yılmaz\", 6000)"
   ]
  },
  {
   "cell_type": "code",
   "execution_count": 35,
   "metadata": {},
   "outputs": [
    {
     "data": {
      "text/plain": [
       "{'name': 'Ahmet', 'surname': 'Yılmaz', 'pay': 5000}"
      ]
     },
     "execution_count": 35,
     "metadata": {},
     "output_type": "execute_result"
    }
   ],
   "source": [
    "e1.__dict__"
   ]
  },
  {
   "cell_type": "code",
   "execution_count": 36,
   "metadata": {},
   "outputs": [],
   "source": [
    "# şimdi bir tane de class variable tanımlayalım\n",
    "class Employee:\n",
    "    \"\"\"Employee class: name, surname, pay\"\"\"  # docstring\n",
    "\n",
    "    raise_amount = 1.04 # class variable\n",
    "\n",
    "    def __init__(self, name, surname, pay):\n",
    "        self.name = name\n",
    "        self.surname = surname\n",
    "        self.pay = pay\n",
    "\n",
    "    def fullname(self):\n",
    "        return f\"{self.name} {self.surname}\"\n",
    "\n",
    "    def apply_raise(self):\n",
    "        self.pay = int(self.pay * self.raise_amount) # self.raise_amount"
   ]
  },
  {
   "cell_type": "code",
   "execution_count": 37,
   "metadata": {},
   "outputs": [],
   "source": [
    "e1 = Employee(\"Ahmet\", \"Yılmaz\", 5000)\n",
    "e2 = Employee(\"Mehmet\", \"Yılmaz\", 6000)"
   ]
  },
  {
   "cell_type": "code",
   "execution_count": 38,
   "metadata": {},
   "outputs": [
    {
     "name": "stdout",
     "output_type": "stream",
     "text": [
      "1.04\n",
      "\n",
      "1.04\n",
      "\n",
      "1.04\n"
     ]
    }
   ],
   "source": [
    "print(Employee.raise_amount) # class variable, class üzerinden çağırılır\n",
    "print()\n",
    "print(e1.raise_amount) # class variable, instance üzerinden de erişilebilir. \n",
    "# ilk önce instance üzerinde arar, bulamazsa class üzerinde arar\n",
    "print()\n",
    "print(e2.raise_amount)"
   ]
  },
  {
   "cell_type": "code",
   "execution_count": 39,
   "metadata": {},
   "outputs": [
    {
     "data": {
      "text/plain": [
       "{'name': 'Ahmet', 'surname': 'Yılmaz', 'pay': 5000}"
      ]
     },
     "execution_count": 39,
     "metadata": {},
     "output_type": "execute_result"
    }
   ],
   "source": [
    "e1.__dict__  # e1 instance'ının özelliklerini ve metodlarını listeler"
   ]
  },
  {
   "cell_type": "code",
   "execution_count": 40,
   "metadata": {},
   "outputs": [
    {
     "name": "stdout",
     "output_type": "stream",
     "text": [
      "{'name': 'Mehmet', 'surname': 'Yılmaz', 'pay': 6000, 'raise_amount': 1.05}\n",
      "\n",
      "{'name': 'Ahmet', 'surname': 'Yılmaz', 'pay': 5000}\n",
      "\n",
      "{'__module__': '__main__', '__doc__': 'Employee class: name, surname, pay', 'raise_amount': 1.04, '__init__': <function Employee.__init__ at 0x7f3f3c384790>, 'fullname': <function Employee.fullname at 0x7f3f3c3848b0>, 'apply_raise': <function Employee.apply_raise at 0x7f3f3c384a60>, '__dict__': <attribute '__dict__' of 'Employee' objects>, '__weakref__': <attribute '__weakref__' of 'Employee' objects>}\n"
     ]
    }
   ],
   "source": [
    "e2.raise_amount = 1.05 # e2 instance'ına özel bir raise_amount değeri atadık\n",
    "print(e2.__dict__)\n",
    "print()\n",
    "print(e1.__dict__)\n",
    "print()\n",
    "print(Employee.__dict__)\n",
    "# e2 instance'ına özel bir raise_amount değeri atadık ve e2 instance'ının özelliklerini listelerken gördük"
   ]
  },
  {
   "cell_type": "markdown",
   "metadata": {},
   "source": [
    "Class variable (sınıf değişkeni) değerinin instance variable (örnek değişkeni) üzerinden değiştirilmesine \"gölgeleme\" (shadowing) denir. Gölgeleme durumu, bir sınıfın class variable değerini, aynı ismi taşıyan bir instance variable ile aynı anda kullanmaya çalıştığında ortaya çıkar. Bu durumda, instance variable, class variable'ı geçersiz kılar ve class variable değeri yerine instance variable değeri kullanılır. Instance variable üzerinden yapılan değişiklikler de, class variable'ı etkilemez, yani class variable değeri değişmez. "
   ]
  },
  {
   "cell_type": "code",
   "execution_count": 41,
   "metadata": {},
   "outputs": [
    {
     "name": "stdout",
     "output_type": "stream",
     "text": [
      "1.04\n",
      "1.04\n",
      "1.05\n"
     ]
    }
   ],
   "source": [
    "# şimdi class variable değerini class üzerinden ve instance üzerinden ekran çıktısı alalım\n",
    "print(Employee.raise_amount)\n",
    "print(e1.raise_amount)\n",
    "print(e2.raise_amount)\n",
    "# Burada dikkat edilmesi gereken instance üzerinden class variable değerini değiştirdiğimizde\n",
    "# class variable değeri değişmiyor. Sadece instance üzerindeki değer değişiyor"
   ]
  },
  {
   "cell_type": "code",
   "execution_count": 43,
   "metadata": {},
   "outputs": [
    {
     "ename": "AttributeError",
     "evalue": "type object 'Employee' has no attribute 'name'",
     "output_type": "error",
     "traceback": [
      "\u001b[0;31m---------------------------------------------------------------------------\u001b[0m",
      "\u001b[0;31mAttributeError\u001b[0m                            Traceback (most recent call last)",
      "Cell \u001b[0;32mIn[43], line 3\u001b[0m\n\u001b[1;32m      1\u001b[0m \u001b[39m# instance variable değerine class üzerinden erişmek istersek\u001b[39;00m\n\u001b[1;32m      2\u001b[0m \u001b[39m# hata alırız\u001b[39;00m\n\u001b[0;32m----> 3\u001b[0m \u001b[39mprint\u001b[39m(Employee\u001b[39m.\u001b[39;49mname)\n",
      "\u001b[0;31mAttributeError\u001b[0m: type object 'Employee' has no attribute 'name'"
     ]
    }
   ],
   "source": [
    "# instance variable değerine class üzerinden erişmek istersek\n",
    "# hata alırız\n",
    "print(Employee.name)"
   ]
  },
  {
   "cell_type": "code",
   "execution_count": 44,
   "metadata": {},
   "outputs": [],
   "source": [
    "# instance variable değeri her instance için kendine özeldir\n",
    "# class variable değeri tüm instance'lar için aynıdır\n",
    "# şimdi employee sayısını arttıralım ve bu sayıyı employee_count class variable'ı ile tutalım\n",
    "# Employee sayısını her arttırdığımızda employee_count değeri artacaktır\n",
    "\n",
    "class Employee:\n",
    "    employee_count = 0 # class variable\n",
    "\n",
    "    def __init__(self, name, surname, pay):\n",
    "        self.name = name\n",
    "        self.surname = surname\n",
    "        self.pay = pay\n",
    "        Employee.employee_count += 1 # class variable, instance oluşturulduğunda artacak, # self kullanmadık. Çünkü class variable"
   ]
  },
  {
   "cell_type": "code",
   "execution_count": 45,
   "metadata": {},
   "outputs": [
    {
     "name": "stdout",
     "output_type": "stream",
     "text": [
      "1\n",
      "2\n"
     ]
    }
   ],
   "source": [
    "e1 = Employee(\"Ahmet\", \"Yılmaz\", 5000)\n",
    "print(Employee.employee_count)\n",
    "e2 =  Employee(\"Mehmet\", \"Yılmaz\", 6000)\n",
    "print(Employee.employee_count)"
   ]
  },
  {
   "cell_type": "markdown",
   "metadata": {},
   "source": [
    "# Class method & Instance method"
   ]
  },
  {
   "cell_type": "code",
   "execution_count": 46,
   "metadata": {},
   "outputs": [],
   "source": [
    "class Person:\n",
    "    \n",
    "    def __init__(self, name, surname, age):\n",
    "        self.name = name\n",
    "        self.surname = surname\n",
    "        self.age = age\n",
    "\n",
    "    def fullname(self): # instance method\n",
    "        return f\"{self.name} {self.surname}\"\n",
    "    \n",
    "    def info(self): # instance method\n",
    "        return f\"name: {self.name} surname: {self.surname} nage: {self.age}\"\n",
    "    \n",
    "\n",
    "    \n"
   ]
  },
  {
   "cell_type": "code",
   "execution_count": 47,
   "metadata": {},
   "outputs": [],
   "source": [
    "p1 = Person(\"Ahmet\", \"Yılmaz\", 25)\n",
    "p2 = Person(\"Mehmet\", \"Yılmaz\", 30)"
   ]
  },
  {
   "cell_type": "code",
   "execution_count": 48,
   "metadata": {},
   "outputs": [
    {
     "data": {
      "text/plain": [
       "'name: Ahmet surname: Yılmaz nage: 25'"
      ]
     },
     "execution_count": 48,
     "metadata": {},
     "output_type": "execute_result"
    }
   ],
   "source": [
    "p1.info()"
   ]
  },
  {
   "cell_type": "code",
   "execution_count": 49,
   "metadata": {},
   "outputs": [
    {
     "ename": "TypeError",
     "evalue": "Person.info() missing 1 required positional argument: 'self'",
     "output_type": "error",
     "traceback": [
      "\u001b[0;31m---------------------------------------------------------------------------\u001b[0m",
      "\u001b[0;31mTypeError\u001b[0m                                 Traceback (most recent call last)",
      "Cell \u001b[0;32mIn[49], line 1\u001b[0m\n\u001b[0;32m----> 1\u001b[0m Person\u001b[39m.\u001b[39;49minfo()\n\u001b[1;32m      2\u001b[0m \u001b[39m# hata aldık. Çünkü instance methodu class üzerinden çağıramayız\u001b[39;00m\n\u001b[1;32m      3\u001b[0m \u001b[39m# Eğer instance methodu class üzerinden çağırmak istersek\u001b[39;00m\n\u001b[1;32m      4\u001b[0m \u001b[39m# parametre olarak instance göndermemiz gerekiyor\u001b[39;00m\n",
      "\u001b[0;31mTypeError\u001b[0m: Person.info() missing 1 required positional argument: 'self'"
     ]
    }
   ],
   "source": [
    "Person.info()\n",
    "# hata aldık. Çünkü instance methodu class üzerinden çağıramayız\n",
    "# Eğer instance methodu class üzerinden çağırmak istersek\n",
    "# parametre olarak instance göndermemiz gerekiyor"
   ]
  },
  {
   "cell_type": "code",
   "execution_count": 50,
   "metadata": {},
   "outputs": [
    {
     "data": {
      "text/plain": [
       "'name: Ahmet surname: Yılmaz nage: 25'"
      ]
     },
     "execution_count": 50,
     "metadata": {},
     "output_type": "execute_result"
    }
   ],
   "source": [
    "Person.info(p1)"
   ]
  },
  {
   "cell_type": "code",
   "execution_count": 51,
   "metadata": {},
   "outputs": [
    {
     "data": {
      "text/plain": [
       "'name: Ahmet surname: Yılmaz nage: 25'"
      ]
     },
     "execution_count": 51,
     "metadata": {},
     "output_type": "execute_result"
    }
   ],
   "source": [
    "# şimdi yaygın bir kullanımı görelim\n",
    "# instance methodu çağıralım\n",
    "p1.info()"
   ]
  },
  {
   "cell_type": "code",
   "execution_count": 52,
   "metadata": {},
   "outputs": [],
   "source": [
    "# class method tanımlayalım\n",
    "class Person:\n",
    "        employee_count = 0 # class variable\n",
    "        def __init__(self, name, surname, age):\n",
    "            self.name = name\n",
    "            self.surname = surname\n",
    "            self.age = age\n",
    "            Person.employee_count += 1 # class variable, instance oluşturulduğunda artacak, # self kullanmadık. Çünkü class variable\n",
    "        def fullname(self): # instance method\n",
    "            return f\"{self.name} {self.surname}\"\n",
    "        \n",
    "        def info(self): # instance method\n",
    "            return f\"name: {self.name} surname: {self.surname} nage: {self.age}\"\n",
    "        \n",
    "        @classmethod # class method\n",
    "        def number_of_employee(cls):\n",
    "            return f\"Number of employee: {cls.employee_count}\""
   ]
  },
  {
   "cell_type": "code",
   "execution_count": 53,
   "metadata": {},
   "outputs": [
    {
     "name": "stdout",
     "output_type": "stream",
     "text": [
      "Number of employee: 0\n"
     ]
    }
   ],
   "source": [
    "print(Person.number_of_employee())"
   ]
  },
  {
   "cell_type": "code",
   "execution_count": 54,
   "metadata": {},
   "outputs": [
    {
     "data": {
      "text/plain": [
       "'Number of employee: 2'"
      ]
     },
     "execution_count": 54,
     "metadata": {},
     "output_type": "execute_result"
    }
   ],
   "source": [
    "e1 = Person(\"Ahmet\", \"Yılmaz\", 25)\n",
    "e2 = Person(\"Mehmet\", \"Yılmaz\", 30)\n",
    "Person.number_of_employee()"
   ]
  },
  {
   "cell_type": "markdown",
   "metadata": {},
   "source": [
    "Görüldüğü üzere instance oluşturmadan da class methodu çağırabildik.\n",
    "Peki bu bizim ne işimize yarayacak?\n",
    "Consructor olarak kullanabiliriz. \n",
    "diyelimli personel kaydı yapacağız ve bu kaydı yaparken\n",
    "bize isim soyisim ve yaş bilgisi gerekli. Bu bilgiler bize string ve excell listesi olarak\n",
    "geldi varsayalım. Bu bilgileri istediğimiz formata çevirip personel kaydı yapabiliriz.\n"
   ]
  },
  {
   "cell_type": "code",
   "execution_count": 55,
   "metadata": {},
   "outputs": [],
   "source": [
    "# Şimdi bunu class method kullanarak yapalım.\n",
    "class Person:\n",
    "    def __init__(self, name, surname, age):\n",
    "        self.name = name\n",
    "        self.surname = surname\n",
    "        self.age = age\n",
    "    \n",
    "    @classmethod\n",
    "    def from_string(cls, string):\n",
    "        name, surname, age = string.split(\"-\")\n",
    "        return cls(name, surname, age)\n",
    "p1 = Person.from_string(\"Ahmet-Yılmaz-25\")"
   ]
  },
  {
   "cell_type": "code",
   "execution_count": 56,
   "metadata": {},
   "outputs": [
    {
     "data": {
      "text/plain": [
       "('Ahmet', 'Yılmaz', '25')"
      ]
     },
     "execution_count": 56,
     "metadata": {},
     "output_type": "execute_result"
    }
   ],
   "source": [
    "p1.name, p1.surname, p1.age"
   ]
  },
  {
   "cell_type": "code",
   "execution_count": 57,
   "metadata": {},
   "outputs": [],
   "source": [
    "# başka bir örnek\n",
    "class Person:\n",
    "    def __init__(self, name, surname, age):\n",
    "        self.name = name\n",
    "        self.surname = surname\n",
    "        self.age = age\n",
    "    \n",
    "    @classmethod\n",
    "    def from_string(cls, string):\n",
    "        name, surname, age = string.split(\"-\")\n",
    "        return cls(name, surname, age)\n",
    "    \n",
    "    @classmethod\n",
    "    def from_list(cls, lst:list):\n",
    "        name, surname, age = lst\n",
    "        return cls(name, surname, age)\n",
    "    \n",
    "    \n",
    "    \n",
    "\n",
    "p1 = Person.from_string(\"Ahmet-Yılmaz-25\")\n",
    "p2 = Person.from_list([\"Mehmet\", \"Yılmaz\", 30])"
   ]
  },
  {
   "cell_type": "code",
   "execution_count": 58,
   "metadata": {},
   "outputs": [
    {
     "data": {
      "text/plain": [
       "('Mehmet', 'Yılmaz', 30)"
      ]
     },
     "execution_count": 58,
     "metadata": {},
     "output_type": "execute_result"
    }
   ],
   "source": [
    "p2.name, p2.surname, p2.age"
   ]
  },
  {
   "cell_type": "code",
   "execution_count": 59,
   "metadata": {},
   "outputs": [
    {
     "data": {
      "text/plain": [
       "('Ahmet', 'Yılmaz', 33)"
      ]
     },
     "execution_count": 59,
     "metadata": {},
     "output_type": "execute_result"
    }
   ],
   "source": [
    "# başka bir örnek\n",
    "class Person:\n",
    "    def __init__(self, name, surname, age):\n",
    "        self.name = name\n",
    "        self.surname = surname\n",
    "        self.age = age\n",
    "    \n",
    "    @classmethod\n",
    "    def from_string(cls, string):\n",
    "        name, surname, age = string.split(\"-\")\n",
    "        return cls(name, surname, age)\n",
    "    \n",
    "    @classmethod\n",
    "    def from_list(cls, lst:list):\n",
    "        name, surname, age = lst\n",
    "        return cls(name, surname, age)\n",
    "    \n",
    "    @classmethod\n",
    "    def from_birth_year(cls, name, surname, birth_year):\n",
    "        return cls(name, surname, 2023 - birth_year)\n",
    "    \n",
    "    \n",
    "p1 = Person.from_birth_year(\"Ahmet\", \"Yılmaz\", 1990)    \n",
    "p1.name, p1.surname, p1.age"
   ]
  },
  {
   "cell_type": "code",
   "execution_count": 60,
   "metadata": {},
   "outputs": [],
   "source": [
    "# doğum yıl örneğimizi jenerik hale getirelim\n",
    "import datetime\n",
    "class Person:\n",
    "    def __init__(self, name, surname, age):\n",
    "        self.name = name\n",
    "        self.surname = surname\n",
    "        self.age = age\n",
    "    \n",
    "   \n",
    "    @classmethod\n",
    "    def from_birth_year(cls, name, surname, birth_year):\n",
    "        return cls(name, surname, datetime.datetime.now().year - birth_year)\n",
    "        "
   ]
  },
  {
   "cell_type": "code",
   "execution_count": 61,
   "metadata": {},
   "outputs": [
    {
     "data": {
      "text/plain": [
       "('Ahmet', 'Yılmaz', 33)"
      ]
     },
     "execution_count": 61,
     "metadata": {},
     "output_type": "execute_result"
    }
   ],
   "source": [
    "p1 = Person.from_birth_year(\"Ahmet\", \"Yılmaz\", 1990)\n",
    "p1.name, p1.surname, p1.age"
   ]
  },
  {
   "cell_type": "code",
   "execution_count": 62,
   "metadata": {},
   "outputs": [],
   "source": [
    "# şimdi from_birth_year örneğimizi class variable kullanarak yapalım\n",
    "import datetime\n",
    "class Person:\n",
    "    current_year = datetime.datetime.now().year\n",
    "    def __init__(self, name, surname, age):\n",
    "        self.name = name\n",
    "        self.surname = surname\n",
    "        self.age = age\n",
    "    \n",
    "   \n",
    "    @classmethod\n",
    "    def from_birth_year(cls, name, surname, birth_year):\n",
    "        return cls(name, surname, cls.current_year - birth_year)\n",
    "    \n",
    "    "
   ]
  },
  {
   "cell_type": "code",
   "execution_count": 63,
   "metadata": {},
   "outputs": [
    {
     "data": {
      "text/plain": [
       "('Ahmet', 'Yılmaz', 33)"
      ]
     },
     "execution_count": 63,
     "metadata": {},
     "output_type": "execute_result"
    }
   ],
   "source": [
    "p1 = Person.from_birth_year(\"Ahmet\", \"Yılmaz\", 1990)\n",
    "p1.name, p1.surname, p1.age"
   ]
  },
  {
   "cell_type": "markdown",
   "metadata": {},
   "source": [
    "# Decorator"
   ]
  },
  {
   "cell_type": "code",
   "execution_count": 64,
   "metadata": {},
   "outputs": [],
   "source": [
    "# decorator nedir? Decorator'lar bir fonksiyonu alıp, başka bir fonksiyon döndüren fonksiyonlardır.\n",
    "# decorator'lar fonksiyonları değiştirmek için kullanılır.\n",
    "# decorator'lar fonksiyonları değiştirmeden önce fonksiyonun içindeki kodları çalıştırır."
   ]
  },
  {
   "cell_type": "code",
   "execution_count": 65,
   "metadata": {},
   "outputs": [
    {
     "name": "stdout",
     "output_type": "stream",
     "text": [
      "fonksiyon çalıştı\n"
     ]
    }
   ],
   "source": [
    "# basit bir örnek yapalım\n",
    "# bolca tekrar yapalım\n",
    "def my_func():\n",
    "    print(\"fonksiyon çalıştı\")\n",
    "\n",
    "my_func()"
   ]
  },
  {
   "cell_type": "code",
   "execution_count": 66,
   "metadata": {},
   "outputs": [],
   "source": [
    "def zaman_hesapla(fonksiyon):\n",
    "    def wrapper(*args, **kwargs):\n",
    "        print(\"sarmalama başlıyor\")\n",
    "        import time\n",
    "        başlangıç = time.time()\n",
    "        time.sleep(2)\n",
    "        fonksiyon(*args, **kwargs)\n",
    "        bitiş = time.time()\n",
    "        print(\"fonksiyon çalışma süresi: \", bitiş - başlangıç)\n",
    "    return wrapper"
   ]
  },
  {
   "cell_type": "code",
   "execution_count": 67,
   "metadata": {},
   "outputs": [],
   "source": [
    "@zaman_hesapla\n",
    "def my_func(*args, **kwargs):\n",
    "    print(\"fonksiyon çalıştı\")\n"
   ]
  },
  {
   "cell_type": "code",
   "execution_count": 68,
   "metadata": {},
   "outputs": [
    {
     "name": "stdout",
     "output_type": "stream",
     "text": [
      "sarmalama başlıyor\n",
      "fonksiyon çalıştı\n",
      "fonksiyon çalışma süresi:  2.002119541168213\n"
     ]
    }
   ],
   "source": [
    "my_func()"
   ]
  },
  {
   "cell_type": "code",
   "execution_count": 69,
   "metadata": {},
   "outputs": [],
   "source": [
    "def topla1(a, b):\n",
    "    return a + b\n",
    "def topla2(*args, **kwargs):\n",
    "\n",
    "    return sum(args)"
   ]
  },
  {
   "cell_type": "code",
   "execution_count": 71,
   "metadata": {},
   "outputs": [
    {
     "ename": "TypeError",
     "evalue": "topla1() takes 2 positional arguments but 20 were given",
     "output_type": "error",
     "traceback": [
      "\u001b[0;31m---------------------------------------------------------------------------\u001b[0m",
      "\u001b[0;31mTypeError\u001b[0m                                 Traceback (most recent call last)",
      "Cell \u001b[0;32mIn[71], line 1\u001b[0m\n\u001b[0;32m----> 1\u001b[0m topla1(\u001b[39m1\u001b[39;49m,\u001b[39m2\u001b[39;49m,\u001b[39m3\u001b[39;49m,\u001b[39m4\u001b[39;49m,\u001b[39m5\u001b[39;49m,\u001b[39m6\u001b[39;49m,\u001b[39m7\u001b[39;49m,\u001b[39m8\u001b[39;49m,\u001b[39m9\u001b[39;49m,\u001b[39m10\u001b[39;49m,\u001b[39m11\u001b[39;49m,\u001b[39m12\u001b[39;49m,\u001b[39m13\u001b[39;49m,\u001b[39m14\u001b[39;49m,\u001b[39m15\u001b[39;49m,\u001b[39m16\u001b[39;49m,\u001b[39m17\u001b[39;49m,\u001b[39m18\u001b[39;49m,\u001b[39m19\u001b[39;49m,\u001b[39m20\u001b[39;49m)\n",
      "\u001b[0;31mTypeError\u001b[0m: topla1() takes 2 positional arguments but 20 were given"
     ]
    }
   ],
   "source": [
    "topla1(1,2,3,4,5,6,7,8,9,10,11,12,13,14,15,16,17,18,19,20)"
   ]
  },
  {
   "cell_type": "markdown",
   "metadata": {},
   "source": [
    "# class methodlar devamı: static method"
   ]
  },
  {
   "cell_type": "code",
   "execution_count": 72,
   "metadata": {},
   "outputs": [],
   "source": [
    "# statik method\n",
    "# statik methodlar sadece fonksiyon gibi çalışırlar.\n",
    "# self veya cls parametresi almazlar.\n"
   ]
  },
  {
   "cell_type": "code",
   "execution_count": 73,
   "metadata": {},
   "outputs": [],
   "source": [
    "class Person:\n",
    "    family_number = 4\n",
    "    def __init__(self, name, surname, age):\n",
    "        self.name = name\n",
    "        self.surname = surname\n",
    "        self.age = age\n",
    "    @staticmethod\n",
    "    def static_func(): # self ve cls parametresi almaz.\n",
    "        print(\"static method çalıştı\")\n"
   ]
  },
  {
   "cell_type": "code",
   "execution_count": 74,
   "metadata": {},
   "outputs": [
    {
     "name": "stdout",
     "output_type": "stream",
     "text": [
      "static method çalıştı\n"
     ]
    }
   ],
   "source": [
    "Person.static_func( )"
   ]
  },
  {
   "cell_type": "markdown",
   "metadata": {},
   "source": [
    "# Inheritance"
   ]
  },
  {
   "attachments": {},
   "cell_type": "markdown",
   "metadata": {},
   "source": [
    "# parent --> child'a miras verirken kullanılır\n",
    "# child --> parenttan miras alırken kullanılır\n",
    "\n"
   ]
  },
  {
   "cell_type": "code",
   "execution_count": 75,
   "metadata": {},
   "outputs": [],
   "source": [
    "class Person:\n",
    "\n",
    "    def __init__(self, name, surname, age):\n",
    "        self.name = name\n",
    "        self.surname = surname\n",
    "        self.age = age\n",
    "\n",
    "\n"
   ]
  },
  {
   "cell_type": "code",
   "execution_count": 76,
   "metadata": {},
   "outputs": [
    {
     "ename": "TypeError",
     "evalue": "Person.__init__() missing 3 required positional arguments: 'name', 'surname', and 'age'",
     "output_type": "error",
     "traceback": [
      "\u001b[0;31m---------------------------------------------------------------------------\u001b[0m",
      "\u001b[0;31mTypeError\u001b[0m                                 Traceback (most recent call last)",
      "Cell \u001b[0;32mIn[76], line 6\u001b[0m\n\u001b[1;32m      3\u001b[0m     \u001b[39mpass\u001b[39;00m\n\u001b[1;32m      4\u001b[0m \u001b[39m# Kalıtım yolu ile ilk sınıfımızı oluşturduk\u001b[39;00m\n\u001b[1;32m      5\u001b[0m \u001b[39m# şimdi Employee sınıfından bir nesne oluşturalım\u001b[39;00m\n\u001b[0;32m----> 6\u001b[0m e1 \u001b[39m=\u001b[39m Employee()\n",
      "\u001b[0;31mTypeError\u001b[0m: Person.__init__() missing 3 required positional arguments: 'name', 'surname', and 'age'"
     ]
    }
   ],
   "source": [
    "# Person sınıfından miras alan Employee sınıfı\n",
    "class Employee(Person):\n",
    "    pass\n",
    "# Kalıtım yolu ile ilk sınıfımızı oluşturduk\n",
    "# şimdi Employee sınıfından bir nesne oluşturalım\n",
    "e1 = Employee()"
   ]
  },
  {
   "cell_type": "code",
   "execution_count": 77,
   "metadata": {},
   "outputs": [],
   "source": [
    "# hata aldık çünkü Employee sınıfı Person sınıfından miras aldığı için\n",
    "# Önce __init__ metodunu class içinde arar ve bulursa çalıştırır.\n",
    "# Bulamazsa __init__ metodunu bulana kadar üst sınıfları arar.\n",
    "# Employee sınıfının __init__ metodu Person sınıfının __init__ metodu ile aynı olmalıdır.\n",
    "# sonraki örneklerde daha da genişleteceğiz\n"
   ]
  },
  {
   "cell_type": "code",
   "execution_count": 78,
   "metadata": {},
   "outputs": [
    {
     "name": "stdout",
     "output_type": "stream",
     "text": [
      "Ahmet Yılmaz 25\n"
     ]
    }
   ],
   "source": [
    "e1 = Employee(\"Ahmet\", \"Yılmaz\", 25)\n",
    "print(e1.name, e1.surname, e1.age)"
   ]
  },
  {
   "cell_type": "code",
   "execution_count": 79,
   "metadata": {},
   "outputs": [],
   "source": [
    "class Person:\n",
    "    country = \"Türkiye\"\n",
    "    def __init__(self, name, surname, age):\n",
    "        self.name = name\n",
    "        self.surname = surname\n",
    "        self.age = age"
   ]
  },
  {
   "cell_type": "code",
   "execution_count": 80,
   "metadata": {},
   "outputs": [
    {
     "name": "stdout",
     "output_type": "stream",
     "text": [
      "Türkiye\n",
      "Türkiye\n"
     ]
    }
   ],
   "source": [
    "class Employee(Person):\n",
    "    pass\n",
    "\n",
    "# class üzerinden class variable çağırmak\n",
    "print(Employee.country)\n",
    "# instance üzerinden class variable çağırmak\n",
    "e1 = Employee(\"Ahmet\", \"Yılmaz\", 25)\n",
    "print(e1.country)"
   ]
  },
  {
   "cell_type": "code",
   "execution_count": 81,
   "metadata": {},
   "outputs": [],
   "source": [
    "# şimdi Employee sınıfına bir class variable ekleyelim\n",
    "class Employee(Person):\n",
    "    company = \"ABC\"\n"
   ]
  },
  {
   "cell_type": "code",
   "execution_count": 82,
   "metadata": {},
   "outputs": [
    {
     "data": {
      "text/plain": [
       "('ABC', 'Türkiye')"
      ]
     },
     "execution_count": 82,
     "metadata": {},
     "output_type": "execute_result"
    }
   ],
   "source": [
    "Employee.company, Employee.country"
   ]
  },
  {
   "cell_type": "code",
   "execution_count": 83,
   "metadata": {},
   "outputs": [],
   "source": [
    "# şimdi bir tane de method ekleyelim\n",
    "class Person:\n",
    "    country = \"Türkiye\"\n",
    "    def __init__(self, name, surname, age):\n",
    "        self.name = name\n",
    "        self.surname = surname\n",
    "        self.age = age\n",
    "    def show_info(self):\n",
    "        print(\"Person SINIFI show_info metodu\")\n",
    "        print(f\"{self.name} {self.surname} {self.age} {self.country}\")"
   ]
  },
  {
   "cell_type": "code",
   "execution_count": 84,
   "metadata": {},
   "outputs": [
    {
     "name": "stdout",
     "output_type": "stream",
     "text": [
      "Person SINIFI show_info metodu\n",
      "Ahmet Yılmaz 25 Türkiye\n"
     ]
    }
   ],
   "source": [
    "p1 = Person(\"Ahmet\", \"Yılmaz\", 25)\n",
    "p1.show_info()"
   ]
  },
  {
   "cell_type": "code",
   "execution_count": 85,
   "metadata": {},
   "outputs": [],
   "source": [
    "class Employee(Person):\n",
    "    company = \"ABC\"\n",
    "    raise_rate = 1.5\n"
   ]
  },
  {
   "cell_type": "code",
   "execution_count": 86,
   "metadata": {},
   "outputs": [
    {
     "name": "stdout",
     "output_type": "stream",
     "text": [
      "Person SINIFI show_info metodu\n",
      "Ahmet Yılmaz 25 Türkiye\n"
     ]
    }
   ],
   "source": [
    "e1 = Employee(\"Ahmet\", \"Yılmaz\", 25)\n",
    "e1.show_info()"
   ]
  },
  {
   "cell_type": "code",
   "execution_count": 87,
   "metadata": {},
   "outputs": [],
   "source": [
    "# şimdi Person sınıfının show_info metodunu override edelim\n",
    "class Employee(Person):\n",
    "    company = \"ABC\"\n",
    "    raise_rate = 1.1\n",
    "    def show_info(self):\n",
    "        print(\"Employee sınıfı show_info metodu\")\n",
    "        print(f\"{self.name} {self.surname} {self.age} {self.country} {self.company} {self.raise_rate}\")"
   ]
  },
  {
   "cell_type": "code",
   "execution_count": 88,
   "metadata": {},
   "outputs": [
    {
     "name": "stdout",
     "output_type": "stream",
     "text": [
      "Employee sınıfı show_info metodu\n",
      "Ahmet Yılmaz 25 Türkiye ABC 1.1\n"
     ]
    }
   ],
   "source": [
    "e1 = Employee(\"Ahmet\", \"Yılmaz\", 25)\n",
    "e1.show_info()"
   ]
  },
  {
   "cell_type": "code",
   "execution_count": 89,
   "metadata": {},
   "outputs": [],
   "source": [
    "# şimdi Employee sınıfına __init__ metodu ekleyelim\n",
    "# __init__ metodu Person sınıfının __init__ metodu ile aynı olmalıdır.\n",
    "# ekstra özellikler ekleyebiliriz.\n",
    "class Employee(Person):\n",
    "    company = \"ABC\"\n",
    "    raise_rate = 1.1\n",
    "    def __init__(self, name, surname, age, salary):\n",
    "        self.name = name\n",
    "        self.surname = surname\n",
    "        self.age = age\n",
    "        self.salary = salary\n",
    "    def show_info(self):\n",
    "        print(\"Employee sınıfı show_info metodu\")\n",
    "        print(f\"{self.name} {self.surname} {self.age} {self.country} {self.company} {self.raise_rate} {self.salary}\")"
   ]
  },
  {
   "cell_type": "code",
   "execution_count": 90,
   "metadata": {},
   "outputs": [
    {
     "name": "stdout",
     "output_type": "stream",
     "text": [
      "Employee sınıfı show_info metodu\n",
      "Ahmet Yılmaz 25 Türkiye ABC 1.1 5000\n"
     ]
    }
   ],
   "source": [
    "e1 = Employee(\"Ahmet\", \"Yılmaz\", 25, 5000)\n",
    "e1.show_info()"
   ]
  },
  {
   "cell_type": "code",
   "execution_count": 91,
   "metadata": {},
   "outputs": [],
   "source": [
    "# __init__ metodunu oluştururken super() fonksiyonunu kullanabiliriz.\n",
    "# super() fonksiyonu ile üst sınıfın __init__ metodunu çağırabiliriz.\n",
    "class Employee(Person):\n",
    "    company = \"ABC\"\n",
    "    def __init__(self, name, surname, age, salary, raise_rate):\n",
    "        super().__init__(name, surname, age)\n",
    "        self.salary = salary\n",
    "        self.raise_rate = raise_rate\n",
    "    def show_info2(self):\n",
    "        print(\"Employee sınıfı show_info metodu\")\n",
    "        print(f\"{self.name} {self.surname} {self.age} {self.country} {self.company} {self.raise_rate} {self.salary}\")\n",
    "    def raise_salary(self):\n",
    "        self.salary = self.salary * self.raise_rate\n",
    "        return self.salary"
   ]
  },
  {
   "cell_type": "code",
   "execution_count": 92,
   "metadata": {},
   "outputs": [
    {
     "name": "stdout",
     "output_type": "stream",
     "text": [
      "Employee sınıfı show_info metodu\n",
      "Ahmet Yılmaz 25 Türkiye ABC 1.1 5000\n"
     ]
    }
   ],
   "source": [
    "e1 = Employee(\"Ahmet\", \"Yılmaz\", 25, 5000, 1.1)\n",
    "e1.show_info2()\n"
   ]
  },
  {
   "cell_type": "code",
   "execution_count": 93,
   "metadata": {},
   "outputs": [
    {
     "name": "stdout",
     "output_type": "stream",
     "text": [
      "Person SINIFI show_info metodu\n",
      "Ahmet Yılmaz 25 Türkiye\n"
     ]
    }
   ],
   "source": [
    "e1.show_info()"
   ]
  },
  {
   "cell_type": "code",
   "execution_count": 94,
   "metadata": {},
   "outputs": [
    {
     "data": {
      "text/plain": [
       "5500.0"
      ]
     },
     "execution_count": 94,
     "metadata": {},
     "output_type": "execute_result"
    }
   ],
   "source": [
    "e1.raise_salary()"
   ]
  },
  {
   "cell_type": "markdown",
   "metadata": {},
   "source": [
    "# Admin adına yeni bir sınıf oluşturalım\n",
    "# bu sınıf Employee sınıfından miras alsın"
   ]
  },
  {
   "cell_type": "code",
   "execution_count": 95,
   "metadata": {},
   "outputs": [],
   "source": [
    "class Admin(Employee):\n",
    "    pass"
   ]
  },
  {
   "cell_type": "code",
   "execution_count": 96,
   "metadata": {},
   "outputs": [],
   "source": [
    "a1 = Admin(\"Ahmet\", \"Yılmaz\", 25, 5000, 1.1)"
   ]
  },
  {
   "cell_type": "code",
   "execution_count": 97,
   "metadata": {},
   "outputs": [
    {
     "name": "stdout",
     "output_type": "stream",
     "text": [
      "Person SINIFI show_info metodu\n",
      "Ahmet Yılmaz 25 Türkiye\n"
     ]
    }
   ],
   "source": [
    "a1.show_info()"
   ]
  },
  {
   "cell_type": "code",
   "execution_count": 98,
   "metadata": {},
   "outputs": [
    {
     "name": "stdout",
     "output_type": "stream",
     "text": [
      "Employee sınıfı show_info metodu\n",
      "Ahmet Yılmaz 25 Türkiye ABC 1.1 5000\n"
     ]
    }
   ],
   "source": [
    "a1.show_info2()"
   ]
  },
  {
   "cell_type": "code",
   "execution_count": 99,
   "metadata": {},
   "outputs": [],
   "source": [
    "class Admin(Employee):\n",
    "    def __init__(self, name, surname, age, salary, raise_rate, department, employee_info = None):\n",
    "        super().__init__(name, surname, age, salary, raise_rate)\n",
    "        self.department = department\n",
    "        if employee_info is None:\n",
    "            self.employee_info = []\n",
    "        else:\n",
    "            self.employee_info = employee_info\n",
    "    def add_employee(self, employee):\n",
    "        if employee not in self.employee_info:\n",
    "            self.employee_info.append(employee)\n",
    "    def remove_employee(self, employee):\n",
    "        if employee in self.employee_info:\n",
    "            self.employee_info.remove(employee)\n",
    "    def show_employee_info(self):\n",
    "        for employee in self.employee_info:\n",
    "            print(f\"{employee.name} {employee.surname} {employee.age} {employee.salary} {employee.raise_rate}\")\n",
    "    def show_admin_info(self):\n",
    "        print(f\"{self.name} {self.surname} {self.age} {self.salary} {self.raise_rate} {self.department}\")\n",
    "    "
   ]
  },
  {
   "cell_type": "code",
   "execution_count": 100,
   "metadata": {},
   "outputs": [
    {
     "name": "stdout",
     "output_type": "stream",
     "text": [
      "Person SINIFI show_info metodu\n",
      "Ahmet Yılmaz 25 Türkiye\n"
     ]
    }
   ],
   "source": [
    "# miras aldığımız methodları çağırabiliriz\n",
    "a1 = Admin(\"Ahmet\", \"Yılmaz\", 25, 5000, 1.1, \"IT\")\n",
    "a1.show_info()"
   ]
  },
  {
   "cell_type": "code",
   "execution_count": 101,
   "metadata": {},
   "outputs": [
    {
     "name": "stdout",
     "output_type": "stream",
     "text": [
      "Employee sınıfı show_info metodu\n",
      "Ahmet Yılmaz 25 Türkiye ABC 1.1 5000\n"
     ]
    }
   ],
   "source": [
    "# miras aldığımız methodları çağırabiliriz\n",
    "a1.show_info2()"
   ]
  },
  {
   "cell_type": "code",
   "execution_count": 102,
   "metadata": {},
   "outputs": [],
   "source": [
    "# şimdi yönetime birkaç çalışan ekleyelim\n",
    "e1 = Employee(\"Ahmet\", \"Yılmaz\", 25, 5000, 1.1)\n",
    "e2 = Employee(\"Veli\", \"Demir\", 30, 6000, 1.2)\n",
    "e3 = Employee(\"Ayşe\", \"Kara\", 35, 7000, 1.3)\n",
    "a1.add_employee(e1)\n",
    "a1.add_employee(e2)\n",
    "a1.add_employee(e3)"
   ]
  },
  {
   "cell_type": "code",
   "execution_count": 103,
   "metadata": {},
   "outputs": [
    {
     "name": "stdout",
     "output_type": "stream",
     "text": [
      "Ahmet Yılmaz 25 5000 1.1\n",
      "Veli Demir 30 6000 1.2\n",
      "Ayşe Kara 35 7000 1.3\n"
     ]
    }
   ],
   "source": [
    "a1.show_employee_info()"
   ]
  },
  {
   "cell_type": "code",
   "execution_count": 104,
   "metadata": {},
   "outputs": [
    {
     "name": "stdout",
     "output_type": "stream",
     "text": [
      "Ahmet Yılmaz 25 5000 1.1 IT\n"
     ]
    }
   ],
   "source": [
    "a1.show_admin_info()"
   ]
  },
  {
   "cell_type": "code",
   "execution_count": 105,
   "metadata": {},
   "outputs": [],
   "source": [
    "# çalışan silme\n",
    "a1.remove_employee(e2)"
   ]
  },
  {
   "cell_type": "code",
   "execution_count": 106,
   "metadata": {},
   "outputs": [
    {
     "name": "stdout",
     "output_type": "stream",
     "text": [
      "Ahmet Yılmaz 25 5000 1.1\n",
      "Ayşe Kara 35 7000 1.3\n"
     ]
    }
   ],
   "source": [
    "a1.show_employee_info()"
   ]
  },
  {
   "cell_type": "code",
   "execution_count": 155,
   "metadata": {},
   "outputs": [],
   "source": [
    "class Admin(Employee):\n",
    "    def __init__(self, name, surname, age, salary, raise_rate, department, employee_info = None):\n",
    "        super().__init__(name, surname, age, salary, raise_rate)\n",
    "        self.department = department\n",
    "        if employee_info is None:\n",
    "            self.employee_info = []\n",
    "        else:\n",
    "            self.employee_info = employee_info\n",
    "    def add_employee(self, employee):\n",
    "        if employee not in self.employee_info:\n",
    "            self.employee_info.append(employee)\n",
    "\n",
    "    def remove_employee(self, employee):\n",
    "        if employee in self.employee_info:\n",
    "            self.employee_info.remove(employee)\n",
    "\n",
    "    def show_employee_info(self): # kalıtım aldığımız methodu kullanabiliriz PErson sınıfındaki show_info metodu\n",
    "        for employee in self.employee_info:\n",
    "            employee.show_info()\n",
    "\n",
    "    def show_employee_info2(self): # kalıtım aldığımız methodu kullanabiliriz. Employee sınıfındaki show_info2 metodu\n",
    "        for employee in self.employee_info:\n",
    "            employee.show_info2()\n",
    "    \n",
    "    def show_employee_info3(self):\n",
    "        for employee in self.employee_info:\n",
    "            print(employee.__dict__)\n",
    "\n",
    "    def show_admin_info(self):\n",
    "        print(f\"{self.name} {self.surname} {self.age} {self.salary} {self.raise_rate} {self.department}\")\n",
    "\n"
   ]
  },
  {
   "cell_type": "code",
   "execution_count": 156,
   "metadata": {},
   "outputs": [],
   "source": [
    "a1 = (Admin(\"Ahmet\", \"Yılmaz\", 25, 5000, 1.1, \"IT\"))"
   ]
  },
  {
   "cell_type": "code",
   "execution_count": 157,
   "metadata": {},
   "outputs": [],
   "source": [
    "a1.add_employee(e1)\n",
    "a1.add_employee(e2)\n",
    "a1.add_employee(e3)"
   ]
  },
  {
   "cell_type": "code",
   "execution_count": 158,
   "metadata": {},
   "outputs": [
    {
     "name": "stdout",
     "output_type": "stream",
     "text": [
      "Person SINIFI show_info metodu\n",
      "Ahmet Yılmaz 25 Türkiye\n",
      "Person SINIFI show_info metodu\n",
      "Veli Demir 30 Türkiye\n",
      "Person SINIFI show_info metodu\n",
      "Ayşe Kara 35 Türkiye\n"
     ]
    }
   ],
   "source": [
    "a1.show_employee_info()"
   ]
  },
  {
   "cell_type": "code",
   "execution_count": 159,
   "metadata": {},
   "outputs": [
    {
     "name": "stdout",
     "output_type": "stream",
     "text": [
      "Employee sınıfı show_info metodu\n",
      "Ahmet Yılmaz 25 Türkiye ABC 1.1 5000\n",
      "Employee sınıfı show_info metodu\n",
      "Veli Demir 30 Türkiye ABC 1.2 6000\n",
      "Employee sınıfı show_info metodu\n",
      "Ayşe Kara 35 Türkiye ABC 1.3 7000\n"
     ]
    }
   ],
   "source": [
    "a1.show_employee_info2()"
   ]
  },
  {
   "cell_type": "code",
   "execution_count": 160,
   "metadata": {},
   "outputs": [
    {
     "name": "stdout",
     "output_type": "stream",
     "text": [
      "{'name': 'Ahmet', 'surname': 'Yılmaz', 'age': 25, 'salary': 5000, 'raise_rate': 1.1}\n",
      "{'name': 'Veli', 'surname': 'Demir', 'age': 30, 'salary': 6000, 'raise_rate': 1.2}\n",
      "{'name': 'Ayşe', 'surname': 'Kara', 'age': 35, 'salary': 7000, 'raise_rate': 1.3}\n"
     ]
    }
   ],
   "source": [
    "a1.show_employee_info3()"
   ]
  },
  {
   "cell_type": "code",
   "execution_count": 154,
   "metadata": {},
   "outputs": [
    {
     "name": "stdout",
     "output_type": "stream",
     "text": [
      "Ahmet Yılmaz 25 5000 1.1 IT\n"
     ]
    }
   ],
   "source": [
    "a1.show_admin_info()"
   ]
  },
  {
   "cell_type": "code",
   "execution_count": 161,
   "metadata": {},
   "outputs": [],
   "source": [
    "# şimdi yönetici için çalışanları elle girelim\n",
    "a2 = Admin(\"Mehmet\", \"Yılmaz\", 25, 5000, 1.1, \"Finance\", [e1, e2, e3])"
   ]
  },
  {
   "cell_type": "code",
   "execution_count": 162,
   "metadata": {},
   "outputs": [
    {
     "name": "stdout",
     "output_type": "stream",
     "text": [
      "Person SINIFI show_info metodu\n",
      "Ahmet Yılmaz 25 Türkiye\n",
      "Person SINIFI show_info metodu\n",
      "Veli Demir 30 Türkiye\n",
      "Person SINIFI show_info metodu\n",
      "Ayşe Kara 35 Türkiye\n"
     ]
    }
   ],
   "source": [
    "a2.show_employee_info()"
   ]
  },
  {
   "cell_type": "code",
   "execution_count": 168,
   "metadata": {},
   "outputs": [
    {
     "name": "stdout",
     "output_type": "stream",
     "text": [
      "True\n",
      "False\n"
     ]
    }
   ],
   "source": [
    "# şimdi bir nesnenin hangi sınıftan türetildiğini öğrenmek için isinstance fonksiyonunu kullanabiliriz\n",
    "print(isinstance(p1, Person))\n",
    "print(isinstance(p1, Employee))\n"
   ]
  },
  {
   "cell_type": "code",
   "execution_count": null,
   "metadata": {},
   "outputs": [],
   "source": []
  },
  {
   "cell_type": "code",
   "execution_count": 172,
   "metadata": {},
   "outputs": [
    {
     "name": "stdout",
     "output_type": "stream",
     "text": [
      "True\n"
     ]
    }
   ],
   "source": [
    "print(isinstance(e1, Person)) # miras aldığımız sınıfın nesnesi de bir Person nesnesidir"
   ]
  },
  {
   "cell_type": "code",
   "execution_count": 169,
   "metadata": {},
   "outputs": [
    {
     "name": "stdout",
     "output_type": "stream",
     "text": [
      "True\n"
     ]
    }
   ],
   "source": [
    "# şimdi miras alınan sınıfların hangi sınıftan türetildiğini öğrenmek için issubclass fonksiyonunu kullanabiliriz\n",
    "print(issubclass(Employee, Person))"
   ]
  },
  {
   "cell_type": "code",
   "execution_count": 170,
   "metadata": {},
   "outputs": [
    {
     "name": "stdout",
     "output_type": "stream",
     "text": [
      "True\n"
     ]
    }
   ],
   "source": [
    "print(issubclass(Admin, Employee))"
   ]
  },
  {
   "cell_type": "code",
   "execution_count": 171,
   "metadata": {},
   "outputs": [
    {
     "name": "stdout",
     "output_type": "stream",
     "text": [
      "True\n"
     ]
    }
   ],
   "source": [
    "print(issubclass(Admin, Person))"
   ]
  },
  {
   "cell_type": "code",
   "execution_count": 174,
   "metadata": {},
   "outputs": [],
   "source": [
    "class MyFirstClass:\n",
    "    \n",
    "    def __str__(self):\n",
    "        return \"MyFirstClass\""
   ]
  },
  {
   "cell_type": "code",
   "execution_count": 175,
   "metadata": {},
   "outputs": [],
   "source": [
    "cls = MyFirstClass()"
   ]
  },
  {
   "cell_type": "code",
   "execution_count": 177,
   "metadata": {},
   "outputs": [
    {
     "data": {
      "text/plain": [
       "'MyFirstClass'"
      ]
     },
     "execution_count": 177,
     "metadata": {},
     "output_type": "execute_result"
    }
   ],
   "source": [
    "cls.__str__()"
   ]
  },
  {
   "cell_type": "code",
   "execution_count": null,
   "metadata": {},
   "outputs": [],
   "source": []
  }
 ],
 "metadata": {
  "kernelspec": {
   "display_name": "fullstack",
   "language": "python",
   "name": "python3"
  },
  "language_info": {
   "codemirror_mode": {
    "name": "ipython",
    "version": 3
   },
   "file_extension": ".py",
   "mimetype": "text/x-python",
   "name": "python",
   "nbconvert_exporter": "python",
   "pygments_lexer": "ipython3",
   "version": "3.10.6"
  },
  "orig_nbformat": 4
 },
 "nbformat": 4,
 "nbformat_minor": 2
}
