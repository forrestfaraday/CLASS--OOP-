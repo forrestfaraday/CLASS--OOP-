{
 "cells": [
  {
   "attachments": {},
   "cell_type": "markdown",
   "metadata": {},
   "source": [
    "**Problem Durumları:**\n",
    "\n",
    "1- Bazı öğrenciler isimlerinin başına ünvanlarını yazmışlar. Örneğin: \"Dr. Ahmet Yılmaz\" gibi. Bu durumda isimlerin başındaki ünvanları silmek istiyoruz.\n",
    "\n",
    "2- Her öğrencinin bir soyadı var. Fakat bazı öğrencilerin birden fazla ismi var. Birden fazla isimleri olan öğrencilerin ilk isimlerini ilk harfini alıp geri kalan isimlerini yazmak istiyoru. Örneğin: Ahmet Mehmet Yılmaz -> A. Mehmet Yılmaz şeklinde.\n",
    "\n",
    "2- Vizenin ve finalin ortalamasını alıp, bu ortalamaya göre harf notu vermek istiyoruz. Vize notu %40, final notu %60 ağırlıkta olacak şekilde. 85-100 arası AA, 70-84 arası BB, 55-69 arası CC, 40-54 arası DD, 0-39 arası FF notları verilecek.\n",
    "\n",
    "3- Öğrencilerin isimlerini ve notlarını bir dosyaya yazdırmak istiyoruz. Fakat dosyanın en başına sırası ile öğrenci no, isim, vize, final ve harf notu yazılacak."
   ]
  },
  {
   "attachments": {},
   "cell_type": "markdown",
   "metadata": {},
   "source": [
    "# 1"
   ]
  },
  {
   "cell_type": "code",
   "execution_count": 49,
   "metadata": {},
   "outputs": [
    {
     "data": {
      "text/plain": [
       "'1\\t\\tDoç. Basriye Asu Aslan Yılmaz\\n'"
      ]
     },
     "execution_count": 49,
     "metadata": {},
     "output_type": "execute_result"
    }
   ],
   "source": [
    "# 1- Önce öğrenci listesini okuyalım\n",
    "# Hatırlayalım. f.readlines() ile dosyayı okuyup, her satırı bir eleman olarak bir liste oluşturur. \n",
    "# listeler bize veri manipülasyonu yapmamızı sağlar.\n",
    "\n",
    "with open(\"öğrenci-listesi.txt\") as f:\n",
    "    öğrenciler = f.readlines()\n",
    "\n",
    "# ünvan kısaltmaları isim ve soy isimden önce geliyor.\".\" ile bitiyor.\n",
    "öğrenciler[1]"
   ]
  },
  {
   "cell_type": "code",
   "execution_count": 50,
   "metadata": {},
   "outputs": [],
   "source": [
    "öğr_no = [i.split(\"\\t\\t\")[0] for i in öğrenciler]\n",
    "isim_soyisim = [i.split(\"\\t\\t\")[1] for i in öğrenciler]"
   ]
  },
  {
   "cell_type": "code",
   "execution_count": 51,
   "metadata": {},
   "outputs": [
    {
     "data": {
      "text/plain": [
       "('1', 'Doç. Basriye Asu Aslan Yılmaz\\n')"
      ]
     },
     "execution_count": 51,
     "metadata": {},
     "output_type": "execute_result"
    }
   ],
   "source": [
    "öğr_no[1], isim_soyisim[1]"
   ]
  },
  {
   "cell_type": "code",
   "execution_count": 52,
   "metadata": {},
   "outputs": [
    {
     "data": {
      "text/plain": [
       "' Gülfari Bilgin İnönü\\n'"
      ]
     },
     "execution_count": 52,
     "metadata": {},
     "output_type": "execute_result"
    }
   ],
   "source": [
    "# şimdi ünvanları silelim. \".\" ile bitenleri bulalım.\n",
    "isim_soyisim2 = [i.split(\".\")[1] for i in isim_soyisim if \".\" in i] \n",
    "isim_soyisim2[1]"
   ]
  },
  {
   "cell_type": "code",
   "execution_count": 53,
   "metadata": {},
   "outputs": [
    {
     "data": {
      "text/plain": [
       "(1397, 5000)"
      ]
     },
     "execution_count": 53,
     "metadata": {},
     "output_type": "execute_result"
    }
   ],
   "source": [
    "# burada neden farklı geldi arkadaşlar. çünkü if koşuluna uyanları aldık sadece. yani kısaltma olanları.\n",
    "len(isim_soyisim2), len(isim_soyisim)"
   ]
  },
  {
   "cell_type": "code",
   "execution_count": 54,
   "metadata": {},
   "outputs": [],
   "source": [
    "# şimdi doğru şekilde yapalım\n",
    "isim_soyisim2 = [i.split(\".\")[1] if \".\" in i else i for i in isim_soyisim]"
   ]
  },
  {
   "cell_type": "code",
   "execution_count": 55,
   "metadata": {},
   "outputs": [
    {
     "data": {
      "text/plain": [
       "' Basriye Asu Aslan Yılmaz\\n'"
      ]
     },
     "execution_count": 55,
     "metadata": {},
     "output_type": "execute_result"
    }
   ],
   "source": [
    "isim_soyisim2[1]"
   ]
  },
  {
   "attachments": {},
   "cell_type": "markdown",
   "metadata": {},
   "source": [
    "### 2- Her öğrencinin bir soyadı var. Fakat bazı öğrencilerin birden fazla ismi var. Birden fazla isimleri olan öğrencilerin ilk isimlerini ilk harfini alıp geri kalan isimlerini yazmak istiyoru. Örneğin: Ahmet Mehmet Yılmaz -> A. Mehmet Yılmaz şeklinde."
   ]
  },
  {
   "cell_type": "code",
   "execution_count": null,
   "metadata": {},
   "outputs": [],
   "source": [
    "[for i in ]"
   ]
  }
 ],
 "metadata": {
  "kernelspec": {
   "display_name": "Python 3",
   "language": "python",
   "name": "python3"
  },
  "language_info": {
   "codemirror_mode": {
    "name": "ipython",
    "version": 3
   },
   "file_extension": ".py",
   "mimetype": "text/x-python",
   "name": "python",
   "nbconvert_exporter": "python",
   "pygments_lexer": "ipython3",
   "version": "3.10.6"
  },
  "orig_nbformat": 4
 },
 "nbformat": 4,
 "nbformat_minor": 2
}
