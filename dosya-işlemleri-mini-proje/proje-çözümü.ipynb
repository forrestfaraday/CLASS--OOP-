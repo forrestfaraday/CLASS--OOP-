{
 "cells": [
  {
   "attachments": {},
   "cell_type": "markdown",
   "metadata": {},
   "source": [
    "**Problem Durumları:**\n",
    "\n",
    "1- Bazı öğrenciler isimlerinin başına ünvanlarını yazmışlar. Örneğin: \"Dr. Ahmet Yılmaz\" gibi. Bu durumda isimlerin başındaki ünvanları silmek istiyoruz.\n",
    "\n",
    "2- Her öğrencinin bir soyadı var. Fakat bazı öğrencilerin birden fazla ismi var. Birden fazla isimleri olan öğrencilerin ilk isimlerini ilk harfini alıp geri kalan isimlerini yazmak istiyoru. Örneğin: Ahmet Mehmet Yılmaz -> A. Mehmet Yılmaz şeklinde.\n",
    "\n",
    "2- Vizenin ve finalin ortalamasını alıp, bu ortalamaya göre harf notu vermek istiyoruz. Vize notu %40, final notu %60 ağırlıkta olacak şekilde. 85-100 arası AA, 70-84 arası BB, 55-69 arası CC, 40-54 arası DD, 0-39 arası FF notları verilecek.\n",
    "\n",
    "3- Öğrencilerin isimlerini ve notlarını bir dosyaya yazdırmak istiyoruz. Fakat dosyanın en başına sırası ile öğrenci no, isim, vize, final ve harf notu yazılacak."
   ]
  },
  {
   "cell_type": "code",
   "execution_count": 5,
   "metadata": {},
   "outputs": [
    {
     "data": {
      "text/plain": [
       "'1\\t\\tDoç. Basriye Asu Aslan Yılmaz\\n'"
      ]
     },
     "execution_count": 5,
     "metadata": {},
     "output_type": "execute_result"
    }
   ],
   "source": [
    "# 1- Önce öğrenci listesini okuyalım\n",
    "# Hatırlayalım. f.readlines() ile dosyayı okuyup, her satırı bir eleman olarak bir liste oluşturur. \n",
    "# listeler bize veri manipülasyonu yapmamızı sağlar.\n",
    "\n",
    "with open(\"öğrenci-listesi.txt\") as f:\n",
    "    ogrenciler = f.readlines()\n",
    "\n",
    "# ünvan kısaltmaları isim ve soy isimden önce geliyor.\".\" ile bitiyor.\n",
    "ogrenciler[1]"
   ]
  },
  {
   "cell_type": "code",
   "execution_count": null,
   "metadata": {},
   "outputs": [],
   "source": []
  }
 ],
 "metadata": {
  "kernelspec": {
   "display_name": "Python 3",
   "language": "python",
   "name": "python3"
  },
  "language_info": {
   "codemirror_mode": {
    "name": "ipython",
    "version": 3
   },
   "file_extension": ".py",
   "mimetype": "text/x-python",
   "name": "python",
   "nbconvert_exporter": "python",
   "pygments_lexer": "ipython3",
   "version": "3.10.6"
  },
  "orig_nbformat": 4
 },
 "nbformat": 4,
 "nbformat_minor": 2
}
